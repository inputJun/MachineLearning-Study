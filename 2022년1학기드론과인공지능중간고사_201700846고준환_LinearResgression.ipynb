{
  "nbformat": 4,
  "nbformat_minor": 0,
  "metadata": {
    "colab": {
      "name": "2022년1학기드론과인공지능중간고사_201700846고준환_LinearResgression.ipynb",
      "provenance": [],
      "include_colab_link": true
    },
    "kernelspec": {
      "name": "python3",
      "display_name": "Python 3"
    },
    "language_info": {
      "name": "python"
    }
  },
  "cells": [
    {
      "cell_type": "markdown",
      "metadata": {
        "id": "view-in-github",
        "colab_type": "text"
      },
      "source": [
        "<a href=\"https://colab.research.google.com/github/inputJun/MachineLearning-Study/blob/main/2022%EB%85%841%ED%95%99%EA%B8%B0%EB%93%9C%EB%A1%A0%EA%B3%BC%EC%9D%B8%EA%B3%B5%EC%A7%80%EB%8A%A5%EC%A4%91%EA%B0%84%EA%B3%A0%EC%82%AC_201700846%EA%B3%A0%EC%A4%80%ED%99%98_LinearResgression.ipynb\" target=\"_parent\"><img src=\"https://colab.research.google.com/assets/colab-badge.svg\" alt=\"Open In Colab\"/></a>"
      ]
    },
    {
      "cell_type": "markdown",
      "source": [
        "**201700846 고준환**"
      ],
      "metadata": {
        "id": "ZKM8Su1hvOPo"
      }
    },
    {
      "cell_type": "markdown",
      "source": [
        "**회전익 기체 제원 데이터 받아오기**\n",
        "- MultiCopter.csv"
      ],
      "metadata": {
        "id": "UWHuXWibvRJG"
      }
    },
    {
      "cell_type": "code",
      "execution_count": null,
      "metadata": {
        "id": "GQgxdznCqJ3B"
      },
      "outputs": [],
      "source": [
        "import numpy as np\n",
        "import pandas as pd\n",
        "import matplotlib.pyplot as plt"
      ]
    },
    {
      "cell_type": "code",
      "source": [
        "Drone_multi = pd.read_csv(\"MultiCopter.csv\")\n",
        "Drone_multi.head()"
      ],
      "metadata": {
        "colab": {
          "base_uri": "https://localhost:8080/",
          "height": 206
        },
        "id": "W8JgEo3gvUIU",
        "outputId": "21d14209-2c1b-414f-980c-14a2962cfe7c"
      },
      "execution_count": null,
      "outputs": [
        {
          "output_type": "execute_result",
          "data": {
            "text/plain": [
              "  Company           Name  Length  Width  Height  Weight\n",
              "0     DJI   MAVIC 2 ZOOM   322.0  242.0    84.0     905\n",
              "1     DJI    MAVIC 2 PRO   322.0  242.0    84.0     907\n",
              "2     DJI  PHANTOM 4 PRO   289.5  289.5   196.0    1375\n",
              "3     DJI          SPARK   143.0  143.0    55.0     300\n",
              "4     DJI      INSPIRE 2   427.0  317.0   425.0    3440"
            ],
            "text/html": [
              "\n",
              "  <div id=\"df-730dbe3a-5a1e-4c47-a24b-e3034278c797\">\n",
              "    <div class=\"colab-df-container\">\n",
              "      <div>\n",
              "<style scoped>\n",
              "    .dataframe tbody tr th:only-of-type {\n",
              "        vertical-align: middle;\n",
              "    }\n",
              "\n",
              "    .dataframe tbody tr th {\n",
              "        vertical-align: top;\n",
              "    }\n",
              "\n",
              "    .dataframe thead th {\n",
              "        text-align: right;\n",
              "    }\n",
              "</style>\n",
              "<table border=\"1\" class=\"dataframe\">\n",
              "  <thead>\n",
              "    <tr style=\"text-align: right;\">\n",
              "      <th></th>\n",
              "      <th>Company</th>\n",
              "      <th>Name</th>\n",
              "      <th>Length</th>\n",
              "      <th>Width</th>\n",
              "      <th>Height</th>\n",
              "      <th>Weight</th>\n",
              "    </tr>\n",
              "  </thead>\n",
              "  <tbody>\n",
              "    <tr>\n",
              "      <th>0</th>\n",
              "      <td>DJI</td>\n",
              "      <td>MAVIC 2 ZOOM</td>\n",
              "      <td>322.0</td>\n",
              "      <td>242.0</td>\n",
              "      <td>84.0</td>\n",
              "      <td>905</td>\n",
              "    </tr>\n",
              "    <tr>\n",
              "      <th>1</th>\n",
              "      <td>DJI</td>\n",
              "      <td>MAVIC 2 PRO</td>\n",
              "      <td>322.0</td>\n",
              "      <td>242.0</td>\n",
              "      <td>84.0</td>\n",
              "      <td>907</td>\n",
              "    </tr>\n",
              "    <tr>\n",
              "      <th>2</th>\n",
              "      <td>DJI</td>\n",
              "      <td>PHANTOM 4 PRO</td>\n",
              "      <td>289.5</td>\n",
              "      <td>289.5</td>\n",
              "      <td>196.0</td>\n",
              "      <td>1375</td>\n",
              "    </tr>\n",
              "    <tr>\n",
              "      <th>3</th>\n",
              "      <td>DJI</td>\n",
              "      <td>SPARK</td>\n",
              "      <td>143.0</td>\n",
              "      <td>143.0</td>\n",
              "      <td>55.0</td>\n",
              "      <td>300</td>\n",
              "    </tr>\n",
              "    <tr>\n",
              "      <th>4</th>\n",
              "      <td>DJI</td>\n",
              "      <td>INSPIRE 2</td>\n",
              "      <td>427.0</td>\n",
              "      <td>317.0</td>\n",
              "      <td>425.0</td>\n",
              "      <td>3440</td>\n",
              "    </tr>\n",
              "  </tbody>\n",
              "</table>\n",
              "</div>\n",
              "      <button class=\"colab-df-convert\" onclick=\"convertToInteractive('df-730dbe3a-5a1e-4c47-a24b-e3034278c797')\"\n",
              "              title=\"Convert this dataframe to an interactive table.\"\n",
              "              style=\"display:none;\">\n",
              "        \n",
              "  <svg xmlns=\"http://www.w3.org/2000/svg\" height=\"24px\"viewBox=\"0 0 24 24\"\n",
              "       width=\"24px\">\n",
              "    <path d=\"M0 0h24v24H0V0z\" fill=\"none\"/>\n",
              "    <path d=\"M18.56 5.44l.94 2.06.94-2.06 2.06-.94-2.06-.94-.94-2.06-.94 2.06-2.06.94zm-11 1L8.5 8.5l.94-2.06 2.06-.94-2.06-.94L8.5 2.5l-.94 2.06-2.06.94zm10 10l.94 2.06.94-2.06 2.06-.94-2.06-.94-.94-2.06-.94 2.06-2.06.94z\"/><path d=\"M17.41 7.96l-1.37-1.37c-.4-.4-.92-.59-1.43-.59-.52 0-1.04.2-1.43.59L10.3 9.45l-7.72 7.72c-.78.78-.78 2.05 0 2.83L4 21.41c.39.39.9.59 1.41.59.51 0 1.02-.2 1.41-.59l7.78-7.78 2.81-2.81c.8-.78.8-2.07 0-2.86zM5.41 20L4 18.59l7.72-7.72 1.47 1.35L5.41 20z\"/>\n",
              "  </svg>\n",
              "      </button>\n",
              "      \n",
              "  <style>\n",
              "    .colab-df-container {\n",
              "      display:flex;\n",
              "      flex-wrap:wrap;\n",
              "      gap: 12px;\n",
              "    }\n",
              "\n",
              "    .colab-df-convert {\n",
              "      background-color: #E8F0FE;\n",
              "      border: none;\n",
              "      border-radius: 50%;\n",
              "      cursor: pointer;\n",
              "      display: none;\n",
              "      fill: #1967D2;\n",
              "      height: 32px;\n",
              "      padding: 0 0 0 0;\n",
              "      width: 32px;\n",
              "    }\n",
              "\n",
              "    .colab-df-convert:hover {\n",
              "      background-color: #E2EBFA;\n",
              "      box-shadow: 0px 1px 2px rgba(60, 64, 67, 0.3), 0px 1px 3px 1px rgba(60, 64, 67, 0.15);\n",
              "      fill: #174EA6;\n",
              "    }\n",
              "\n",
              "    [theme=dark] .colab-df-convert {\n",
              "      background-color: #3B4455;\n",
              "      fill: #D2E3FC;\n",
              "    }\n",
              "\n",
              "    [theme=dark] .colab-df-convert:hover {\n",
              "      background-color: #434B5C;\n",
              "      box-shadow: 0px 1px 3px 1px rgba(0, 0, 0, 0.15);\n",
              "      filter: drop-shadow(0px 1px 2px rgba(0, 0, 0, 0.3));\n",
              "      fill: #FFFFFF;\n",
              "    }\n",
              "  </style>\n",
              "\n",
              "      <script>\n",
              "        const buttonEl =\n",
              "          document.querySelector('#df-730dbe3a-5a1e-4c47-a24b-e3034278c797 button.colab-df-convert');\n",
              "        buttonEl.style.display =\n",
              "          google.colab.kernel.accessAllowed ? 'block' : 'none';\n",
              "\n",
              "        async function convertToInteractive(key) {\n",
              "          const element = document.querySelector('#df-730dbe3a-5a1e-4c47-a24b-e3034278c797');\n",
              "          const dataTable =\n",
              "            await google.colab.kernel.invokeFunction('convertToInteractive',\n",
              "                                                     [key], {});\n",
              "          if (!dataTable) return;\n",
              "\n",
              "          const docLinkHtml = 'Like what you see? Visit the ' +\n",
              "            '<a target=\"_blank\" href=https://colab.research.google.com/notebooks/data_table.ipynb>data table notebook</a>'\n",
              "            + ' to learn more about interactive tables.';\n",
              "          element.innerHTML = '';\n",
              "          dataTable['output_type'] = 'display_data';\n",
              "          await google.colab.output.renderOutput(dataTable, element);\n",
              "          const docLink = document.createElement('div');\n",
              "          docLink.innerHTML = docLinkHtml;\n",
              "          element.appendChild(docLink);\n",
              "        }\n",
              "      </script>\n",
              "    </div>\n",
              "  </div>\n",
              "  "
            ]
          },
          "metadata": {},
          "execution_count": 31
        }
      ]
    },
    {
      "cell_type": "code",
      "source": [
        "Drone_multi.columns"
      ],
      "metadata": {
        "colab": {
          "base_uri": "https://localhost:8080/"
        },
        "id": "qfsgQgTZvZp7",
        "outputId": "e0f05a7e-46fb-4a5d-cd25-7db2d8918b67"
      },
      "execution_count": null,
      "outputs": [
        {
          "output_type": "execute_result",
          "data": {
            "text/plain": [
              "Index(['Company', 'Name', 'Length', 'Width', 'Height', 'Weight'], dtype='object')"
            ]
          },
          "metadata": {},
          "execution_count": 32
        }
      ]
    },
    {
      "cell_type": "markdown",
      "source": [
        "**csv 파일에서 회전익의 전장(Length), 무게(Weight)값을 추출한 후 리스트 생성**"
      ],
      "metadata": {
        "id": "KlICeNs0vcRh"
      }
    },
    {
      "cell_type": "markdown",
      "source": [
        "회전익의 전장"
      ],
      "metadata": {
        "id": "o_d5BNgavfYd"
      }
    },
    {
      "cell_type": "code",
      "source": [
        "multi_length_list = []\n",
        "for i in Drone_multi[\"Length\"] :\n",
        "  multi_length_list.append(i)\n",
        "print(multi_length_list)"
      ],
      "metadata": {
        "colab": {
          "base_uri": "https://localhost:8080/"
        },
        "id": "h0dzjs21vbaz",
        "outputId": "cf14aecb-5d9f-490e-aff3-167d18f17030"
      },
      "execution_count": null,
      "outputs": [
        {
          "output_type": "stream",
          "name": "stdout",
          "text": [
            "[322.0, 322.0, 289.5, 143.0, 427.0, 1460.0, 400.0, 1940.0, 1860.0, 365.0, 1974.0, 1590.0, 730.0, 1002.0, 204.0, 305.0, 159.0, 1800.0, 860.0, 1140.0, 1225.0, 350.0, 1000.0, 1100.0, 643.0, 535.0, 330.0, 1000.0, 360.0, 2123.0]\n"
          ]
        }
      ]
    },
    {
      "cell_type": "markdown",
      "source": [
        "회전익의 무게"
      ],
      "metadata": {
        "id": "2y4SdT5Uvjm6"
      }
    },
    {
      "cell_type": "code",
      "source": [
        "multi_weight_list = []\n",
        "for i in Drone_multi[\"Weight\"] :\n",
        "  multi_weight_list.append(i)\n",
        "print(multi_weight_list)"
      ],
      "metadata": {
        "colab": {
          "base_uri": "https://localhost:8080/"
        },
        "id": "OPeC7I2kvirX",
        "outputId": "81bb8ca9-6a34-4e97-d9d4-1e88c2b92ef7"
      },
      "execution_count": null,
      "outputs": [
        {
          "output_type": "stream",
          "name": "stdout",
          "text": [
            "[905, 907, 1375, 300, 3440, 9700, 147, 14900, 17100, 992, 18320, 18500, 1434, 5500, 790, 945, 249, 13800, 9700, 9400, 15000, 1400, 13100, 13500, 5250, 7600, 1200, 10200, 850, 18800]\n"
          ]
        }
      ]
    },
    {
      "cell_type": "markdown",
      "source": [
        "**넘파이 배열로 전환**"
      ],
      "metadata": {
        "id": "cb22hZo3vnq-"
      }
    },
    {
      "cell_type": "code",
      "source": [
        "multi_length = np.array(multi_length_list)\n",
        "multi_weight = np.array(multi_weight_list)"
      ],
      "metadata": {
        "id": "1U3QKnNtvmrD"
      },
      "execution_count": null,
      "outputs": []
    },
    {
      "cell_type": "code",
      "source": [
        "plt.scatter(multi_length, multi_weight)\n",
        "plt.xlabel('Length')\n",
        "plt.ylabel('Weight')\n",
        "plt.show()"
      ],
      "metadata": {
        "colab": {
          "base_uri": "https://localhost:8080/",
          "height": 279
        },
        "id": "rc5bgU-DvqzG",
        "outputId": "cdf250ee-75ec-43c1-a03e-7bc58533b82e"
      },
      "execution_count": null,
      "outputs": [
        {
          "output_type": "display_data",
          "data": {
            "text/plain": [
              "<Figure size 432x288 with 1 Axes>"
            ],
            "image/png": "[encoded data removed]"
          },
          "metadata": {
            "needs_background": "light"
          }
        }
      ]
    },
    {
      "cell_type": "code",
      "source": [
        "from sklearn.model_selection import train_test_split\n",
        "train_input, test_input, train_target, test_target = train_test_split(\n",
        "    multi_length, multi_weight, random_state=14)"
      ],
      "metadata": {
        "id": "QQZ9al_kvsil"
      },
      "execution_count": null,
      "outputs": []
    },
    {
      "cell_type": "code",
      "source": [
        "train_input = train_input.reshape(-1, 1)\n",
        "test_input = test_input.reshape(-1, 1)"
      ],
      "metadata": {
        "id": "AyL3IQP_vv12"
      },
      "execution_count": null,
      "outputs": []
    },
    {
      "cell_type": "markdown",
      "source": [
        "**선형 회귀**"
      ],
      "metadata": {
        "id": "9TGkrH_Cv81a"
      }
    },
    {
      "cell_type": "markdown",
      "source": [
        "모델의 계수와 절편 출력"
      ],
      "metadata": {
        "id": "iE7sL_Rf3a33"
      }
    },
    {
      "cell_type": "code",
      "source": [
        "from sklearn.linear_model import LinearRegression\n",
        "lr = LinearRegression()\n",
        "lr.fit(train_input, train_target)\n",
        "print(lr.coef_, lr.intercept_)"
      ],
      "metadata": {
        "colab": {
          "base_uri": "https://localhost:8080/"
        },
        "id": "WdyUAeANvxx_",
        "outputId": "a539581a-399d-4cc3-d90e-867b3d03df37"
      },
      "execution_count": null,
      "outputs": [
        {
          "output_type": "stream",
          "name": "stdout",
          "text": [
            "[9.94980977] -1929.3182757776094\n"
          ]
        }
      ]
    },
    {
      "cell_type": "markdown",
      "source": [
        "**weight** = 9.94980977  x  **length** -1929.3182757776094"
      ],
      "metadata": {
        "id": "Lr3ZMnOb4FAS"
      }
    },
    {
      "cell_type": "code",
      "source": [
        "point = np.arange(0, 2250)\n",
        "plt.scatter(train_input, train_target)\n",
        "plt.plot(point, lr.coef_*point + lr.intercept_)\n",
        "plt.xlabel('length')\n",
        "plt.ylabel('weight')\n",
        "plt.show()"
      ],
      "metadata": {
        "colab": {
          "base_uri": "https://localhost:8080/",
          "height": 279
        },
        "id": "TCtRm9Y0wJip",
        "outputId": "acb748bf-b473-4698-8750-bb83577e74de"
      },
      "execution_count": null,
      "outputs": [
        {
          "output_type": "display_data",
          "data": {
            "text/plain": [
              "<Figure size 432x288 with 1 Axes>"
            ],
            "image/png": "[encoded data removed]"
          },
          "metadata": {
            "needs_background": "light"
          }
        }
      ]
    },
    {
      "cell_type": "markdown",
      "source": [
        "**다항 회귀**"
      ],
      "metadata": {
        "id": "JwgCLo_yw8er"
      }
    },
    {
      "cell_type": "code",
      "source": [
        "train_poly = np.column_stack((train_input ** 2, train_input))\n",
        "test_poly = np.column_stack((test_input ** 2, test_input))"
      ],
      "metadata": {
        "id": "CNi5qhVPwbJt"
      },
      "execution_count": null,
      "outputs": []
    },
    {
      "cell_type": "markdown",
      "source": [
        "모델의 계수와 절편 출력"
      ],
      "metadata": {
        "id": "p-xSAJHX3iVY"
      }
    },
    {
      "cell_type": "code",
      "source": [
        "lr = LinearRegression()\n",
        "lr.fit(train_poly,train_target)\n",
        "\n",
        "print(lr.coef_, lr.intercept_)"
      ],
      "metadata": {
        "colab": {
          "base_uri": "https://localhost:8080/"
        },
        "id": "6Uv8XkXl2HcA",
        "outputId": "8d4fdc82-c471-404d-917a-3a734701c381"
      },
      "execution_count": null,
      "outputs": [
        {
          "output_type": "stream",
          "name": "stdout",
          "text": [
            "[-1.30649344e-03  1.28349806e+01] -2938.7208490183702\n"
          ]
        }
      ]
    },
    {
      "cell_type": "markdown",
      "source": [
        "**weight** = -1.30649344e-03  x  **length**^2 +1.28349806e+01  x  **length**  -2938.7208490183702"
      ],
      "metadata": {
        "id": "nnwDfxFk4odZ"
      }
    },
    {
      "cell_type": "code",
      "source": [
        "point = np.arange(0, 2250)\n",
        "plt.scatter(train_input, train_target)\n",
        "plt.plot(point, -1.30649344e-03*point**2 + 1.28349806e+01*point + lr.intercept_)\n",
        "plt.xlabel('length')\n",
        "plt.ylabel('weight')\n",
        "plt.show()"
      ],
      "metadata": {
        "colab": {
          "base_uri": "https://localhost:8080/",
          "height": 280
        },
        "id": "sYRmQraD2rPQ",
        "outputId": "01045d72-1643-48e2-9ff5-c1ee1bdd54fc"
      },
      "execution_count": null,
      "outputs": [
        {
          "output_type": "display_data",
          "data": {
            "text/plain": [
              "<Figure size 432x288 with 1 Axes>"
            ],
            "image/png": "[encoded data removed]"
          },
          "metadata": {
            "needs_background": "light"
          }
        }
      ]
    }
  ]
}