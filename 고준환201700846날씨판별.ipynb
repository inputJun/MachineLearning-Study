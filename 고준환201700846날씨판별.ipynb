{
  "nbformat": 4,
  "nbformat_minor": 0,
  "metadata": {
    "colab": {
      "name": "고준환201700846날씨판별.ipynb",
      "provenance": [],
      "authorship_tag": "ABX9TyOLcEJWmdw7JuYBsAIRUpzH",
      "include_colab_link": true
    },
    "kernelspec": {
      "name": "python3",
      "display_name": "Python 3"
    },
    "language_info": {
      "name": "python"
    }
  },
  "cells": [
    {
      "cell_type": "markdown",
      "metadata": {
        "id": "view-in-github",
        "colab_type": "text"
      },
      "source": [
        "<a href=\"https://colab.research.google.com/github/inputJun/MachineLearning-Study/blob/main/%EA%B3%A0%EC%A4%80%ED%99%98201700846%EB%82%A0%EC%94%A8%ED%8C%90%EB%B3%84.ipynb\" target=\"_parent\"><img src=\"https://colab.research.google.com/assets/colab-badge.svg\" alt=\"Open In Colab\"/></a>"
      ]
    },
    {
      "cell_type": "markdown",
      "source": [
        "**201700846 고준환**"
      ],
      "metadata": {
        "id": "DLk_tEOdDKhT"
      }
    },
    {
      "cell_type": "code",
      "execution_count": 103,
      "metadata": {
        "id": "teDq5mrLCOtX"
      },
      "outputs": [],
      "source": [
        "import numpy as np\n",
        "import scipy.stats\n",
        "import pandas as pd\n",
        "import matplotlib.pyplot as plt"
      ]
    },
    {
      "cell_type": "code",
      "source": [
        "Weather_df= pd.read_csv(\"TLS-weather-data-2013.csv\", error_bad_lines = False)\n",
        "Weather_df.head()"
      ],
      "metadata": {
        "colab": {
          "base_uri": "https://localhost:8080/",
          "height": 476
        },
        "id": "QYElXePsC2N3",
        "outputId": "49842ddf-884d-4fb4-90f9-48a1fce7b17d"
      },
      "execution_count": 104,
      "outputs": [
        {
          "output_type": "stream",
          "name": "stderr",
          "text": [
            "/usr/local/lib/python3.7/dist-packages/IPython/core/interactiveshell.py:2882: FutureWarning: The error_bad_lines argument has been deprecated and will be removed in a future version.\n",
            "\n",
            "\n",
            "  exec(code_obj, self.user_global_ns, self.user_ns)\n"
          ]
        },
        {
          "output_type": "execute_result",
          "data": {
            "text/plain": [
              "          CET  Max TemperatureC  Mean TemperatureC  Min TemperatureC  \\\n",
              "0  2013-01-01                12                  9                 6   \n",
              "1  2013-01-02                 9                  7                 4   \n",
              "2  2013-01-03                 8                  4                 0   \n",
              "3  2013-01-04                 7                  6                 5   \n",
              "4  2013-01-05                 7                  6                 5   \n",
              "\n",
              "   Dew PointC  MeanDew PointC  Min DewpointC  Max Humidity  Mean Humidity  \\\n",
              "0           8               7              5            93             86   \n",
              "1           6               4              2            93             86   \n",
              "2           4               2             -1           100             87   \n",
              "3           7               6              4           100             94   \n",
              "4           6               6              4           100             94   \n",
              "\n",
              "   Min Humidity  ...  Max VisibilityKm  Mean VisibilityKm  Min VisibilitykM  \\\n",
              "0            76  ...                31                 10                 5   \n",
              "1            71  ...                31                 11                10   \n",
              "2            69  ...                19                 10                10   \n",
              "3            83  ...                10                  6                 1   \n",
              "4            90  ...                11                  9                 2   \n",
              "\n",
              "   Max Wind SpeedKm/h  Mean Wind SpeedKm/h  Max Gust SpeedKm/h  \\\n",
              "0                  26                   14                 NaN   \n",
              "1                  23                   16                 NaN   \n",
              "2                  13                    5                 NaN   \n",
              "3                  10                    5                 NaN   \n",
              "4                  16                    8                 NaN   \n",
              "\n",
              "   Precipitationmm  CloudCover  Events  WindDirDegrees  \n",
              "0             5.08         7.0    Rain             234  \n",
              "1             0.00         5.0     NaN             298  \n",
              "2             0.00         5.0     NaN             118  \n",
              "3             0.00         8.0     Fog             292  \n",
              "4             0.00         8.0     NaN             306  \n",
              "\n",
              "[5 rows x 23 columns]"
            ],
            "text/html": [
              "\n",
              "  <div id=\"df-07db398a-c09b-41dc-a90f-a04a5851a8b3\">\n",
              "    <div class=\"colab-df-container\">\n",
              "      <div>\n",
              "<style scoped>\n",
              "    .dataframe tbody tr th:only-of-type {\n",
              "        vertical-align: middle;\n",
              "    }\n",
              "\n",
              "    .dataframe tbody tr th {\n",
              "        vertical-align: top;\n",
              "    }\n",
              "\n",
              "    .dataframe thead th {\n",
              "        text-align: right;\n",
              "    }\n",
              "</style>\n",
              "<table border=\"1\" class=\"dataframe\">\n",
              "  <thead>\n",
              "    <tr style=\"text-align: right;\">\n",
              "      <th></th>\n",
              "      <th>CET</th>\n",
              "      <th>Max TemperatureC</th>\n",
              "      <th>Mean TemperatureC</th>\n",
              "      <th>Min TemperatureC</th>\n",
              "      <th>Dew PointC</th>\n",
              "      <th>MeanDew PointC</th>\n",
              "      <th>Min DewpointC</th>\n",
              "      <th>Max Humidity</th>\n",
              "      <th>Mean Humidity</th>\n",
              "      <th>Min Humidity</th>\n",
              "      <th>...</th>\n",
              "      <th>Max VisibilityKm</th>\n",
              "      <th>Mean VisibilityKm</th>\n",
              "      <th>Min VisibilitykM</th>\n",
              "      <th>Max Wind SpeedKm/h</th>\n",
              "      <th>Mean Wind SpeedKm/h</th>\n",
              "      <th>Max Gust SpeedKm/h</th>\n",
              "      <th>Precipitationmm</th>\n",
              "      <th>CloudCover</th>\n",
              "      <th>Events</th>\n",
              "      <th>WindDirDegrees</th>\n",
              "    </tr>\n",
              "  </thead>\n",
              "  <tbody>\n",
              "    <tr>\n",
              "      <th>0</th>\n",
              "      <td>2013-01-01</td>\n",
              "      <td>12</td>\n",
              "      <td>9</td>\n",
              "      <td>6</td>\n",
              "      <td>8</td>\n",
              "      <td>7</td>\n",
              "      <td>5</td>\n",
              "      <td>93</td>\n",
              "      <td>86</td>\n",
              "      <td>76</td>\n",
              "      <td>...</td>\n",
              "      <td>31</td>\n",
              "      <td>10</td>\n",
              "      <td>5</td>\n",
              "      <td>26</td>\n",
              "      <td>14</td>\n",
              "      <td>NaN</td>\n",
              "      <td>5.08</td>\n",
              "      <td>7.0</td>\n",
              "      <td>Rain</td>\n",
              "      <td>234</td>\n",
              "    </tr>\n",
              "    <tr>\n",
              "      <th>1</th>\n",
              "      <td>2013-01-02</td>\n",
              "      <td>9</td>\n",
              "      <td>7</td>\n",
              "      <td>4</td>\n",
              "      <td>6</td>\n",
              "      <td>4</td>\n",
              "      <td>2</td>\n",
              "      <td>93</td>\n",
              "      <td>86</td>\n",
              "      <td>71</td>\n",
              "      <td>...</td>\n",
              "      <td>31</td>\n",
              "      <td>11</td>\n",
              "      <td>10</td>\n",
              "      <td>23</td>\n",
              "      <td>16</td>\n",
              "      <td>NaN</td>\n",
              "      <td>0.00</td>\n",
              "      <td>5.0</td>\n",
              "      <td>NaN</td>\n",
              "      <td>298</td>\n",
              "    </tr>\n",
              "    <tr>\n",
              "      <th>2</th>\n",
              "      <td>2013-01-03</td>\n",
              "      <td>8</td>\n",
              "      <td>4</td>\n",
              "      <td>0</td>\n",
              "      <td>4</td>\n",
              "      <td>2</td>\n",
              "      <td>-1</td>\n",
              "      <td>100</td>\n",
              "      <td>87</td>\n",
              "      <td>69</td>\n",
              "      <td>...</td>\n",
              "      <td>19</td>\n",
              "      <td>10</td>\n",
              "      <td>10</td>\n",
              "      <td>13</td>\n",
              "      <td>5</td>\n",
              "      <td>NaN</td>\n",
              "      <td>0.00</td>\n",
              "      <td>5.0</td>\n",
              "      <td>NaN</td>\n",
              "      <td>118</td>\n",
              "    </tr>\n",
              "    <tr>\n",
              "      <th>3</th>\n",
              "      <td>2013-01-04</td>\n",
              "      <td>7</td>\n",
              "      <td>6</td>\n",
              "      <td>5</td>\n",
              "      <td>7</td>\n",
              "      <td>6</td>\n",
              "      <td>4</td>\n",
              "      <td>100</td>\n",
              "      <td>94</td>\n",
              "      <td>83</td>\n",
              "      <td>...</td>\n",
              "      <td>10</td>\n",
              "      <td>6</td>\n",
              "      <td>1</td>\n",
              "      <td>10</td>\n",
              "      <td>5</td>\n",
              "      <td>NaN</td>\n",
              "      <td>0.00</td>\n",
              "      <td>8.0</td>\n",
              "      <td>Fog</td>\n",
              "      <td>292</td>\n",
              "    </tr>\n",
              "    <tr>\n",
              "      <th>4</th>\n",
              "      <td>2013-01-05</td>\n",
              "      <td>7</td>\n",
              "      <td>6</td>\n",
              "      <td>5</td>\n",
              "      <td>6</td>\n",
              "      <td>6</td>\n",
              "      <td>4</td>\n",
              "      <td>100</td>\n",
              "      <td>94</td>\n",
              "      <td>90</td>\n",
              "      <td>...</td>\n",
              "      <td>11</td>\n",
              "      <td>9</td>\n",
              "      <td>2</td>\n",
              "      <td>16</td>\n",
              "      <td>8</td>\n",
              "      <td>NaN</td>\n",
              "      <td>0.00</td>\n",
              "      <td>8.0</td>\n",
              "      <td>NaN</td>\n",
              "      <td>306</td>\n",
              "    </tr>\n",
              "  </tbody>\n",
              "</table>\n",
              "<p>5 rows × 23 columns</p>\n",
              "</div>\n",
              "      <button class=\"colab-df-convert\" onclick=\"convertToInteractive('df-07db398a-c09b-41dc-a90f-a04a5851a8b3')\"\n",
              "              title=\"Convert this dataframe to an interactive table.\"\n",
              "              style=\"display:none;\">\n",
              "        \n",
              "  <svg xmlns=\"http://www.w3.org/2000/svg\" height=\"24px\"viewBox=\"0 0 24 24\"\n",
              "       width=\"24px\">\n",
              "    <path d=\"M0 0h24v24H0V0z\" fill=\"none\"/>\n",
              "    <path d=\"M18.56 5.44l.94 2.06.94-2.06 2.06-.94-2.06-.94-.94-2.06-.94 2.06-2.06.94zm-11 1L8.5 8.5l.94-2.06 2.06-.94-2.06-.94L8.5 2.5l-.94 2.06-2.06.94zm10 10l.94 2.06.94-2.06 2.06-.94-2.06-.94-.94-2.06-.94 2.06-2.06.94z\"/><path d=\"M17.41 7.96l-1.37-1.37c-.4-.4-.92-.59-1.43-.59-.52 0-1.04.2-1.43.59L10.3 9.45l-7.72 7.72c-.78.78-.78 2.05 0 2.83L4 21.41c.39.39.9.59 1.41.59.51 0 1.02-.2 1.41-.59l7.78-7.78 2.81-2.81c.8-.78.8-2.07 0-2.86zM5.41 20L4 18.59l7.72-7.72 1.47 1.35L5.41 20z\"/>\n",
              "  </svg>\n",
              "      </button>\n",
              "      \n",
              "  <style>\n",
              "    .colab-df-container {\n",
              "      display:flex;\n",
              "      flex-wrap:wrap;\n",
              "      gap: 12px;\n",
              "    }\n",
              "\n",
              "    .colab-df-convert {\n",
              "      background-color: #E8F0FE;\n",
              "      border: none;\n",
              "      border-radius: 50%;\n",
              "      cursor: pointer;\n",
              "      display: none;\n",
              "      fill: #1967D2;\n",
              "      height: 32px;\n",
              "      padding: 0 0 0 0;\n",
              "      width: 32px;\n",
              "    }\n",
              "\n",
              "    .colab-df-convert:hover {\n",
              "      background-color: #E2EBFA;\n",
              "      box-shadow: 0px 1px 2px rgba(60, 64, 67, 0.3), 0px 1px 3px 1px rgba(60, 64, 67, 0.15);\n",
              "      fill: #174EA6;\n",
              "    }\n",
              "\n",
              "    [theme=dark] .colab-df-convert {\n",
              "      background-color: #3B4455;\n",
              "      fill: #D2E3FC;\n",
              "    }\n",
              "\n",
              "    [theme=dark] .colab-df-convert:hover {\n",
              "      background-color: #434B5C;\n",
              "      box-shadow: 0px 1px 3px 1px rgba(0, 0, 0, 0.15);\n",
              "      filter: drop-shadow(0px 1px 2px rgba(0, 0, 0, 0.3));\n",
              "      fill: #FFFFFF;\n",
              "    }\n",
              "  </style>\n",
              "\n",
              "      <script>\n",
              "        const buttonEl =\n",
              "          document.querySelector('#df-07db398a-c09b-41dc-a90f-a04a5851a8b3 button.colab-df-convert');\n",
              "        buttonEl.style.display =\n",
              "          google.colab.kernel.accessAllowed ? 'block' : 'none';\n",
              "\n",
              "        async function convertToInteractive(key) {\n",
              "          const element = document.querySelector('#df-07db398a-c09b-41dc-a90f-a04a5851a8b3');\n",
              "          const dataTable =\n",
              "            await google.colab.kernel.invokeFunction('convertToInteractive',\n",
              "                                                     [key], {});\n",
              "          if (!dataTable) return;\n",
              "\n",
              "          const docLinkHtml = 'Like what you see? Visit the ' +\n",
              "            '<a target=\"_blank\" href=https://colab.research.google.com/notebooks/data_table.ipynb>data table notebook</a>'\n",
              "            + ' to learn more about interactive tables.';\n",
              "          element.innerHTML = '';\n",
              "          dataTable['output_type'] = 'display_data';\n",
              "          await google.colab.output.renderOutput(dataTable, element);\n",
              "          const docLink = document.createElement('div');\n",
              "          docLink.innerHTML = docLinkHtml;\n",
              "          element.appendChild(docLink);\n",
              "        }\n",
              "      </script>\n",
              "    </div>\n",
              "  </div>\n",
              "  "
            ]
          },
          "metadata": {},
          "execution_count": 104
        }
      ]
    },
    {
      "cell_type": "markdown",
      "source": [
        "**TLS-weather-data-2013.csv 파일에 대한 분석**"
      ],
      "metadata": {
        "id": "dO1neU_mECja"
      }
    },
    {
      "cell_type": "code",
      "source": [
        "Weather_df.info()"
      ],
      "metadata": {
        "colab": {
          "base_uri": "https://localhost:8080/"
        },
        "id": "fGwuDjr4C4Yj",
        "outputId": "3936e1d6-48c2-46b1-a42f-35f1b6400315"
      },
      "execution_count": 105,
      "outputs": [
        {
          "output_type": "stream",
          "name": "stdout",
          "text": [
            "<class 'pandas.core.frame.DataFrame'>\n",
            "RangeIndex: 365 entries, 0 to 364\n",
            "Data columns (total 23 columns):\n",
            " #   Column                      Non-Null Count  Dtype  \n",
            "---  ------                      --------------  -----  \n",
            " 0   CET                         365 non-null    object \n",
            " 1   Max TemperatureC            365 non-null    int64  \n",
            " 2   Mean TemperatureC           365 non-null    int64  \n",
            " 3   Min TemperatureC            365 non-null    int64  \n",
            " 4   Dew PointC                  365 non-null    int64  \n",
            " 5   MeanDew PointC              365 non-null    int64  \n",
            " 6   Min DewpointC               365 non-null    int64  \n",
            " 7   Max Humidity                365 non-null    int64  \n",
            " 8   Mean Humidity               365 non-null    int64  \n",
            " 9   Min Humidity                365 non-null    int64  \n",
            " 10  Max Sea Level PressurehPa   365 non-null    int64  \n",
            " 11  Mean Sea Level PressurehPa  365 non-null    int64  \n",
            " 12  Min Sea Level PressurehPa   365 non-null    int64  \n",
            " 13  Max VisibilityKm            365 non-null    int64  \n",
            " 14  Mean VisibilityKm           365 non-null    int64  \n",
            " 15  Min VisibilitykM            365 non-null    int64  \n",
            " 16  Max Wind SpeedKm/h          365 non-null    int64  \n",
            " 17  Mean Wind SpeedKm/h         365 non-null    int64  \n",
            " 18  Max Gust SpeedKm/h          61 non-null     float64\n",
            " 19  Precipitationmm             365 non-null    float64\n",
            " 20  CloudCover                  358 non-null    float64\n",
            " 21  Events                      204 non-null    object \n",
            " 22  WindDirDegrees              365 non-null    int64  \n",
            "dtypes: float64(3), int64(18), object(2)\n",
            "memory usage: 65.7+ KB\n"
          ]
        }
      ]
    },
    {
      "cell_type": "code",
      "source": [
        "Weather_df.describe()"
      ],
      "metadata": {
        "colab": {
          "base_uri": "https://localhost:8080/",
          "height": 428
        },
        "id": "Fm3MiVSODqn2",
        "outputId": "9be33b72-6ffa-449a-b014-9950fbb6f4fc"
      },
      "execution_count": 106,
      "outputs": [
        {
          "output_type": "execute_result",
          "data": {
            "text/plain": [
              "       Max TemperatureC  Mean TemperatureC  Min TemperatureC  Dew PointC  \\\n",
              "count        365.000000         365.000000        365.000000  365.000000   \n",
              "mean          17.769863          13.369863          9.038356   10.690411   \n",
              "std            8.242990           7.207495          6.569046    5.605143   \n",
              "min           -1.000000          -2.000000         -7.000000   -6.000000   \n",
              "25%           12.000000           7.000000          4.000000    6.000000   \n",
              "50%           18.000000          13.000000          9.000000   10.000000   \n",
              "75%           24.000000          19.000000         14.000000   15.000000   \n",
              "max           37.000000          28.000000         22.000000   22.000000   \n",
              "\n",
              "       MeanDew PointC  Min DewpointC  Max Humidity  Mean Humidity  \\\n",
              "count      365.000000     365.000000    365.000000     365.000000   \n",
              "mean         8.473973       6.008219     91.994521      73.884932   \n",
              "std          5.657583       5.797161      6.700826      10.917167   \n",
              "min         -8.000000     -10.000000     63.000000      47.000000   \n",
              "25%          4.000000       2.000000     88.000000      67.000000   \n",
              "50%          8.000000       6.000000     93.000000      75.000000   \n",
              "75%         13.000000      11.000000     94.000000      82.000000   \n",
              "max         20.000000      17.000000    100.000000      96.000000   \n",
              "\n",
              "       Min Humidity  Max Sea Level PressurehPa  ...  \\\n",
              "count    365.000000                 365.000000  ...   \n",
              "mean      49.701370                1019.895890  ...   \n",
              "std       16.428203                   7.524328  ...   \n",
              "min       14.000000                 996.000000  ...   \n",
              "25%       38.000000                1016.000000  ...   \n",
              "50%       48.000000                1020.000000  ...   \n",
              "75%       60.000000                1025.000000  ...   \n",
              "max       92.000000                1042.000000  ...   \n",
              "\n",
              "       Min Sea Level PressurehPa  Max VisibilityKm  Mean VisibilityKm  \\\n",
              "count                 365.000000        365.000000         365.000000   \n",
              "mean                 1014.224658         24.000000           9.975342   \n",
              "std                     8.707010          7.936216           1.387521   \n",
              "min                   979.000000          7.000000           2.000000   \n",
              "25%                  1010.000000         19.000000          10.000000   \n",
              "50%                  1015.000000         26.000000          10.000000   \n",
              "75%                  1020.000000         31.000000          11.000000   \n",
              "max                  1037.000000         31.000000          14.000000   \n",
              "\n",
              "       Min VisibilitykM  Max Wind SpeedKm/h  Mean Wind SpeedKm/h  \\\n",
              "count        365.000000          365.000000           365.000000   \n",
              "mean           7.178082           25.945205            13.252055   \n",
              "std            3.445584            9.329868             6.474975   \n",
              "min            0.000000            8.000000             3.000000   \n",
              "25%            5.000000           19.000000             8.000000   \n",
              "50%           10.000000           26.000000            11.000000   \n",
              "75%           10.000000           32.000000            18.000000   \n",
              "max           10.000000           60.000000            50.000000   \n",
              "\n",
              "       Max Gust SpeedKm/h  Precipitationmm  CloudCover  WindDirDegrees  \n",
              "count           61.000000       365.000000  358.000000      365.000000  \n",
              "mean            56.229508         1.186356    5.315642      235.534247  \n",
              "std             15.584601         3.008979    2.271078       75.526300  \n",
              "min             27.000000         0.000000    1.000000        1.000000  \n",
              "25%             48.000000         0.000000    4.000000      156.000000  \n",
              "50%             52.000000         0.000000    6.000000      270.000000  \n",
              "75%             61.000000         0.760000    7.000000      294.000000  \n",
              "max            108.000000        32.000000    8.000000      354.000000  \n",
              "\n",
              "[8 rows x 21 columns]"
            ],
            "text/html": [
              "\n",
              "  <div id=\"df-06ef61c5-7ed8-4096-b181-17f50e2df0ef\">\n",
              "    <div class=\"colab-df-container\">\n",
              "      <div>\n",
              "<style scoped>\n",
              "    .dataframe tbody tr th:only-of-type {\n",
              "        vertical-align: middle;\n",
              "    }\n",
              "\n",
              "    .dataframe tbody tr th {\n",
              "        vertical-align: top;\n",
              "    }\n",
              "\n",
              "    .dataframe thead th {\n",
              "        text-align: right;\n",
              "    }\n",
              "</style>\n",
              "<table border=\"1\" class=\"dataframe\">\n",
              "  <thead>\n",
              "    <tr style=\"text-align: right;\">\n",
              "      <th></th>\n",
              "      <th>Max TemperatureC</th>\n",
              "      <th>Mean TemperatureC</th>\n",
              "      <th>Min TemperatureC</th>\n",
              "      <th>Dew PointC</th>\n",
              "      <th>MeanDew PointC</th>\n",
              "      <th>Min DewpointC</th>\n",
              "      <th>Max Humidity</th>\n",
              "      <th>Mean Humidity</th>\n",
              "      <th>Min Humidity</th>\n",
              "      <th>Max Sea Level PressurehPa</th>\n",
              "      <th>...</th>\n",
              "      <th>Min Sea Level PressurehPa</th>\n",
              "      <th>Max VisibilityKm</th>\n",
              "      <th>Mean VisibilityKm</th>\n",
              "      <th>Min VisibilitykM</th>\n",
              "      <th>Max Wind SpeedKm/h</th>\n",
              "      <th>Mean Wind SpeedKm/h</th>\n",
              "      <th>Max Gust SpeedKm/h</th>\n",
              "      <th>Precipitationmm</th>\n",
              "      <th>CloudCover</th>\n",
              "      <th>WindDirDegrees</th>\n",
              "    </tr>\n",
              "  </thead>\n",
              "  <tbody>\n",
              "    <tr>\n",
              "      <th>count</th>\n",
              "      <td>365.000000</td>\n",
              "      <td>365.000000</td>\n",
              "      <td>365.000000</td>\n",
              "      <td>365.000000</td>\n",
              "      <td>365.000000</td>\n",
              "      <td>365.000000</td>\n",
              "      <td>365.000000</td>\n",
              "      <td>365.000000</td>\n",
              "      <td>365.000000</td>\n",
              "      <td>365.000000</td>\n",
              "      <td>...</td>\n",
              "      <td>365.000000</td>\n",
              "      <td>365.000000</td>\n",
              "      <td>365.000000</td>\n",
              "      <td>365.000000</td>\n",
              "      <td>365.000000</td>\n",
              "      <td>365.000000</td>\n",
              "      <td>61.000000</td>\n",
              "      <td>365.000000</td>\n",
              "      <td>358.000000</td>\n",
              "      <td>365.000000</td>\n",
              "    </tr>\n",
              "    <tr>\n",
              "      <th>mean</th>\n",
              "      <td>17.769863</td>\n",
              "      <td>13.369863</td>\n",
              "      <td>9.038356</td>\n",
              "      <td>10.690411</td>\n",
              "      <td>8.473973</td>\n",
              "      <td>6.008219</td>\n",
              "      <td>91.994521</td>\n",
              "      <td>73.884932</td>\n",
              "      <td>49.701370</td>\n",
              "      <td>1019.895890</td>\n",
              "      <td>...</td>\n",
              "      <td>1014.224658</td>\n",
              "      <td>24.000000</td>\n",
              "      <td>9.975342</td>\n",
              "      <td>7.178082</td>\n",
              "      <td>25.945205</td>\n",
              "      <td>13.252055</td>\n",
              "      <td>56.229508</td>\n",
              "      <td>1.186356</td>\n",
              "      <td>5.315642</td>\n",
              "      <td>235.534247</td>\n",
              "    </tr>\n",
              "    <tr>\n",
              "      <th>std</th>\n",
              "      <td>8.242990</td>\n",
              "      <td>7.207495</td>\n",
              "      <td>6.569046</td>\n",
              "      <td>5.605143</td>\n",
              "      <td>5.657583</td>\n",
              "      <td>5.797161</td>\n",
              "      <td>6.700826</td>\n",
              "      <td>10.917167</td>\n",
              "      <td>16.428203</td>\n",
              "      <td>7.524328</td>\n",
              "      <td>...</td>\n",
              "      <td>8.707010</td>\n",
              "      <td>7.936216</td>\n",
              "      <td>1.387521</td>\n",
              "      <td>3.445584</td>\n",
              "      <td>9.329868</td>\n",
              "      <td>6.474975</td>\n",
              "      <td>15.584601</td>\n",
              "      <td>3.008979</td>\n",
              "      <td>2.271078</td>\n",
              "      <td>75.526300</td>\n",
              "    </tr>\n",
              "    <tr>\n",
              "      <th>min</th>\n",
              "      <td>-1.000000</td>\n",
              "      <td>-2.000000</td>\n",
              "      <td>-7.000000</td>\n",
              "      <td>-6.000000</td>\n",
              "      <td>-8.000000</td>\n",
              "      <td>-10.000000</td>\n",
              "      <td>63.000000</td>\n",
              "      <td>47.000000</td>\n",
              "      <td>14.000000</td>\n",
              "      <td>996.000000</td>\n",
              "      <td>...</td>\n",
              "      <td>979.000000</td>\n",
              "      <td>7.000000</td>\n",
              "      <td>2.000000</td>\n",
              "      <td>0.000000</td>\n",
              "      <td>8.000000</td>\n",
              "      <td>3.000000</td>\n",
              "      <td>27.000000</td>\n",
              "      <td>0.000000</td>\n",
              "      <td>1.000000</td>\n",
              "      <td>1.000000</td>\n",
              "    </tr>\n",
              "    <tr>\n",
              "      <th>25%</th>\n",
              "      <td>12.000000</td>\n",
              "      <td>7.000000</td>\n",
              "      <td>4.000000</td>\n",
              "      <td>6.000000</td>\n",
              "      <td>4.000000</td>\n",
              "      <td>2.000000</td>\n",
              "      <td>88.000000</td>\n",
              "      <td>67.000000</td>\n",
              "      <td>38.000000</td>\n",
              "      <td>1016.000000</td>\n",
              "      <td>...</td>\n",
              "      <td>1010.000000</td>\n",
              "      <td>19.000000</td>\n",
              "      <td>10.000000</td>\n",
              "      <td>5.000000</td>\n",
              "      <td>19.000000</td>\n",
              "      <td>8.000000</td>\n",
              "      <td>48.000000</td>\n",
              "      <td>0.000000</td>\n",
              "      <td>4.000000</td>\n",
              "      <td>156.000000</td>\n",
              "    </tr>\n",
              "    <tr>\n",
              "      <th>50%</th>\n",
              "      <td>18.000000</td>\n",
              "      <td>13.000000</td>\n",
              "      <td>9.000000</td>\n",
              "      <td>10.000000</td>\n",
              "      <td>8.000000</td>\n",
              "      <td>6.000000</td>\n",
              "      <td>93.000000</td>\n",
              "      <td>75.000000</td>\n",
              "      <td>48.000000</td>\n",
              "      <td>1020.000000</td>\n",
              "      <td>...</td>\n",
              "      <td>1015.000000</td>\n",
              "      <td>26.000000</td>\n",
              "      <td>10.000000</td>\n",
              "      <td>10.000000</td>\n",
              "      <td>26.000000</td>\n",
              "      <td>11.000000</td>\n",
              "      <td>52.000000</td>\n",
              "      <td>0.000000</td>\n",
              "      <td>6.000000</td>\n",
              "      <td>270.000000</td>\n",
              "    </tr>\n",
              "    <tr>\n",
              "      <th>75%</th>\n",
              "      <td>24.000000</td>\n",
              "      <td>19.000000</td>\n",
              "      <td>14.000000</td>\n",
              "      <td>15.000000</td>\n",
              "      <td>13.000000</td>\n",
              "      <td>11.000000</td>\n",
              "      <td>94.000000</td>\n",
              "      <td>82.000000</td>\n",
              "      <td>60.000000</td>\n",
              "      <td>1025.000000</td>\n",
              "      <td>...</td>\n",
              "      <td>1020.000000</td>\n",
              "      <td>31.000000</td>\n",
              "      <td>11.000000</td>\n",
              "      <td>10.000000</td>\n",
              "      <td>32.000000</td>\n",
              "      <td>18.000000</td>\n",
              "      <td>61.000000</td>\n",
              "      <td>0.760000</td>\n",
              "      <td>7.000000</td>\n",
              "      <td>294.000000</td>\n",
              "    </tr>\n",
              "    <tr>\n",
              "      <th>max</th>\n",
              "      <td>37.000000</td>\n",
              "      <td>28.000000</td>\n",
              "      <td>22.000000</td>\n",
              "      <td>22.000000</td>\n",
              "      <td>20.000000</td>\n",
              "      <td>17.000000</td>\n",
              "      <td>100.000000</td>\n",
              "      <td>96.000000</td>\n",
              "      <td>92.000000</td>\n",
              "      <td>1042.000000</td>\n",
              "      <td>...</td>\n",
              "      <td>1037.000000</td>\n",
              "      <td>31.000000</td>\n",
              "      <td>14.000000</td>\n",
              "      <td>10.000000</td>\n",
              "      <td>60.000000</td>\n",
              "      <td>50.000000</td>\n",
              "      <td>108.000000</td>\n",
              "      <td>32.000000</td>\n",
              "      <td>8.000000</td>\n",
              "      <td>354.000000</td>\n",
              "    </tr>\n",
              "  </tbody>\n",
              "</table>\n",
              "<p>8 rows × 21 columns</p>\n",
              "</div>\n",
              "      <button class=\"colab-df-convert\" onclick=\"convertToInteractive('df-06ef61c5-7ed8-4096-b181-17f50e2df0ef')\"\n",
              "              title=\"Convert this dataframe to an interactive table.\"\n",
              "              style=\"display:none;\">\n",
              "        \n",
              "  <svg xmlns=\"http://www.w3.org/2000/svg\" height=\"24px\"viewBox=\"0 0 24 24\"\n",
              "       width=\"24px\">\n",
              "    <path d=\"M0 0h24v24H0V0z\" fill=\"none\"/>\n",
              "    <path d=\"M18.56 5.44l.94 2.06.94-2.06 2.06-.94-2.06-.94-.94-2.06-.94 2.06-2.06.94zm-11 1L8.5 8.5l.94-2.06 2.06-.94-2.06-.94L8.5 2.5l-.94 2.06-2.06.94zm10 10l.94 2.06.94-2.06 2.06-.94-2.06-.94-.94-2.06-.94 2.06-2.06.94z\"/><path d=\"M17.41 7.96l-1.37-1.37c-.4-.4-.92-.59-1.43-.59-.52 0-1.04.2-1.43.59L10.3 9.45l-7.72 7.72c-.78.78-.78 2.05 0 2.83L4 21.41c.39.39.9.59 1.41.59.51 0 1.02-.2 1.41-.59l7.78-7.78 2.81-2.81c.8-.78.8-2.07 0-2.86zM5.41 20L4 18.59l7.72-7.72 1.47 1.35L5.41 20z\"/>\n",
              "  </svg>\n",
              "      </button>\n",
              "      \n",
              "  <style>\n",
              "    .colab-df-container {\n",
              "      display:flex;\n",
              "      flex-wrap:wrap;\n",
              "      gap: 12px;\n",
              "    }\n",
              "\n",
              "    .colab-df-convert {\n",
              "      background-color: #E8F0FE;\n",
              "      border: none;\n",
              "      border-radius: 50%;\n",
              "      cursor: pointer;\n",
              "      display: none;\n",
              "      fill: #1967D2;\n",
              "      height: 32px;\n",
              "      padding: 0 0 0 0;\n",
              "      width: 32px;\n",
              "    }\n",
              "\n",
              "    .colab-df-convert:hover {\n",
              "      background-color: #E2EBFA;\n",
              "      box-shadow: 0px 1px 2px rgba(60, 64, 67, 0.3), 0px 1px 3px 1px rgba(60, 64, 67, 0.15);\n",
              "      fill: #174EA6;\n",
              "    }\n",
              "\n",
              "    [theme=dark] .colab-df-convert {\n",
              "      background-color: #3B4455;\n",
              "      fill: #D2E3FC;\n",
              "    }\n",
              "\n",
              "    [theme=dark] .colab-df-convert:hover {\n",
              "      background-color: #434B5C;\n",
              "      box-shadow: 0px 1px 3px 1px rgba(0, 0, 0, 0.15);\n",
              "      filter: drop-shadow(0px 1px 2px rgba(0, 0, 0, 0.3));\n",
              "      fill: #FFFFFF;\n",
              "    }\n",
              "  </style>\n",
              "\n",
              "      <script>\n",
              "        const buttonEl =\n",
              "          document.querySelector('#df-06ef61c5-7ed8-4096-b181-17f50e2df0ef button.colab-df-convert');\n",
              "        buttonEl.style.display =\n",
              "          google.colab.kernel.accessAllowed ? 'block' : 'none';\n",
              "\n",
              "        async function convertToInteractive(key) {\n",
              "          const element = document.querySelector('#df-06ef61c5-7ed8-4096-b181-17f50e2df0ef');\n",
              "          const dataTable =\n",
              "            await google.colab.kernel.invokeFunction('convertToInteractive',\n",
              "                                                     [key], {});\n",
              "          if (!dataTable) return;\n",
              "\n",
              "          const docLinkHtml = 'Like what you see? Visit the ' +\n",
              "            '<a target=\"_blank\" href=https://colab.research.google.com/notebooks/data_table.ipynb>data table notebook</a>'\n",
              "            + ' to learn more about interactive tables.';\n",
              "          element.innerHTML = '';\n",
              "          dataTable['output_type'] = 'display_data';\n",
              "          await google.colab.output.renderOutput(dataTable, element);\n",
              "          const docLink = document.createElement('div');\n",
              "          docLink.innerHTML = docLinkHtml;\n",
              "          element.appendChild(docLink);\n",
              "        }\n",
              "      </script>\n",
              "    </div>\n",
              "  </div>\n",
              "  "
            ]
          },
          "metadata": {},
          "execution_count": 106
        }
      ]
    },
    {
      "cell_type": "code",
      "source": [
        "Weather_df['Events'].describe()"
      ],
      "metadata": {
        "colab": {
          "base_uri": "https://localhost:8080/"
        },
        "id": "dDx5hM5qDsxE",
        "outputId": "6d80eb0c-75c5-4911-83f6-ac8085e68860"
      },
      "execution_count": 107,
      "outputs": [
        {
          "output_type": "execute_result",
          "data": {
            "text/plain": [
              "count      204\n",
              "unique       9\n",
              "top       Rain\n",
              "freq       136\n",
              "Name: Events, dtype: object"
            ]
          },
          "metadata": {},
          "execution_count": 107
        }
      ]
    },
    {
      "cell_type": "code",
      "source": [
        "Weather_df['Events']"
      ],
      "metadata": {
        "colab": {
          "base_uri": "https://localhost:8080/"
        },
        "id": "HwyfzMEbD0M6",
        "outputId": "aa92d4ae-54da-42a3-fcea-58bfcbc5e0c6"
      },
      "execution_count": 108,
      "outputs": [
        {
          "output_type": "execute_result",
          "data": {
            "text/plain": [
              "0      Rain\n",
              "1       NaN\n",
              "2       NaN\n",
              "3       Fog\n",
              "4       NaN\n",
              "       ... \n",
              "360     NaN\n",
              "361    Rain\n",
              "362    Rain\n",
              "363     Fog\n",
              "364     NaN\n",
              "Name: Events, Length: 365, dtype: object"
            ]
          },
          "metadata": {},
          "execution_count": 108
        }
      ]
    },
    {
      "cell_type": "markdown",
      "source": [
        "'Events' 카테고리에서 값이 입력되어 있지 않은 항목에 'Sunny'값을 채워넣기"
      ],
      "metadata": {
        "id": "Kg1-p-FmEJXH"
      }
    },
    {
      "cell_type": "code",
      "source": [
        "Weather_df['Events']=Weather_df['Events'].fillna('Sunny')"
      ],
      "metadata": {
        "id": "26Ol-w49D16p"
      },
      "execution_count": 109,
      "outputs": []
    },
    {
      "cell_type": "code",
      "source": [
        "Weather_df"
      ],
      "metadata": {
        "colab": {
          "base_uri": "https://localhost:8080/",
          "height": 678
        },
        "id": "u2qJVV4ED3y3",
        "outputId": "4bf8d4a4-47f6-43cd-e828-11e1d91d4ca3"
      },
      "execution_count": 110,
      "outputs": [
        {
          "output_type": "execute_result",
          "data": {
            "text/plain": [
              "            CET  Max TemperatureC  Mean TemperatureC  Min TemperatureC  \\\n",
              "0    2013-01-01                12                  9                 6   \n",
              "1    2013-01-02                 9                  7                 4   \n",
              "2    2013-01-03                 8                  4                 0   \n",
              "3    2013-01-04                 7                  6                 5   \n",
              "4    2013-01-05                 7                  6                 5   \n",
              "..          ...               ...                ...               ...   \n",
              "360  2013-12-27                15                  9                 2   \n",
              "361  2013-12-28                11                  8                 5   \n",
              "362  2013-12-29                 9                  7                 4   \n",
              "363  2013-12-30                 9                  4                 0   \n",
              "364  2013-12-31                11                  6                 2   \n",
              "\n",
              "     Dew PointC  MeanDew PointC  Min DewpointC  Max Humidity  Mean Humidity  \\\n",
              "0             8               7              5            93             86   \n",
              "1             6               4              2            93             86   \n",
              "2             4               2             -1           100             87   \n",
              "3             7               6              4           100             94   \n",
              "4             6               6              4           100             94   \n",
              "..          ...             ...            ...           ...            ...   \n",
              "360           8               4              2            93             74   \n",
              "361          10               6              3           100             81   \n",
              "362           5               4              3            87             78   \n",
              "363           4               2              0           100             83   \n",
              "364           5               3              0            88             76   \n",
              "\n",
              "     Min Humidity  ...  Max VisibilityKm  Mean VisibilityKm  Min VisibilitykM  \\\n",
              "0              76  ...                31                 10                 5   \n",
              "1              71  ...                31                 11                10   \n",
              "2              69  ...                19                 10                10   \n",
              "3              83  ...                10                  6                 1   \n",
              "4              90  ...                11                  9                 2   \n",
              "..            ...  ...               ...                ...               ...   \n",
              "360            48  ...                23                 10                10   \n",
              "361            51  ...                31                 11                 8   \n",
              "362            57  ...                26                 10                10   \n",
              "363            51  ...                23                  8                 0   \n",
              "364            58  ...                31                 11                10   \n",
              "\n",
              "     Max Wind SpeedKm/h  Mean Wind SpeedKm/h  Max Gust SpeedKm/h  \\\n",
              "0                    26                   14                 NaN   \n",
              "1                    23                   16                 NaN   \n",
              "2                    13                    5                 NaN   \n",
              "3                    10                    5                 NaN   \n",
              "4                    16                    8                 NaN   \n",
              "..                  ...                  ...                 ...   \n",
              "360                  29                   11                 NaN   \n",
              "361                  35                   23                55.0   \n",
              "362                  27                   21                 NaN   \n",
              "363                  16                    6                 NaN   \n",
              "364                  32                   16                 NaN   \n",
              "\n",
              "     Precipitationmm  CloudCover  Events  WindDirDegrees  \n",
              "0               5.08         7.0    Rain             234  \n",
              "1               0.00         5.0   Sunny             298  \n",
              "2               0.00         5.0   Sunny             118  \n",
              "3               0.00         8.0     Fog             292  \n",
              "4               0.00         8.0   Sunny             306  \n",
              "..               ...         ...     ...             ...  \n",
              "360             0.00         6.0   Sunny             145  \n",
              "361             7.87         7.0    Rain             214  \n",
              "362             0.00         6.0    Rain             262  \n",
              "363             0.00         7.0     Fog             135  \n",
              "364             0.00         2.0   Sunny             153  \n",
              "\n",
              "[365 rows x 23 columns]"
            ],
            "text/html": [
              "\n",
              "  <div id=\"df-a61d9ef2-5c86-461a-b7b6-c445f2b5e4e6\">\n",
              "    <div class=\"colab-df-container\">\n",
              "      <div>\n",
              "<style scoped>\n",
              "    .dataframe tbody tr th:only-of-type {\n",
              "        vertical-align: middle;\n",
              "    }\n",
              "\n",
              "    .dataframe tbody tr th {\n",
              "        vertical-align: top;\n",
              "    }\n",
              "\n",
              "    .dataframe thead th {\n",
              "        text-align: right;\n",
              "    }\n",
              "</style>\n",
              "<table border=\"1\" class=\"dataframe\">\n",
              "  <thead>\n",
              "    <tr style=\"text-align: right;\">\n",
              "      <th></th>\n",
              "      <th>CET</th>\n",
              "      <th>Max TemperatureC</th>\n",
              "      <th>Mean TemperatureC</th>\n",
              "      <th>Min TemperatureC</th>\n",
              "      <th>Dew PointC</th>\n",
              "      <th>MeanDew PointC</th>\n",
              "      <th>Min DewpointC</th>\n",
              "      <th>Max Humidity</th>\n",
              "      <th>Mean Humidity</th>\n",
              "      <th>Min Humidity</th>\n",
              "      <th>...</th>\n",
              "      <th>Max VisibilityKm</th>\n",
              "      <th>Mean VisibilityKm</th>\n",
              "      <th>Min VisibilitykM</th>\n",
              "      <th>Max Wind SpeedKm/h</th>\n",
              "      <th>Mean Wind SpeedKm/h</th>\n",
              "      <th>Max Gust SpeedKm/h</th>\n",
              "      <th>Precipitationmm</th>\n",
              "      <th>CloudCover</th>\n",
              "      <th>Events</th>\n",
              "      <th>WindDirDegrees</th>\n",
              "    </tr>\n",
              "  </thead>\n",
              "  <tbody>\n",
              "    <tr>\n",
              "      <th>0</th>\n",
              "      <td>2013-01-01</td>\n",
              "      <td>12</td>\n",
              "      <td>9</td>\n",
              "      <td>6</td>\n",
              "      <td>8</td>\n",
              "      <td>7</td>\n",
              "      <td>5</td>\n",
              "      <td>93</td>\n",
              "      <td>86</td>\n",
              "      <td>76</td>\n",
              "      <td>...</td>\n",
              "      <td>31</td>\n",
              "      <td>10</td>\n",
              "      <td>5</td>\n",
              "      <td>26</td>\n",
              "      <td>14</td>\n",
              "      <td>NaN</td>\n",
              "      <td>5.08</td>\n",
              "      <td>7.0</td>\n",
              "      <td>Rain</td>\n",
              "      <td>234</td>\n",
              "    </tr>\n",
              "    <tr>\n",
              "      <th>1</th>\n",
              "      <td>2013-01-02</td>\n",
              "      <td>9</td>\n",
              "      <td>7</td>\n",
              "      <td>4</td>\n",
              "      <td>6</td>\n",
              "      <td>4</td>\n",
              "      <td>2</td>\n",
              "      <td>93</td>\n",
              "      <td>86</td>\n",
              "      <td>71</td>\n",
              "      <td>...</td>\n",
              "      <td>31</td>\n",
              "      <td>11</td>\n",
              "      <td>10</td>\n",
              "      <td>23</td>\n",
              "      <td>16</td>\n",
              "      <td>NaN</td>\n",
              "      <td>0.00</td>\n",
              "      <td>5.0</td>\n",
              "      <td>Sunny</td>\n",
              "      <td>298</td>\n",
              "    </tr>\n",
              "    <tr>\n",
              "      <th>2</th>\n",
              "      <td>2013-01-03</td>\n",
              "      <td>8</td>\n",
              "      <td>4</td>\n",
              "      <td>0</td>\n",
              "      <td>4</td>\n",
              "      <td>2</td>\n",
              "      <td>-1</td>\n",
              "      <td>100</td>\n",
              "      <td>87</td>\n",
              "      <td>69</td>\n",
              "      <td>...</td>\n",
              "      <td>19</td>\n",
              "      <td>10</td>\n",
              "      <td>10</td>\n",
              "      <td>13</td>\n",
              "      <td>5</td>\n",
              "      <td>NaN</td>\n",
              "      <td>0.00</td>\n",
              "      <td>5.0</td>\n",
              "      <td>Sunny</td>\n",
              "      <td>118</td>\n",
              "    </tr>\n",
              "    <tr>\n",
              "      <th>3</th>\n",
              "      <td>2013-01-04</td>\n",
              "      <td>7</td>\n",
              "      <td>6</td>\n",
              "      <td>5</td>\n",
              "      <td>7</td>\n",
              "      <td>6</td>\n",
              "      <td>4</td>\n",
              "      <td>100</td>\n",
              "      <td>94</td>\n",
              "      <td>83</td>\n",
              "      <td>...</td>\n",
              "      <td>10</td>\n",
              "      <td>6</td>\n",
              "      <td>1</td>\n",
              "      <td>10</td>\n",
              "      <td>5</td>\n",
              "      <td>NaN</td>\n",
              "      <td>0.00</td>\n",
              "      <td>8.0</td>\n",
              "      <td>Fog</td>\n",
              "      <td>292</td>\n",
              "    </tr>\n",
              "    <tr>\n",
              "      <th>4</th>\n",
              "      <td>2013-01-05</td>\n",
              "      <td>7</td>\n",
              "      <td>6</td>\n",
              "      <td>5</td>\n",
              "      <td>6</td>\n",
              "      <td>6</td>\n",
              "      <td>4</td>\n",
              "      <td>100</td>\n",
              "      <td>94</td>\n",
              "      <td>90</td>\n",
              "      <td>...</td>\n",
              "      <td>11</td>\n",
              "      <td>9</td>\n",
              "      <td>2</td>\n",
              "      <td>16</td>\n",
              "      <td>8</td>\n",
              "      <td>NaN</td>\n",
              "      <td>0.00</td>\n",
              "      <td>8.0</td>\n",
              "      <td>Sunny</td>\n",
              "      <td>306</td>\n",
              "    </tr>\n",
              "    <tr>\n",
              "      <th>...</th>\n",
              "      <td>...</td>\n",
              "      <td>...</td>\n",
              "      <td>...</td>\n",
              "      <td>...</td>\n",
              "      <td>...</td>\n",
              "      <td>...</td>\n",
              "      <td>...</td>\n",
              "      <td>...</td>\n",
              "      <td>...</td>\n",
              "      <td>...</td>\n",
              "      <td>...</td>\n",
              "      <td>...</td>\n",
              "      <td>...</td>\n",
              "      <td>...</td>\n",
              "      <td>...</td>\n",
              "      <td>...</td>\n",
              "      <td>...</td>\n",
              "      <td>...</td>\n",
              "      <td>...</td>\n",
              "      <td>...</td>\n",
              "      <td>...</td>\n",
              "    </tr>\n",
              "    <tr>\n",
              "      <th>360</th>\n",
              "      <td>2013-12-27</td>\n",
              "      <td>15</td>\n",
              "      <td>9</td>\n",
              "      <td>2</td>\n",
              "      <td>8</td>\n",
              "      <td>4</td>\n",
              "      <td>2</td>\n",
              "      <td>93</td>\n",
              "      <td>74</td>\n",
              "      <td>48</td>\n",
              "      <td>...</td>\n",
              "      <td>23</td>\n",
              "      <td>10</td>\n",
              "      <td>10</td>\n",
              "      <td>29</td>\n",
              "      <td>11</td>\n",
              "      <td>NaN</td>\n",
              "      <td>0.00</td>\n",
              "      <td>6.0</td>\n",
              "      <td>Sunny</td>\n",
              "      <td>145</td>\n",
              "    </tr>\n",
              "    <tr>\n",
              "      <th>361</th>\n",
              "      <td>2013-12-28</td>\n",
              "      <td>11</td>\n",
              "      <td>8</td>\n",
              "      <td>5</td>\n",
              "      <td>10</td>\n",
              "      <td>6</td>\n",
              "      <td>3</td>\n",
              "      <td>100</td>\n",
              "      <td>81</td>\n",
              "      <td>51</td>\n",
              "      <td>...</td>\n",
              "      <td>31</td>\n",
              "      <td>11</td>\n",
              "      <td>8</td>\n",
              "      <td>35</td>\n",
              "      <td>23</td>\n",
              "      <td>55.0</td>\n",
              "      <td>7.87</td>\n",
              "      <td>7.0</td>\n",
              "      <td>Rain</td>\n",
              "      <td>214</td>\n",
              "    </tr>\n",
              "    <tr>\n",
              "      <th>362</th>\n",
              "      <td>2013-12-29</td>\n",
              "      <td>9</td>\n",
              "      <td>7</td>\n",
              "      <td>4</td>\n",
              "      <td>5</td>\n",
              "      <td>4</td>\n",
              "      <td>3</td>\n",
              "      <td>87</td>\n",
              "      <td>78</td>\n",
              "      <td>57</td>\n",
              "      <td>...</td>\n",
              "      <td>26</td>\n",
              "      <td>10</td>\n",
              "      <td>10</td>\n",
              "      <td>27</td>\n",
              "      <td>21</td>\n",
              "      <td>NaN</td>\n",
              "      <td>0.00</td>\n",
              "      <td>6.0</td>\n",
              "      <td>Rain</td>\n",
              "      <td>262</td>\n",
              "    </tr>\n",
              "    <tr>\n",
              "      <th>363</th>\n",
              "      <td>2013-12-30</td>\n",
              "      <td>9</td>\n",
              "      <td>4</td>\n",
              "      <td>0</td>\n",
              "      <td>4</td>\n",
              "      <td>2</td>\n",
              "      <td>0</td>\n",
              "      <td>100</td>\n",
              "      <td>83</td>\n",
              "      <td>51</td>\n",
              "      <td>...</td>\n",
              "      <td>23</td>\n",
              "      <td>8</td>\n",
              "      <td>0</td>\n",
              "      <td>16</td>\n",
              "      <td>6</td>\n",
              "      <td>NaN</td>\n",
              "      <td>0.00</td>\n",
              "      <td>7.0</td>\n",
              "      <td>Fog</td>\n",
              "      <td>135</td>\n",
              "    </tr>\n",
              "    <tr>\n",
              "      <th>364</th>\n",
              "      <td>2013-12-31</td>\n",
              "      <td>11</td>\n",
              "      <td>6</td>\n",
              "      <td>2</td>\n",
              "      <td>5</td>\n",
              "      <td>3</td>\n",
              "      <td>0</td>\n",
              "      <td>88</td>\n",
              "      <td>76</td>\n",
              "      <td>58</td>\n",
              "      <td>...</td>\n",
              "      <td>31</td>\n",
              "      <td>11</td>\n",
              "      <td>10</td>\n",
              "      <td>32</td>\n",
              "      <td>16</td>\n",
              "      <td>NaN</td>\n",
              "      <td>0.00</td>\n",
              "      <td>2.0</td>\n",
              "      <td>Sunny</td>\n",
              "      <td>153</td>\n",
              "    </tr>\n",
              "  </tbody>\n",
              "</table>\n",
              "<p>365 rows × 23 columns</p>\n",
              "</div>\n",
              "      <button class=\"colab-df-convert\" onclick=\"convertToInteractive('df-a61d9ef2-5c86-461a-b7b6-c445f2b5e4e6')\"\n",
              "              title=\"Convert this dataframe to an interactive table.\"\n",
              "              style=\"display:none;\">\n",
              "        \n",
              "  <svg xmlns=\"http://www.w3.org/2000/svg\" height=\"24px\"viewBox=\"0 0 24 24\"\n",
              "       width=\"24px\">\n",
              "    <path d=\"M0 0h24v24H0V0z\" fill=\"none\"/>\n",
              "    <path d=\"M18.56 5.44l.94 2.06.94-2.06 2.06-.94-2.06-.94-.94-2.06-.94 2.06-2.06.94zm-11 1L8.5 8.5l.94-2.06 2.06-.94-2.06-.94L8.5 2.5l-.94 2.06-2.06.94zm10 10l.94 2.06.94-2.06 2.06-.94-2.06-.94-.94-2.06-.94 2.06-2.06.94z\"/><path d=\"M17.41 7.96l-1.37-1.37c-.4-.4-.92-.59-1.43-.59-.52 0-1.04.2-1.43.59L10.3 9.45l-7.72 7.72c-.78.78-.78 2.05 0 2.83L4 21.41c.39.39.9.59 1.41.59.51 0 1.02-.2 1.41-.59l7.78-7.78 2.81-2.81c.8-.78.8-2.07 0-2.86zM5.41 20L4 18.59l7.72-7.72 1.47 1.35L5.41 20z\"/>\n",
              "  </svg>\n",
              "      </button>\n",
              "      \n",
              "  <style>\n",
              "    .colab-df-container {\n",
              "      display:flex;\n",
              "      flex-wrap:wrap;\n",
              "      gap: 12px;\n",
              "    }\n",
              "\n",
              "    .colab-df-convert {\n",
              "      background-color: #E8F0FE;\n",
              "      border: none;\n",
              "      border-radius: 50%;\n",
              "      cursor: pointer;\n",
              "      display: none;\n",
              "      fill: #1967D2;\n",
              "      height: 32px;\n",
              "      padding: 0 0 0 0;\n",
              "      width: 32px;\n",
              "    }\n",
              "\n",
              "    .colab-df-convert:hover {\n",
              "      background-color: #E2EBFA;\n",
              "      box-shadow: 0px 1px 2px rgba(60, 64, 67, 0.3), 0px 1px 3px 1px rgba(60, 64, 67, 0.15);\n",
              "      fill: #174EA6;\n",
              "    }\n",
              "\n",
              "    [theme=dark] .colab-df-convert {\n",
              "      background-color: #3B4455;\n",
              "      fill: #D2E3FC;\n",
              "    }\n",
              "\n",
              "    [theme=dark] .colab-df-convert:hover {\n",
              "      background-color: #434B5C;\n",
              "      box-shadow: 0px 1px 3px 1px rgba(0, 0, 0, 0.15);\n",
              "      filter: drop-shadow(0px 1px 2px rgba(0, 0, 0, 0.3));\n",
              "      fill: #FFFFFF;\n",
              "    }\n",
              "  </style>\n",
              "\n",
              "      <script>\n",
              "        const buttonEl =\n",
              "          document.querySelector('#df-a61d9ef2-5c86-461a-b7b6-c445f2b5e4e6 button.colab-df-convert');\n",
              "        buttonEl.style.display =\n",
              "          google.colab.kernel.accessAllowed ? 'block' : 'none';\n",
              "\n",
              "        async function convertToInteractive(key) {\n",
              "          const element = document.querySelector('#df-a61d9ef2-5c86-461a-b7b6-c445f2b5e4e6');\n",
              "          const dataTable =\n",
              "            await google.colab.kernel.invokeFunction('convertToInteractive',\n",
              "                                                     [key], {});\n",
              "          if (!dataTable) return;\n",
              "\n",
              "          const docLinkHtml = 'Like what you see? Visit the ' +\n",
              "            '<a target=\"_blank\" href=https://colab.research.google.com/notebooks/data_table.ipynb>data table notebook</a>'\n",
              "            + ' to learn more about interactive tables.';\n",
              "          element.innerHTML = '';\n",
              "          dataTable['output_type'] = 'display_data';\n",
              "          await google.colab.output.renderOutput(dataTable, element);\n",
              "          const docLink = document.createElement('div');\n",
              "          docLink.innerHTML = docLinkHtml;\n",
              "          element.appendChild(docLink);\n",
              "        }\n",
              "      </script>\n",
              "    </div>\n",
              "  </div>\n",
              "  "
            ]
          },
          "metadata": {},
          "execution_count": 110
        }
      ]
    },
    {
      "cell_type": "markdown",
      "source": [
        "'Events'가 'Sunny'이면 \"target_Events\"를 1, 아니면 0으로 설정"
      ],
      "metadata": {
        "id": "kugg9j-8FCmP"
      }
    },
    {
      "cell_type": "code",
      "source": [
        "def Make_target(Events):\n",
        "    if (Events =='Sunny'):\n",
        "        return 1\n",
        "    else:\n",
        "        return 0"
      ],
      "metadata": {
        "id": "3AqCNuJSD53-"
      },
      "execution_count": 111,
      "outputs": []
    },
    {
      "cell_type": "code",
      "source": [
        "Weather_df[\"target_Events\"]=Weather_df.Events.apply(Make_target)"
      ],
      "metadata": {
        "id": "HbQdrF9DEffN"
      },
      "execution_count": 112,
      "outputs": []
    },
    {
      "cell_type": "code",
      "source": [
        "Weather_df['target_Events']"
      ],
      "metadata": {
        "colab": {
          "base_uri": "https://localhost:8080/"
        },
        "id": "RhghGzCrEhN2",
        "outputId": "293d8266-163d-4cf3-f11d-acbda85f7f3e"
      },
      "execution_count": 113,
      "outputs": [
        {
          "output_type": "execute_result",
          "data": {
            "text/plain": [
              "0      0\n",
              "1      1\n",
              "2      1\n",
              "3      0\n",
              "4      1\n",
              "      ..\n",
              "360    1\n",
              "361    0\n",
              "362    0\n",
              "363    0\n",
              "364    1\n",
              "Name: target_Events, Length: 365, dtype: int64"
            ]
          },
          "metadata": {},
          "execution_count": 113
        }
      ]
    },
    {
      "cell_type": "markdown",
      "source": [
        "**넘파이 배열로 전환**"
      ],
      "metadata": {
        "id": "UZ_rRl9lIysI"
      }
    },
    {
      "cell_type": "markdown",
      "source": [
        "'Mean TemperatureC', 'MeanDew PointC', 'Mean Humidity', 'Mean Sea Level PressurehPa', 'Mean VisibilityKm', 'Mean Wind SpeedKm/h' = 5개의 변수 사용"
      ],
      "metadata": {
        "id": "fDlFVjXx5nL7"
      }
    },
    {
      "cell_type": "code",
      "source": [
        "data = Weather_df[['Mean TemperatureC','MeanDew PointC', 'Mean Humidity', 'Mean Sea Level PressurehPa',\n",
        "                   'Mean VisibilityKm', 'Mean Wind SpeedKm/h'  ]].to_numpy()\n",
        "target = Weather_df['target_Events'].to_numpy()"
      ],
      "metadata": {
        "id": "rHV6so0oF-7P"
      },
      "execution_count": 114,
      "outputs": []
    },
    {
      "cell_type": "markdown",
      "source": [
        "**사이킷런으로 훈련 세트 / 테스트 세트 나누기**"
      ],
      "metadata": {
        "id": "oRuOqe-lJH62"
      }
    },
    {
      "cell_type": "code",
      "source": [
        "from sklearn.model_selection import train_test_split\n",
        "train_input, test_input, train_target, test_target = train_test_split(\n",
        "    data, target, test_size = 0.2, random_state = 42)"
      ],
      "metadata": {
        "id": "owNo1KuEI81J"
      },
      "execution_count": 115,
      "outputs": []
    },
    {
      "cell_type": "code",
      "source": [
        "print(train_input.shape, test_input.shape)"
      ],
      "metadata": {
        "colab": {
          "base_uri": "https://localhost:8080/"
        },
        "id": "TlCtQNIrIvND",
        "outputId": "47337ff6-0401-45b5-ae01-da5b8d0bc46f"
      },
      "execution_count": 116,
      "outputs": [
        {
          "output_type": "stream",
          "name": "stdout",
          "text": [
            "(292, 6) (73, 6)\n"
          ]
        }
      ]
    },
    {
      "cell_type": "code",
      "source": [
        "print(train_target.shape, test_target.shape)"
      ],
      "metadata": {
        "colab": {
          "base_uri": "https://localhost:8080/"
        },
        "id": "AOjZIPQuJC79",
        "outputId": "7e6afb92-2274-451c-fc26-c777ee172fc4"
      },
      "execution_count": 117,
      "outputs": [
        {
          "output_type": "stream",
          "name": "stdout",
          "text": [
            "(292,) (73,)\n"
          ]
        }
      ]
    },
    {
      "cell_type": "markdown",
      "source": [
        "**랜덤 포레스트(Random Forest)**"
      ],
      "metadata": {
        "id": "GmNybJFdFeJS"
      }
    },
    {
      "cell_type": "markdown",
      "source": [
        "교차 검증 점수 출력(훈련 세트와 검증 세트 점수 비교)"
      ],
      "metadata": {
        "id": "LLEr1qy2kWsZ"
      }
    },
    {
      "cell_type": "code",
      "source": [
        "from sklearn.model_selection import cross_validate\n",
        "from sklearn.ensemble import RandomForestClassifier\n",
        "rf = RandomForestClassifier(n_jobs=-1, random_state=42)\n",
        "scores = cross_validate(rf, train_input, train_target, \n",
        "                        return_train_score=True, n_jobs=-1)\n",
        "print(np.mean(scores['train_score']), np.mean(scores['test_score']))"
      ],
      "metadata": {
        "colab": {
          "base_uri": "https://localhost:8080/"
        },
        "id": "bFjCb_h_Ei65",
        "outputId": "c1ed74d4-f29e-4960-d672-ef60f3efe105"
      },
      "execution_count": 118,
      "outputs": [
        {
          "output_type": "stream",
          "name": "stdout",
          "text": [
            "1.0 0.756750438340152\n"
          ]
        }
      ]
    },
    {
      "cell_type": "markdown",
      "source": [
        "랜덤 포레스트 모델의 특성 중요도"
      ],
      "metadata": {
        "id": "xkUmXSNj59W-"
      }
    },
    {
      "cell_type": "code",
      "source": [
        "rf.fit(train_input, train_target)\n",
        "print(rf.feature_importances_)"
      ],
      "metadata": {
        "colab": {
          "base_uri": "https://localhost:8080/"
        },
        "id": "egFjZVKsJ7eY",
        "outputId": "a93cb73c-c677-4c45-e714-3091dc7eef5c"
      },
      "execution_count": 119,
      "outputs": [
        {
          "output_type": "stream",
          "name": "stdout",
          "text": [
            "[0.15448573 0.12624572 0.32930233 0.18274249 0.09527421 0.11194953]\n"
          ]
        }
      ]
    },
    {
      "cell_type": "markdown",
      "source": [
        "각 결정 트리의 OOB 점수 평균"
      ],
      "metadata": {
        "id": "wZzRWwrhi1vA"
      }
    },
    {
      "cell_type": "code",
      "source": [
        "rf = RandomForestClassifier(oob_score=True, n_jobs=-1, random_state=42)\n",
        "rf.fit(train_input, train_target)\n",
        "print(rf.oob_score_)"
      ],
      "metadata": {
        "colab": {
          "base_uri": "https://localhost:8080/"
        },
        "id": "bv0mkoVDKGDb",
        "outputId": "1cf45ba9-de52-4f5f-9457-c504624c951d"
      },
      "execution_count": 120,
      "outputs": [
        {
          "output_type": "stream",
          "name": "stdout",
          "text": [
            "0.7465753424657534\n"
          ]
        }
      ]
    },
    {
      "cell_type": "markdown",
      "source": [
        "**엑스트라 트리(Extra Tree)**"
      ],
      "metadata": {
        "id": "RjlDGQsrjIik"
      }
    },
    {
      "cell_type": "markdown",
      "source": [
        "교차 검증 점수 출력(훈련 세트와 검증 세트 점수 비교)"
      ],
      "metadata": {
        "id": "k26D_8jGkdtw"
      }
    },
    {
      "cell_type": "code",
      "source": [
        "from sklearn.ensemble import ExtraTreesClassifier\n",
        "et = ExtraTreesClassifier(n_jobs=-1, random_state=42)\n",
        "scores = cross_validate(et, train_input, train_target, \n",
        "                        return_train_score=True, n_jobs=-1)\n",
        "print(np.mean(scores['train_score']), np.mean(scores['test_score']))"
      ],
      "metadata": {
        "colab": {
          "base_uri": "https://localhost:8080/"
        },
        "id": "tMso2UUCjSlJ",
        "outputId": "801a13b2-2357-4fc6-ce02-8625e89e4684"
      },
      "execution_count": 121,
      "outputs": [
        {
          "output_type": "stream",
          "name": "stdout",
          "text": [
            "1.0 0.7531852717708942\n"
          ]
        }
      ]
    },
    {
      "cell_type": "markdown",
      "source": [
        "엑스트라 트리 모델의 특성 중요도"
      ],
      "metadata": {
        "id": "Z-Qxos1t6CSq"
      }
    },
    {
      "cell_type": "code",
      "source": [
        "et.fit(train_input, train_target)\n",
        "print(et.feature_importances_)"
      ],
      "metadata": {
        "colab": {
          "base_uri": "https://localhost:8080/"
        },
        "id": "GVaQc59hkOF9",
        "outputId": "d5f5ab3a-a7b7-48ee-cf6f-8d1c3547df4b"
      },
      "execution_count": 122,
      "outputs": [
        {
          "output_type": "stream",
          "name": "stdout",
          "text": [
            "[0.14811579 0.12412933 0.33074104 0.17202232 0.10191517 0.12307635]\n"
          ]
        }
      ]
    },
    {
      "cell_type": "markdown",
      "source": [
        "**그레이디언트 부스팅(Gradient Boosting)**"
      ],
      "metadata": {
        "id": "JKAMjLfVk7Yu"
      }
    },
    {
      "cell_type": "markdown",
      "source": [
        "교차 검증 점수 출력(훈련 세트와 검증 세트 점수 비교)"
      ],
      "metadata": {
        "id": "8ZSzERCqlBun"
      }
    },
    {
      "cell_type": "code",
      "source": [
        "from sklearn.ensemble import GradientBoostingClassifier\n",
        "gb = GradientBoostingClassifier(random_state=42)\n",
        "scores = cross_validate(gb, train_input, train_target, \n",
        "                        return_train_score=True, n_jobs=-1)\n",
        "print(np.mean(scores['train_score']), np.mean(scores['test_score']))"
      ],
      "metadata": {
        "colab": {
          "base_uri": "https://localhost:8080/"
        },
        "id": "EQ_EO2DqlCaU",
        "outputId": "46d1232e-2a47-4894-c8b6-aef5f7691311"
      },
      "execution_count": 123,
      "outputs": [
        {
          "output_type": "stream",
          "name": "stdout",
          "text": [
            "0.9820292725872125 0.7534774985388661\n"
          ]
        }
      ]
    },
    {
      "cell_type": "code",
      "source": [
        "gb = GradientBoostingClassifier(n_estimators=500, learning_rate=0.2, random_state=42)\n",
        "scores = cross_validate(gb, train_input, train_target, \n",
        "                        return_train_score=True, n_jobs=-1)\n",
        "print(np.mean(scores['train_score']), np.mean(scores['test_score']))"
      ],
      "metadata": {
        "colab": {
          "base_uri": "https://localhost:8080/"
        },
        "id": "UieVhspbpYmk",
        "outputId": "b130033a-d443-499f-80e5-34e599076d20"
      },
      "execution_count": 124,
      "outputs": [
        {
          "output_type": "stream",
          "name": "stdout",
          "text": [
            "1.0 0.757042665108124\n"
          ]
        }
      ]
    },
    {
      "cell_type": "markdown",
      "source": [
        "그레이디언트 부스팅 모델의 특성 중요도"
      ],
      "metadata": {
        "id": "h1TpgVyh6KCw"
      }
    },
    {
      "cell_type": "code",
      "source": [
        "gb.fit(train_input, train_target)\n",
        "print(gb.feature_importances_)"
      ],
      "metadata": {
        "colab": {
          "base_uri": "https://localhost:8080/"
        },
        "id": "O15kvs0ppwUF",
        "outputId": "0a2b984a-68f1-47d0-d944-4056c409548b"
      },
      "execution_count": 125,
      "outputs": [
        {
          "output_type": "stream",
          "name": "stdout",
          "text": [
            "[0.08889272 0.06995996 0.45719776 0.22738088 0.07500765 0.08156103]\n"
          ]
        }
      ]
    },
    {
      "cell_type": "markdown",
      "source": [
        "**히스토그램 기반 그레이디언트 부스팅(Histogram-Based Gradient Boosting)**"
      ],
      "metadata": {
        "id": "htIUczTHqjaK"
      }
    },
    {
      "cell_type": "markdown",
      "source": [
        "교차 검증 점수 출력(훈련 세트와 검증 세트 점수 비교)"
      ],
      "metadata": {
        "id": "--BDad9fqtYK"
      }
    },
    {
      "cell_type": "code",
      "source": [
        "from sklearn.experimental import enable_hist_gradient_boosting\n",
        "from sklearn.ensemble import HistGradientBoostingClassifier\n",
        "hgb = HistGradientBoostingClassifier(random_state=42)\n",
        "scores = cross_validate(hgb, train_input, train_target, return_train_score=True)\n",
        "print(np.mean(scores['train_score']), np.mean(scores['test_score']))"
      ],
      "metadata": {
        "colab": {
          "base_uri": "https://localhost:8080/"
        },
        "id": "3T1qdQQ0qvL7",
        "outputId": "e7818773-740c-408c-ab33-030f4a570fbf"
      },
      "execution_count": 126,
      "outputs": [
        {
          "output_type": "stream",
          "name": "stdout",
          "text": [
            "0.9760206888962253 0.7738164815897136\n"
          ]
        }
      ]
    },
    {
      "cell_type": "markdown",
      "source": [
        "> 과대 적합을 잘 억제하면서 그레이디언트 부스팅보다 더 높은 성능임을 알 수 있다."
      ],
      "metadata": {
        "id": "-uarQK1csrHm"
      }
    },
    {
      "cell_type": "markdown",
      "source": [
        "히스토그램 기반 그레이디언트 부스팅 모델의 훈련 세트에서 특성 중요도 "
      ],
      "metadata": {
        "id": "FBtYP1306dVP"
      }
    },
    {
      "cell_type": "code",
      "source": [
        "from sklearn.inspection import permutation_importance\n",
        "hgb.fit(train_input, train_target)\n",
        "result = permutation_importance(hgb, train_input, train_target, n_repeats=10, \n",
        "                                random_state=42, n_jobs=-1)\n",
        "print(result.importances_mean)"
      ],
      "metadata": {
        "colab": {
          "base_uri": "https://localhost:8080/"
        },
        "id": "tceTC2RXrSY8",
        "outputId": "8b4c8a02-16ef-42a0-bf4b-434ad243b391"
      },
      "execution_count": 127,
      "outputs": [
        {
          "output_type": "stream",
          "name": "stdout",
          "text": [
            "[0.06335616 0.04349315 0.33321918 0.14554795 0.09486301 0.09554795]\n"
          ]
        }
      ]
    },
    {
      "cell_type": "markdown",
      "source": [
        "히스토그램 기반 그레이디언트 부스팅 모델의 테스트 세트에서 특성 중요도"
      ],
      "metadata": {
        "id": "N2qb2aj76kku"
      }
    },
    {
      "cell_type": "code",
      "source": [
        "result = permutation_importance(hgb, test_input, test_target, n_repeats=10, \n",
        "                                random_state=42, n_jobs=-1)\n",
        "print(result.importances_mean)"
      ],
      "metadata": {
        "colab": {
          "base_uri": "https://localhost:8080/"
        },
        "id": "jM9f0lXFt2ij",
        "outputId": "90eb8dc4-647f-433f-db98-89bce6d15142"
      },
      "execution_count": 128,
      "outputs": [
        {
          "output_type": "stream",
          "name": "stdout",
          "text": [
            "[-0.01232877 -0.00547945  0.14520548  0.05205479  0.02465753  0.01780822]\n"
          ]
        }
      ]
    },
    {
      "cell_type": "code",
      "source": [
        "hgb.score(test_input, test_target)"
      ],
      "metadata": {
        "colab": {
          "base_uri": "https://localhost:8080/"
        },
        "id": "elrPeJTSuocd",
        "outputId": "aeb63f58-276c-4418-95df-b2a4bc8ab159"
      },
      "execution_count": 129,
      "outputs": [
        {
          "output_type": "execute_result",
          "data": {
            "text/plain": [
              "0.7671232876712328"
            ]
          },
          "metadata": {},
          "execution_count": 129
        }
      ]
    },
    {
      "cell_type": "markdown",
      "source": [
        "XGBoost를 사용하여 교차 검증 점수 출력(훈련 세트와 검증 세트 점수 비교)"
      ],
      "metadata": {
        "id": "4hG82AxoxUwb"
      }
    },
    {
      "cell_type": "code",
      "source": [
        "from xgboost import XGBClassifier\n",
        "xgb = XGBClassifier(tree_method='hist', random_state=42)\n",
        "scores = cross_validate(xgb, train_input, train_target, return_train_score=True)\n",
        "print(np.mean(scores['train_score']), np.mean(scores['test_score']))"
      ],
      "metadata": {
        "colab": {
          "base_uri": "https://localhost:8080/"
        },
        "id": "KOn7RYR1uyIG",
        "outputId": "65ea13c3-b81d-4f37-de53-b1b932509cc0"
      },
      "execution_count": 130,
      "outputs": [
        {
          "output_type": "stream",
          "name": "stdout",
          "text": [
            "0.9340779868676865 0.7671537112799532\n"
          ]
        }
      ]
    },
    {
      "cell_type": "markdown",
      "source": [
        "LightGBM을 사용하여 교차 검증 점수 출력(훈련 세트와 검증 세트 점수 비교)"
      ],
      "metadata": {
        "id": "qZ5JMNsgxepA"
      }
    },
    {
      "cell_type": "code",
      "source": [
        "from lightgbm import LGBMClassifier\n",
        "lgb = LGBMClassifier(random_state=42)\n",
        "scores = cross_validate(lgb, train_input, train_target, \n",
        "                        return_train_score=True, n_jobs=-1)\n",
        "print(np.mean(scores['train_score']), np.mean(scores['test_score']))"
      ],
      "metadata": {
        "colab": {
          "base_uri": "https://localhost:8080/"
        },
        "id": "8haXVNSKvV7V",
        "outputId": "27ac7bfb-122e-474e-9b79-2449696e118d"
      },
      "execution_count": 131,
      "outputs": [
        {
          "output_type": "stream",
          "name": "stdout",
          "text": [
            "0.9743039506988005 0.770426651081239\n"
          ]
        }
      ]
    },
    {
      "cell_type": "markdown",
      "source": [
        "각 모델의 점수를 보았을 때 전체적으로 과대적합이 발생하여 아쉬운 성능을 보여주는 것을 확인할 수 있다.\n",
        "\n",
        "\n",
        "1.   최적의 변수를 찾기 위해 csv파일에서 **NaN값이 없는 모든 변수**를 사용하여 앙상블 학습을 실시한다.\n",
        "\n",
        "  > Max, Mean, Min값이 모두 존재하는 변수의 경우에는 효율성을 위해 Mean값만 사용\n",
        "\n",
        "\n",
        "\n",
        "2.   4개의 모델에서 출력된 특성 중요도를 보고 각 모델 별 **중요도가 높은 상위 4개의 변수를 선정**하여 결과를 확인하고자 한다.\n",
        "\n",
        "\n"
      ],
      "metadata": {
        "id": "Bj0ksQBP62qo"
      }
    },
    {
      "cell_type": "markdown",
      "source": [
        "**넘파이 배열로 전환**"
      ],
      "metadata": {
        "id": "vL_btV4n9Tmm"
      }
    },
    {
      "cell_type": "markdown",
      "source": [
        "'Mean TemperatureC', 'MeanDew PointC', 'Mean Humidity', 'Mean Sea Level PressurehPa', 'Mean VisibilityKm', 'Mean Wind SpeedKm/h', 'Precipitationmm', 'WindDirDegrees'\n",
        "= 8개의 변수(모든 변수) 사용"
      ],
      "metadata": {
        "id": "ZHz2t3G19VCN"
      }
    },
    {
      "cell_type": "code",
      "source": [
        "data = Weather_df[['Mean TemperatureC','MeanDew PointC', 'Mean Humidity', 'Mean Sea Level PressurehPa',\n",
        "                   'Mean VisibilityKm', 'Mean Wind SpeedKm/h', 'Precipitationmm', 'WindDirDegrees']].to_numpy()\n",
        "target = Weather_df['target_Events'].to_numpy()"
      ],
      "metadata": {
        "id": "AtrffXLk8t17"
      },
      "execution_count": 132,
      "outputs": []
    },
    {
      "cell_type": "markdown",
      "source": [
        "**사이킷런으로 훈련 세트 / 테스트 세트 나누기**"
      ],
      "metadata": {
        "id": "xRuUcs2u9vSj"
      }
    },
    {
      "cell_type": "code",
      "source": [
        "from sklearn.model_selection import train_test_split\n",
        "train_input, test_input, train_target, test_target = train_test_split(\n",
        "    data, target, test_size = 0.2, random_state = 42)"
      ],
      "metadata": {
        "id": "BSPNoeig9uqH"
      },
      "execution_count": 133,
      "outputs": []
    },
    {
      "cell_type": "code",
      "source": [
        "print(train_input.shape, test_input.shape)"
      ],
      "metadata": {
        "colab": {
          "base_uri": "https://localhost:8080/"
        },
        "id": "JZcY6EKz9x_z",
        "outputId": "ab6af96b-39fc-4662-c18c-632f67a4fdd5"
      },
      "execution_count": 134,
      "outputs": [
        {
          "output_type": "stream",
          "name": "stdout",
          "text": [
            "(292, 8) (73, 8)\n"
          ]
        }
      ]
    },
    {
      "cell_type": "code",
      "source": [
        "print(train_target.shape, test_target.shape)"
      ],
      "metadata": {
        "colab": {
          "base_uri": "https://localhost:8080/"
        },
        "id": "8-PCk1iU9zhl",
        "outputId": "862f1509-c4fe-4d1a-aa33-2f8f83ad7a45"
      },
      "execution_count": 135,
      "outputs": [
        {
          "output_type": "stream",
          "name": "stdout",
          "text": [
            "(292,) (73,)\n"
          ]
        }
      ]
    },
    {
      "cell_type": "markdown",
      "source": [
        "**랜덤 포레스트(Random Forest)**"
      ],
      "metadata": {
        "id": "zDJXPld_9251"
      }
    },
    {
      "cell_type": "markdown",
      "source": [
        "교차 검증 점수 출력(훈련 세트와 검증 세트 점수 비교)"
      ],
      "metadata": {
        "id": "QRKowcpO96xC"
      }
    },
    {
      "cell_type": "code",
      "source": [
        "from sklearn.model_selection import cross_validate\n",
        "from sklearn.ensemble import RandomForestClassifier\n",
        "rf = RandomForestClassifier(n_jobs=-1, random_state=42)\n",
        "scores = cross_validate(rf, train_input, train_target, \n",
        "                        return_train_score=True, n_jobs=-1)\n",
        "print(np.mean(scores['train_score']), np.mean(scores['test_score']))"
      ],
      "metadata": {
        "colab": {
          "base_uri": "https://localhost:8080/"
        },
        "id": "dcc9Oo2o91gG",
        "outputId": "08aafe7a-3c12-4612-9c70-31473e40fc44"
      },
      "execution_count": 136,
      "outputs": [
        {
          "output_type": "stream",
          "name": "stdout",
          "text": [
            "1.0 0.8560490940970192\n"
          ]
        }
      ]
    },
    {
      "cell_type": "markdown",
      "source": [
        "랜덤 포레스트 모델의 특성 중요도"
      ],
      "metadata": {
        "id": "MfogrpUY-DV4"
      }
    },
    {
      "cell_type": "code",
      "source": [
        "rf.fit(train_input, train_target)\n",
        "print(rf.feature_importances_)"
      ],
      "metadata": {
        "colab": {
          "base_uri": "https://localhost:8080/"
        },
        "id": "LTnYIomv9-OO",
        "outputId": "a9bf82b9-2f1c-49a5-f2e9-0477d40bba96"
      },
      "execution_count": 137,
      "outputs": [
        {
          "output_type": "stream",
          "name": "stdout",
          "text": [
            "[0.08045219 0.07754723 0.2318745  0.10893472 0.07168635 0.08047321\n",
            " 0.23283855 0.11619326]\n"
          ]
        }
      ]
    },
    {
      "cell_type": "markdown",
      "source": [
        "\n",
        "\n",
        "> **중요도 상위 4개의 변수**\n",
        "\n",
        "\n",
        "1.   'Precipitationmm'\n",
        "\n",
        "2.   'Mean Humidity'\n",
        "\n",
        "3.   'WindDirDegrees'\n",
        "\n",
        "4.   'Mean Sea Level PressurehPa'\n",
        "\n",
        "\n",
        "\n"
      ],
      "metadata": {
        "id": "pxEOuo72-LXC"
      }
    },
    {
      "cell_type": "markdown",
      "source": [
        "각 결정 트리의 OOB 점수 평균"
      ],
      "metadata": {
        "id": "xWMMuhmC-JLA"
      }
    },
    {
      "cell_type": "code",
      "source": [
        "rf = RandomForestClassifier(oob_score=True, n_jobs=-1, random_state=42)\n",
        "rf.fit(train_input, train_target)\n",
        "print(rf.oob_score_)"
      ],
      "metadata": {
        "colab": {
          "base_uri": "https://localhost:8080/"
        },
        "id": "lWR57xQC-FGb",
        "outputId": "e585c2d8-a660-4530-8ed6-a10f54864ab9"
      },
      "execution_count": 138,
      "outputs": [
        {
          "output_type": "stream",
          "name": "stdout",
          "text": [
            "0.8287671232876712\n"
          ]
        }
      ]
    },
    {
      "cell_type": "markdown",
      "source": [
        "**엑스트라 트리(Extra Tree)**"
      ],
      "metadata": {
        "id": "092zXFLN-8uQ"
      }
    },
    {
      "cell_type": "markdown",
      "source": [
        "교차 검증 점수 출력(훈련 세트와 검증 세트 점수 비교)"
      ],
      "metadata": {
        "id": "RL1Np6X8--1b"
      }
    },
    {
      "cell_type": "code",
      "source": [
        "from sklearn.ensemble import ExtraTreesClassifier\n",
        "et = ExtraTreesClassifier(n_jobs=-1, random_state=42)\n",
        "scores = cross_validate(et, train_input, train_target, \n",
        "                        return_train_score=True, n_jobs=-1)\n",
        "print(np.mean(scores['train_score']), np.mean(scores['test_score']))"
      ],
      "metadata": {
        "colab": {
          "base_uri": "https://localhost:8080/"
        },
        "id": "OywQbhGC_ATa",
        "outputId": "96b5f8c6-28ab-41ab-9461-849bf3bba2c2"
      },
      "execution_count": 139,
      "outputs": [
        {
          "output_type": "stream",
          "name": "stdout",
          "text": [
            "1.0 0.8286966686148451\n"
          ]
        }
      ]
    },
    {
      "cell_type": "markdown",
      "source": [
        "엑스트라 트리 모델의 특성 중요도"
      ],
      "metadata": {
        "id": "mK8MrYQU_LUo"
      }
    },
    {
      "cell_type": "code",
      "source": [
        "et.fit(train_input, train_target)\n",
        "print(et.feature_importances_)"
      ],
      "metadata": {
        "colab": {
          "base_uri": "https://localhost:8080/"
        },
        "id": "sbOPxfSI_EXj",
        "outputId": "49bd1a3a-4acf-4c6d-d587-246377710710"
      },
      "execution_count": 140,
      "outputs": [
        {
          "output_type": "stream",
          "name": "stdout",
          "text": [
            "[0.09478452 0.08070974 0.23640909 0.10767853 0.08344051 0.08578909\n",
            " 0.18761347 0.12357506]\n"
          ]
        }
      ]
    },
    {
      "cell_type": "markdown",
      "source": [
        "\n",
        "\n",
        "> **중요도 상위 4개의 변수**\n",
        "\n",
        "\n",
        "1.   'Mean Humidity'\n",
        "\n",
        "2.   'Precipitationmm'\n",
        "\n",
        "3.   'WindDirDegrees'\n",
        "\n",
        "4.   'Mean Sea Level PressurehPa'\n",
        "\n",
        "\n",
        "\n"
      ],
      "metadata": {
        "id": "SxVclQo-_QgJ"
      }
    },
    {
      "cell_type": "markdown",
      "source": [
        "**그레이디언트 부스팅(Gradient Boosting)**"
      ],
      "metadata": {
        "id": "P2_7Bs3n_vl9"
      }
    },
    {
      "cell_type": "markdown",
      "source": [
        "교차 검증 점수 출력(훈련 세트와 검증 세트 점수 비교)"
      ],
      "metadata": {
        "id": "Ou_tMzcD_xKo"
      }
    },
    {
      "cell_type": "code",
      "source": [
        "from sklearn.ensemble import GradientBoostingClassifier\n",
        "gb = GradientBoostingClassifier(random_state=42)\n",
        "scores = cross_validate(gb, train_input, train_target, \n",
        "                        return_train_score=True, n_jobs=-1)\n",
        "print(np.mean(scores['train_score']), np.mean(scores['test_score']))"
      ],
      "metadata": {
        "colab": {
          "base_uri": "https://localhost:8080/"
        },
        "id": "LyP6-esD_M2S",
        "outputId": "3ade9b1e-bcba-456c-c6bc-ddd31b2d8eed"
      },
      "execution_count": 141,
      "outputs": [
        {
          "output_type": "stream",
          "name": "stdout",
          "text": [
            "0.9897252485235318 0.8458211572180012\n"
          ]
        }
      ]
    },
    {
      "cell_type": "code",
      "source": [
        "gb = GradientBoostingClassifier(n_estimators=500, learning_rate=0.2, random_state=42)\n",
        "scores = cross_validate(gb, train_input, train_target, \n",
        "                        return_train_score=True, n_jobs=-1)\n",
        "print(np.mean(scores['train_score']), np.mean(scores['test_score']))"
      ],
      "metadata": {
        "colab": {
          "base_uri": "https://localhost:8080/"
        },
        "id": "UTD-gFw7_0B9",
        "outputId": "0d5afd9c-daba-488a-87e2-b68bf76e1a8a"
      },
      "execution_count": 142,
      "outputs": [
        {
          "output_type": "stream",
          "name": "stdout",
          "text": [
            "1.0 0.8149620105201636\n"
          ]
        }
      ]
    },
    {
      "cell_type": "markdown",
      "source": [
        "그레이디언트 부스팅 모델의 특성 중요도"
      ],
      "metadata": {
        "id": "HlwQgbZn_-8z"
      }
    },
    {
      "cell_type": "code",
      "source": [
        "gb.fit(train_input, train_target)\n",
        "print(gb.feature_importances_)"
      ],
      "metadata": {
        "colab": {
          "base_uri": "https://localhost:8080/"
        },
        "id": "Dsy5_QRu_6ng",
        "outputId": "3253ae30-5b05-4788-d394-44cc47d249a7"
      },
      "execution_count": 143,
      "outputs": [
        {
          "output_type": "stream",
          "name": "stdout",
          "text": [
            "[0.02877853 0.04324103 0.11860877 0.08376268 0.09524348 0.07359019\n",
            " 0.47864404 0.07813128]\n"
          ]
        }
      ]
    },
    {
      "cell_type": "markdown",
      "source": [
        "\n",
        "\n",
        "> **중요도 상위 4개의 변수**\n",
        "\n",
        "\n",
        "1.   'Mean Humidity'\n",
        "\n",
        "2.   'Mean VisibilityKm'\n",
        "\n",
        "3.   'Mean Sea Level PressurehPa'\n",
        "\n",
        "4.   'WindDirDegrees'\n",
        "\n",
        "\n",
        "\n"
      ],
      "metadata": {
        "id": "WlfXPv_jADRK"
      }
    },
    {
      "cell_type": "markdown",
      "source": [
        "**히스토그램 기반 그레이디언트 부스팅(Histogram-Based Gradient Boosting)**"
      ],
      "metadata": {
        "id": "xEpIrJbvAkwO"
      }
    },
    {
      "cell_type": "markdown",
      "source": [
        "교차 검증 점수 출력(훈련 세트와 검증 세트 점수 비교)"
      ],
      "metadata": {
        "id": "Zxu-qfQOAlLI"
      }
    },
    {
      "cell_type": "code",
      "source": [
        "from sklearn.experimental import enable_hist_gradient_boosting\n",
        "from sklearn.ensemble import HistGradientBoostingClassifier\n",
        "hgb = HistGradientBoostingClassifier(random_state=42)\n",
        "scores = cross_validate(hgb, train_input, train_target, return_train_score=True)\n",
        "print(np.mean(scores['train_score']), np.mean(scores['test_score']))"
      ],
      "metadata": {
        "colab": {
          "base_uri": "https://localhost:8080/"
        },
        "id": "deBDTa8aAg2L",
        "outputId": "c07b5ca8-0c80-4fc3-e33b-1c5873708b7a"
      },
      "execution_count": 144,
      "outputs": [
        {
          "output_type": "stream",
          "name": "stdout",
          "text": [
            "0.9948571218957486 0.8392168322618352\n"
          ]
        }
      ]
    },
    {
      "cell_type": "markdown",
      "source": [
        "> 과대 적합을 잘 억제하면서 그레이디언트 부스팅보다 더 높은 성능임을 알 수 있다."
      ],
      "metadata": {
        "id": "CEPR8vlIArUA"
      }
    },
    {
      "cell_type": "markdown",
      "source": [
        "히스토그램 기반 그레이디언트 부스팅 모델의 훈련 세트에서 특성 중요도"
      ],
      "metadata": {
        "id": "v7rxGKI8A0cQ"
      }
    },
    {
      "cell_type": "code",
      "source": [
        "from sklearn.inspection import permutation_importance\n",
        "hgb.fit(train_input, train_target)\n",
        "result = permutation_importance(hgb, train_input, train_target, n_repeats=10, \n",
        "                                random_state=42, n_jobs=-1)\n",
        "print(result.importances_mean)"
      ],
      "metadata": {
        "colab": {
          "base_uri": "https://localhost:8080/"
        },
        "id": "VD3M_rTyACiG",
        "outputId": "088c2490-b3c3-41a6-cc00-4c7690800f8c"
      },
      "execution_count": 145,
      "outputs": [
        {
          "output_type": "stream",
          "name": "stdout",
          "text": [
            "[0.02020548 0.02705479 0.12465753 0.05171233 0.07636986 0.0510274\n",
            " 0.21575342 0.09349315]\n"
          ]
        }
      ]
    },
    {
      "cell_type": "markdown",
      "source": [
        "히스토그램 기반 그레이디언트 부스팅 모델의 테스트 세트에서 특성 중요도"
      ],
      "metadata": {
        "id": "Ez8BZwFaA-c2"
      }
    },
    {
      "cell_type": "code",
      "source": [
        "result = permutation_importance(hgb, test_input, test_target, n_repeats=10, \n",
        "                                random_state=42, n_jobs=-1)\n",
        "print(result.importances_mean)"
      ],
      "metadata": {
        "colab": {
          "base_uri": "https://localhost:8080/"
        },
        "id": "VRB8ZhI9A2D9",
        "outputId": "3c10186e-8d4b-4f11-81f9-5a1438c0c62c"
      },
      "execution_count": 146,
      "outputs": [
        {
          "output_type": "stream",
          "name": "stdout",
          "text": [
            "[ 0.00273973 -0.00273973  0.03424658 -0.01917808  0.02465753  0.00136986\n",
            "  0.09315068 -0.0109589 ]\n"
          ]
        }
      ]
    },
    {
      "cell_type": "markdown",
      "source": [
        "\n",
        "\n",
        "> **중요도 상위 4개의 변수**\n",
        "\n",
        "\n",
        "1.   'Precipitationmm’\n",
        "\n",
        "2.   'Mean Humidity'\n",
        "\n",
        "3.   'Mean VisibilityKm'\n",
        "\n",
        "* 3등과 4등 변수의 중요도 차이가 너무 크기 때문에 4등 변수는 제외시켰다.\n",
        "\n",
        "\n",
        "\n"
      ],
      "metadata": {
        "id": "QbwrEVrkBXdN"
      }
    },
    {
      "cell_type": "code",
      "source": [
        "hgb.score(test_input, test_target)"
      ],
      "metadata": {
        "colab": {
          "base_uri": "https://localhost:8080/"
        },
        "id": "fomSLC6BBHkd",
        "outputId": "95f932ed-c57f-4a52-a5ca-164c9ccb683a"
      },
      "execution_count": 147,
      "outputs": [
        {
          "output_type": "execute_result",
          "data": {
            "text/plain": [
              "0.7945205479452054"
            ]
          },
          "metadata": {},
          "execution_count": 147
        }
      ]
    },
    {
      "cell_type": "markdown",
      "source": [
        "XGBoost를 사용하여 교차 검증 점수 출력(훈련 세트와 검증 세트 점수 비교)"
      ],
      "metadata": {
        "id": "WxOTcgcUBM-5"
      }
    },
    {
      "cell_type": "code",
      "source": [
        "from xgboost import XGBClassifier\n",
        "xgb = XGBClassifier(tree_method='hist', random_state=42)\n",
        "scores = cross_validate(xgb, train_input, train_target, return_train_score=True)\n",
        "print(np.mean(scores['train_score']), np.mean(scores['test_score']))"
      ],
      "metadata": {
        "colab": {
          "base_uri": "https://localhost:8080/"
        },
        "id": "9S8IvNuXBJRt",
        "outputId": "39381e79-52e7-40da-aa35-96aae9f3d4a9"
      },
      "execution_count": 148,
      "outputs": [
        {
          "output_type": "stream",
          "name": "stdout",
          "text": [
            "0.9674663438611937 0.8630625365283461\n"
          ]
        }
      ]
    },
    {
      "cell_type": "markdown",
      "source": [
        "LightGBM을 사용하여 교차 검증 점수 출력(훈련 세트와 검증 세트 점수 비교)"
      ],
      "metadata": {
        "id": "8Zs2LhCDBQhY"
      }
    },
    {
      "cell_type": "code",
      "source": [
        "from lightgbm import LGBMClassifier\n",
        "lgb = LGBMClassifier(random_state=42)\n",
        "scores = cross_validate(lgb, train_input, train_target, \n",
        "                        return_train_score=True, n_jobs=-1)\n",
        "print(np.mean(scores['train_score']), np.mean(scores['test_score']))"
      ],
      "metadata": {
        "colab": {
          "base_uri": "https://localhost:8080/"
        },
        "id": "Y4CXJo_mBPud",
        "outputId": "1cd083fa-586e-4595-f321-1ceb9f0e50a2"
      },
      "execution_count": 149,
      "outputs": [
        {
          "output_type": "stream",
          "name": "stdout",
          "text": [
            "0.997432229191886 0.8289304500292227\n"
          ]
        }
      ]
    },
    {
      "cell_type": "markdown",
      "source": [
        "**상위 1등부터 4등까지 각 모델에서 변수를 추출한 결과**\n",
        "\n",
        "\n",
        "*   'Mean TemperatureC'\n",
        "\n",
        "*   'MeanDew PointC'\n",
        "\n",
        "*   'Mean Humidity' \n",
        ">  Random, Extra, Gradient, Histogram\n",
        "\n",
        "*   'Mean Sea Level PressurehPa'\n",
        ">  Random, Extra, Gradient\n",
        "\n",
        "*   'Mean VisibilityKm'\n",
        ">  Gradient, Histogram\n",
        "\n",
        "*   'Mean Wind SpeedKm/h'\n",
        "\n",
        "*   'Precipitationmm'\n",
        ">  Random, Extra, Histogram\n",
        "\n",
        "*   'WindDirDegrees'\n",
        ">  Random, Extra, Gradient\n",
        "\n"
      ],
      "metadata": {
        "id": "ocYh8PcwB6Z3"
      }
    },
    {
      "cell_type": "markdown",
      "source": [
        "# 최적의 변수 설정\n",
        "어떠한 모델에서도 상위 4개의 중요도에 포함되지 못한 'Mean TemperatureC', 'MeanDew PointC', 'Mean Wind SpeedKm/h'를 제외하고 **'Mean Humidity', 'Mean Sea Level PressurehPa', 'Mean VisibilityKm', 'Precipitationmm', 'WindDirDegrees' 5개의 변수**로 설정하여 검증 과정을 거친다."
      ],
      "metadata": {
        "id": "tr6o1Kl-DLJD"
      }
    },
    {
      "cell_type": "markdown",
      "source": [
        "**넘파이 배열로 전환**"
      ],
      "metadata": {
        "id": "uBQIQ5ZeEdfw"
      }
    },
    {
      "cell_type": "markdown",
      "source": [
        "위에서 설정한 5개의 최적의 변수 사용"
      ],
      "metadata": {
        "id": "5DUkQ8fkE0ol"
      }
    },
    {
      "cell_type": "code",
      "source": [
        "data = Weather_df[['Mean Humidity', 'Mean Sea Level PressurehPa',\n",
        "                   'Mean VisibilityKm', 'Precipitationmm', 'WindDirDegrees']].to_numpy()\n",
        "target = Weather_df['target_Events'].to_numpy()"
      ],
      "metadata": {
        "id": "Q7Js37OPEfP-"
      },
      "execution_count": 150,
      "outputs": []
    },
    {
      "cell_type": "markdown",
      "source": [
        "**사이킷런으로 훈련 세트 / 테스트 세트 나누기**"
      ],
      "metadata": {
        "id": "MU_VaadXEgyc"
      }
    },
    {
      "cell_type": "code",
      "source": [
        "from sklearn.model_selection import train_test_split\n",
        "train_input, test_input, train_target, test_target = train_test_split(\n",
        "    data, target, test_size = 0.2, random_state = 42)"
      ],
      "metadata": {
        "id": "fFPIZ27MEtzd"
      },
      "execution_count": 151,
      "outputs": []
    },
    {
      "cell_type": "code",
      "source": [
        "print(train_input.shape, test_input.shape)"
      ],
      "metadata": {
        "colab": {
          "base_uri": "https://localhost:8080/"
        },
        "id": "EgvRguYBE9DW",
        "outputId": "1847fa0f-ce0c-430b-8d2e-5bba2fb1010d"
      },
      "execution_count": 152,
      "outputs": [
        {
          "output_type": "stream",
          "name": "stdout",
          "text": [
            "(292, 5) (73, 5)\n"
          ]
        }
      ]
    },
    {
      "cell_type": "code",
      "source": [
        "print(train_target.shape, test_target.shape)"
      ],
      "metadata": {
        "colab": {
          "base_uri": "https://localhost:8080/"
        },
        "id": "GiiFEk9OE-Uy",
        "outputId": "d056f757-ef7e-4ba5-b358-bf06ec9e1cfa"
      },
      "execution_count": 153,
      "outputs": [
        {
          "output_type": "stream",
          "name": "stdout",
          "text": [
            "(292,) (73,)\n"
          ]
        }
      ]
    },
    {
      "cell_type": "markdown",
      "source": [
        "**랜덤 포레스트(Random Forest)**"
      ],
      "metadata": {
        "id": "9SoMGjghFBFH"
      }
    },
    {
      "cell_type": "markdown",
      "source": [
        "교차 검증 점수 출력(훈련 세트와 검증 세트 점수 비교)"
      ],
      "metadata": {
        "id": "ZHS0zWFXFCiw"
      }
    },
    {
      "cell_type": "code",
      "source": [
        "from sklearn.model_selection import cross_validate\n",
        "from sklearn.ensemble import RandomForestClassifier\n",
        "rf = RandomForestClassifier(n_jobs=-1, random_state=42)\n",
        "scores = cross_validate(rf, train_input, train_target, \n",
        "                        return_train_score=True, n_jobs=-1)\n",
        "print(np.mean(scores['train_score']), np.mean(scores['test_score']))"
      ],
      "metadata": {
        "colab": {
          "base_uri": "https://localhost:8080/"
        },
        "id": "JIRtpiRnE_d8",
        "outputId": "7c868707-3bd3-4b55-d3ff-f056222e0d05"
      },
      "execution_count": 154,
      "outputs": [
        {
          "output_type": "stream",
          "name": "stdout",
          "text": [
            "1.0 0.8423728813559321\n"
          ]
        }
      ]
    },
    {
      "cell_type": "markdown",
      "source": [
        "랜덤 포레스트 모델의 특성 중요도"
      ],
      "metadata": {
        "id": "dRhWzjf_FJuM"
      }
    },
    {
      "cell_type": "code",
      "source": [
        "rf.fit(train_input, train_target)\n",
        "print(rf.feature_importances_)"
      ],
      "metadata": {
        "colab": {
          "base_uri": "https://localhost:8080/"
        },
        "id": "KeqXwZygFIuk",
        "outputId": "7ee7c965-b7da-421b-ce5c-523597d1d2d1"
      },
      "execution_count": 155,
      "outputs": [
        {
          "output_type": "stream",
          "name": "stdout",
          "text": [
            "[0.26429003 0.15413681 0.10138958 0.30505463 0.17512895]\n"
          ]
        }
      ]
    },
    {
      "cell_type": "markdown",
      "source": [
        "\n",
        "\n",
        "> 모든 변수들이 비교적 고르게 사용된 것을 알 수 있다.\n",
        "\n"
      ],
      "metadata": {
        "id": "OycHSEQRFUBD"
      }
    },
    {
      "cell_type": "markdown",
      "source": [
        "각 결정 트리의 OOB 점수 평균"
      ],
      "metadata": {
        "id": "2XpgBW2BFeoT"
      }
    },
    {
      "cell_type": "code",
      "source": [
        "rf = RandomForestClassifier(oob_score=True, n_jobs=-1, random_state=42)\n",
        "rf.fit(train_input, train_target)\n",
        "print(rf.oob_score_)"
      ],
      "metadata": {
        "colab": {
          "base_uri": "https://localhost:8080/"
        },
        "id": "xcX71Y4BFRQV",
        "outputId": "9f0f5cdd-8cad-4007-a1db-7fe1b884776b"
      },
      "execution_count": 156,
      "outputs": [
        {
          "output_type": "stream",
          "name": "stdout",
          "text": [
            "0.8287671232876712\n"
          ]
        }
      ]
    },
    {
      "cell_type": "markdown",
      "source": [
        "**엑스트라 트리(Extra Tree)**"
      ],
      "metadata": {
        "id": "0YNsY9xDFgrP"
      }
    },
    {
      "cell_type": "markdown",
      "source": [
        "교차 검증 점수 출력(훈련 세트와 검증 세트 점수 비교)"
      ],
      "metadata": {
        "id": "dIha8ClGFjnS"
      }
    },
    {
      "cell_type": "code",
      "source": [
        "from sklearn.ensemble import ExtraTreesClassifier\n",
        "et = ExtraTreesClassifier(n_jobs=-1, random_state=42)\n",
        "scores = cross_validate(et, train_input, train_target, \n",
        "                        return_train_score=True, n_jobs=-1)\n",
        "print(np.mean(scores['train_score']), np.mean(scores['test_score']))"
      ],
      "metadata": {
        "colab": {
          "base_uri": "https://localhost:8080/"
        },
        "id": "rAU9pIMsFdnh",
        "outputId": "78a2b4d7-2f36-48cb-f211-ec0be127bce2"
      },
      "execution_count": 157,
      "outputs": [
        {
          "output_type": "stream",
          "name": "stdout",
          "text": [
            "1.0 0.8185271770894215\n"
          ]
        }
      ]
    },
    {
      "cell_type": "markdown",
      "source": [
        "엑스트라 트리 모델의 특성 중요도"
      ],
      "metadata": {
        "id": "bsQKVHlMFpw-"
      }
    },
    {
      "cell_type": "code",
      "source": [
        "et.fit(train_input, train_target)\n",
        "print(et.feature_importances_)"
      ],
      "metadata": {
        "colab": {
          "base_uri": "https://localhost:8080/"
        },
        "id": "G27-6GCrFlBJ",
        "outputId": "d0298bd6-79ab-444b-bbca-c4f12e44961c"
      },
      "execution_count": 158,
      "outputs": [
        {
          "output_type": "stream",
          "name": "stdout",
          "text": [
            "[0.32106598 0.16795117 0.10589685 0.2156617  0.18942431]\n"
          ]
        }
      ]
    },
    {
      "cell_type": "markdown",
      "source": [
        "**그레이디언트 부스팅(Gradient Boosting)**"
      ],
      "metadata": {
        "id": "XxHu0NE4Fsks"
      }
    },
    {
      "cell_type": "markdown",
      "source": [
        "교차 검증 점수 출력(훈련 세트와 검증 세트 점수 비교)"
      ],
      "metadata": {
        "id": "uCozSLIUFt7a"
      }
    },
    {
      "cell_type": "code",
      "source": [
        "from sklearn.ensemble import GradientBoostingClassifier\n",
        "gb = GradientBoostingClassifier(random_state=42)\n",
        "scores = cross_validate(gb, train_input, train_target, \n",
        "                        return_train_score=True, n_jobs=-1)\n",
        "print(np.mean(scores['train_score']), np.mean(scores['test_score']))"
      ],
      "metadata": {
        "colab": {
          "base_uri": "https://localhost:8080/"
        },
        "id": "5vUbJ4LRFrTf",
        "outputId": "0a1ed01f-c88d-4557-e02d-398e8b7554e8"
      },
      "execution_count": 159,
      "outputs": [
        {
          "output_type": "stream",
          "name": "stdout",
          "text": [
            "0.9888558746927846 0.8353594389246055\n"
          ]
        }
      ]
    },
    {
      "cell_type": "code",
      "source": [
        "gb = GradientBoostingClassifier(n_estimators=500, learning_rate=0.2, random_state=42)\n",
        "scores = cross_validate(gb, train_input, train_target, \n",
        "                        return_train_score=True, n_jobs=-1)\n",
        "print(np.mean(scores['train_score']), np.mean(scores['test_score']))"
      ],
      "metadata": {
        "colab": {
          "base_uri": "https://localhost:8080/"
        },
        "id": "t6qxe3_TFwkA",
        "outputId": "9380cbdf-d2ba-4a50-c150-d4a7d73502a7"
      },
      "execution_count": 160,
      "outputs": [
        {
          "output_type": "stream",
          "name": "stdout",
          "text": [
            "1.0 0.8355347749853888\n"
          ]
        }
      ]
    },
    {
      "cell_type": "markdown",
      "source": [
        "그레이디언트 부스팅 모델의 특성 중요도"
      ],
      "metadata": {
        "id": "Qh7IjNs8F3L8"
      }
    },
    {
      "cell_type": "code",
      "source": [
        "gb.fit(train_input, train_target)\n",
        "print(gb.feature_importances_)"
      ],
      "metadata": {
        "colab": {
          "base_uri": "https://localhost:8080/"
        },
        "id": "MobxUiNJF1kU",
        "outputId": "316dd1d8-adb6-4ba0-99db-d3c394937320"
      },
      "execution_count": 161,
      "outputs": [
        {
          "output_type": "stream",
          "name": "stdout",
          "text": [
            "[0.16424006 0.12482228 0.10386099 0.48079673 0.12627994]\n"
          ]
        }
      ]
    },
    {
      "cell_type": "markdown",
      "source": [
        "**히스토그램 기반 그레이디언트 부스팅(Histogram-Based Gradient Boosting)**"
      ],
      "metadata": {
        "id": "SVp7orCSF_kL"
      }
    },
    {
      "cell_type": "markdown",
      "source": [
        "교차 검증 점수 출력(훈련 세트와 검증 세트 점수 비교)"
      ],
      "metadata": {
        "id": "QTmV6K6BGA-H"
      }
    },
    {
      "cell_type": "code",
      "source": [
        "from sklearn.experimental import enable_hist_gradient_boosting\n",
        "from sklearn.ensemble import HistGradientBoostingClassifier\n",
        "hgb = HistGradientBoostingClassifier(random_state=42)\n",
        "scores = cross_validate(hgb, train_input, train_target, return_train_score=True)\n",
        "print(np.mean(scores['train_score']), np.mean(scores['test_score']))"
      ],
      "metadata": {
        "colab": {
          "base_uri": "https://localhost:8080/"
        },
        "id": "K6UNBe1GF-Or",
        "outputId": "4e0515f0-eb10-4c96-e5c6-529d620edaa4"
      },
      "execution_count": 162,
      "outputs": [
        {
          "output_type": "stream",
          "name": "stdout",
          "text": [
            "0.9820256043432009 0.8459964932787842\n"
          ]
        }
      ]
    },
    {
      "cell_type": "markdown",
      "source": [
        "> 과대 적합을 잘 억제하면서 그레이디언트 부스팅보다 더 높은 성능임을 알 수 있다."
      ],
      "metadata": {
        "id": "jUCY35chGE4w"
      }
    },
    {
      "cell_type": "markdown",
      "source": [
        "히스토그램 기반 그레이디언트 부스팅 모델의 훈련 세트에서 특성 중요도"
      ],
      "metadata": {
        "id": "uKnN0qESGKUC"
      }
    },
    {
      "cell_type": "code",
      "source": [
        "from sklearn.inspection import permutation_importance\n",
        "hgb.fit(train_input, train_target)\n",
        "result = permutation_importance(hgb, train_input, train_target, n_repeats=10, \n",
        "                                random_state=42, n_jobs=-1)\n",
        "print(result.importances_mean)"
      ],
      "metadata": {
        "colab": {
          "base_uri": "https://localhost:8080/"
        },
        "id": "3lVP1UlmGDOl",
        "outputId": "982cdf9c-19c6-40e8-c715-910f9aa5b4f2"
      },
      "execution_count": 163,
      "outputs": [
        {
          "output_type": "stream",
          "name": "stdout",
          "text": [
            "[0.15719178 0.10753425 0.08527397 0.20034247 0.12054795]\n"
          ]
        }
      ]
    },
    {
      "cell_type": "markdown",
      "source": [
        "히스토그램 기반 그레이디언트 부스팅 모델의 테스트 세트에서 특성 중요도"
      ],
      "metadata": {
        "id": "q6wP9SpRGQ_W"
      }
    },
    {
      "cell_type": "code",
      "source": [
        "result = permutation_importance(hgb, test_input, test_target, n_repeats=10, \n",
        "                                random_state=42, n_jobs=-1)\n",
        "print(result.importances_mean)"
      ],
      "metadata": {
        "colab": {
          "base_uri": "https://localhost:8080/"
        },
        "id": "lxfvLUMEGNKx",
        "outputId": "256d5d85-a600-43dc-a8cf-789c6b311f90"
      },
      "execution_count": 164,
      "outputs": [
        {
          "output_type": "stream",
          "name": "stdout",
          "text": [
            "[0.03150685 0.04931507 0.00547945 0.05342466 0.04520548]\n"
          ]
        }
      ]
    },
    {
      "cell_type": "code",
      "source": [
        "hgb.score(test_input, test_target)"
      ],
      "metadata": {
        "colab": {
          "base_uri": "https://localhost:8080/"
        },
        "id": "zpP-zLqhGSra",
        "outputId": "bbca7bf2-5ddf-4f49-bd9b-fec1eb983b0d"
      },
      "execution_count": 165,
      "outputs": [
        {
          "output_type": "execute_result",
          "data": {
            "text/plain": [
              "0.821917808219178"
            ]
          },
          "metadata": {},
          "execution_count": 165
        }
      ]
    },
    {
      "cell_type": "markdown",
      "source": [
        "XGBoost를 사용하여 교차 검증 점수 출력(훈련 세트와 검증 세트 점수 비교)"
      ],
      "metadata": {
        "id": "cY1-mLvRGZv_"
      }
    },
    {
      "cell_type": "code",
      "source": [
        "from xgboost import XGBClassifier\n",
        "xgb = XGBClassifier(tree_method='hist', random_state=42)\n",
        "scores = cross_validate(xgb, train_input, train_target, return_train_score=True)\n",
        "print(np.mean(scores['train_score']), np.mean(scores['test_score']))"
      ],
      "metadata": {
        "colab": {
          "base_uri": "https://localhost:8080/"
        },
        "id": "sL0NCatiGXny",
        "outputId": "febcfa92-a9ac-44e2-8ff5-6dafd1bbb9b5"
      },
      "execution_count": 166,
      "outputs": [
        {
          "output_type": "stream",
          "name": "stdout",
          "text": [
            "0.9503539855471187 0.8561075394506137\n"
          ]
        }
      ]
    },
    {
      "cell_type": "markdown",
      "source": [
        "LightGBM을 사용하여 교차 검증 점수 출력(훈련 세트와 검증 세트 점수 비교)"
      ],
      "metadata": {
        "id": "iw8qmGJaGb5c"
      }
    },
    {
      "cell_type": "code",
      "source": [
        "from lightgbm import LGBMClassifier\n",
        "lgb = LGBMClassifier(random_state=42)\n",
        "scores = cross_validate(lgb, train_input, train_target, \n",
        "                        return_train_score=True, n_jobs=-1)\n",
        "print(np.mean(scores['train_score']), np.mean(scores['test_score']))"
      ],
      "metadata": {
        "colab": {
          "base_uri": "https://localhost:8080/"
        },
        "id": "DruosAq5GbGW",
        "outputId": "7658e0e5-15d6-4777-87a6-7e29c4865441"
      },
      "execution_count": 167,
      "outputs": [
        {
          "output_type": "stream",
          "name": "stdout",
          "text": [
            "0.9786031326803858 0.8358270017533606\n"
          ]
        }
      ]
    },
    {
      "cell_type": "markdown",
      "source": [
        "# 결과 분석\n",
        "랜덤 포레스트 모델과 엑스트라 트리 모델의 점수는 최적의 변수를 사용한 결과 점수가 모든 변수를 사용한 결과 점수보다 아주 미세하게 낮다. 하지만 그레이디언트 부스팅 모델의 기본 점수는 미세하게 낮지만 학습률을 증가시키고 트리의 개수를 늘렸을 때는 전체 변수를 사용한 결과보다 더 높은 것을 확인할 수 있다. 또한 히스토그램 기반 그레이디언트 부스팅의 결과는 대체로 최적의 변수를 사용한 결과의 점수가 더 높은 것을 알 수 있다.\n",
        "# 결론\n",
        "이상적인 경우 최대한 많은 데이터를 활용하고 최대한 많은 변수를 활용하면 점수값이 높을 것이다. 하지만 많은 데이터, 많은 변수를 사용할 수록 최적의 분할을 찾거나 결과값을 도출해내는데 많은 시간이 필요하기 때문에 **적은 변수로 높은 성능을 보이는 것이 가장 적절**하다고 볼 수 있다.\n",
        "\n",
        "\n",
        "> 'Mean Humidity', 'Mean Sea Level PressurehPa', 'Mean VisibilityKm', 'Precipitationmm', 'WindDirDegrees' 5개의 변수가 최적의 변수\n",
        "\n"
      ],
      "metadata": {
        "id": "vPSzLBZ4GhYD"
      }
    }
  ]
}