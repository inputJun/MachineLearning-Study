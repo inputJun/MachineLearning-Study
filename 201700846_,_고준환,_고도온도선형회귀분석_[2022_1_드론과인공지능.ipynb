{
  "nbformat": 4,
  "nbformat_minor": 0,
  "metadata": {
    "colab": {
      "name": "201700846 , 고준환, 고도온도선형회귀분석 @[2022-1-드론과인공지능.ipynb",
      "provenance": [],
      "authorship_tag": "ABX9TyOFV6AaKVk0NAG3RphYBLk9",
      "include_colab_link": true
    },
    "kernelspec": {
      "name": "python3",
      "display_name": "Python 3"
    },
    "language_info": {
      "name": "python"
    }
  },
  "cells": [
    {
      "cell_type": "markdown",
      "metadata": {
        "id": "view-in-github",
        "colab_type": "text"
      },
      "source": [
        "<a href=\"https://colab.research.google.com/github/inputJun/MachineLearning-Study/blob/main/201700846_%2C_%EA%B3%A0%EC%A4%80%ED%99%98%2C_%EA%B3%A0%EB%8F%84%EC%98%A8%EB%8F%84%EC%84%A0%ED%98%95%ED%9A%8C%EA%B7%80%EB%B6%84%EC%84%9D_%5B2022_1_%EB%93%9C%EB%A1%A0%EA%B3%BC%EC%9D%B8%EA%B3%B5%EC%A7%80%EB%8A%A5.ipynb\" target=\"_parent\"><img src=\"https://colab.research.google.com/assets/colab-badge.svg\" alt=\"Open In Colab\"/></a>"
      ]
    },
    {
      "cell_type": "code",
      "execution_count": 34,
      "metadata": {
        "id": "g8HCaJeN_bJ9"
      },
      "outputs": [],
      "source": [
        "import numpy as np\n",
        "altitude = np.array(\n",
        "    [-0.433155, 1.079574, 2.638519, 4.623501, 7.126587,\n",
        "    10.685129, 13.399242, 14.621283, 16.544296, 18.743357,\n",
        "    21.829630, 25.542978, 29.714117, 32.813224, 34.205818,\n",
        "    34.623686, 34.706989, 33.525600]\n",
        "     )\n",
        "temperature = np.array(\n",
        "    [23.561301, 23.510735, 23.493920, 23.484786, 23.419431,\n",
        "    23.386666, 23.325946, 23.291131, 23.284900, 23.214066,\n",
        "    23.192182, 23.189660, 23.156077, 23.085148, 23.081649,\n",
        "    23.083885, 23.051354, 22.984942]\n",
        "     )"
      ]
    },
    {
      "cell_type": "code",
      "source": [
        "import matplotlib.pyplot as plt\n",
        "plt.scatter(altitude, temperature)\n",
        "plt.xlabel('altitude')\n",
        "plt.ylabel('temperature')\n",
        "plt.show()"
      ],
      "metadata": {
        "colab": {
          "base_uri": "https://localhost:8080/",
          "height": 279
        },
        "id": "b1aLx1eAB28j",
        "outputId": "a794261b-7d16-4a34-e4d6-5e3a69c9ec6c"
      },
      "execution_count": 35,
      "outputs": [
        {
          "output_type": "display_data",
          "data": {
            "text/plain": [
              "<Figure size 432x288 with 1 Axes>"
            ],
            "image/png": "[encoded data removed]"
          },
          "metadata": {
            "needs_background": "light"
          }
        }
      ]
    },
    {
      "cell_type": "code",
      "source": [
        "pre_altitude = [60, 70, 80, 90, 100, 110, 120, 130, 140, 150]"
      ],
      "metadata": {
        "id": "YULdeGWkHWoI"
      },
      "execution_count": 36,
      "outputs": []
    },
    {
      "cell_type": "markdown",
      "source": [
        "**선형 회귀**"
      ],
      "metadata": {
        "id": "2LOrBNGNObSZ"
      }
    },
    {
      "cell_type": "code",
      "source": [
        "from sklearn.model_selection import train_test_split\n",
        "train_input, test_input, train_target, test_target = train_test_split(altitude, temperature, random_state=13)\n",
        "\n",
        "train_input = train_input.reshape(-1, 1)\n",
        "test_input = test_input.reshape(-1, 1)"
      ],
      "metadata": {
        "id": "vXU6AsLoHw0y"
      },
      "execution_count": 37,
      "outputs": []
    },
    {
      "cell_type": "code",
      "source": [
        "from sklearn.linear_model import LinearRegression\n",
        "lr = LinearRegression()\n",
        "\n",
        "lr.fit(train_input, train_target)\n",
        "print(lr.coef_, lr.intercept_)"
      ],
      "metadata": {
        "colab": {
          "base_uri": "https://localhost:8080/"
        },
        "id": "qdzi-rYpH4U7",
        "outputId": "7db3a42b-6da2-429e-b4e1-bfcc17845ec4"
      },
      "execution_count": 38,
      "outputs": [
        {
          "output_type": "stream",
          "name": "stdout",
          "text": [
            "[-0.01427449] 23.531879123491255\n"
          ]
        }
      ]
    },
    {
      "cell_type": "markdown",
      "source": [
        "**선형 회귀 분석을 사용했을 고도 60 ~ 150 미터까지에서의 온도 예측값**"
      ],
      "metadata": {
        "id": "w71djSd8KsPL"
      }
    },
    {
      "cell_type": "code",
      "source": [
        "pre_target = []\n",
        "for i in pre_altitude :\n",
        "  pre_target.extend(lr.predict([[i]]))\n",
        "\n",
        "print(pre_target)"
      ],
      "metadata": {
        "colab": {
          "base_uri": "https://localhost:8080/"
        },
        "id": "WQdOphV5JuXA",
        "outputId": "4c71eb4c-41df-43d4-a2e0-71b3f32f3198"
      },
      "execution_count": 39,
      "outputs": [
        {
          "output_type": "stream",
          "name": "stdout",
          "text": [
            "[22.675409498101743, 22.532664560536823, 22.389919622971906, 22.247174685406986, 22.10442974784207, 21.96168481027715, 21.818939872712228, 21.67619493514731, 21.53344999758239, 21.390705060017474]\n"
          ]
        }
      ]
    },
    {
      "cell_type": "code",
      "source": [
        "import matplotlib.pyplot as plt\n",
        "point = np.arange(0, 160)\n",
        "plt.scatter(train_input, train_target)\n",
        "plt.scatter(pre_altitude, pre_target, marker='^')\n",
        "plt.plot(point, lr.coef_*point + lr.intercept_)\n",
        "plt.xlabel('altitude')\n",
        "plt.ylabel('temperature')\n",
        "plt.show()"
      ],
      "metadata": {
        "colab": {
          "base_uri": "https://localhost:8080/",
          "height": 279
        },
        "id": "M0HWVHsAIwyc",
        "outputId": "872bcd69-02ce-487a-b952-d4698010c78f"
      },
      "execution_count": 40,
      "outputs": [
        {
          "output_type": "display_data",
          "data": {
            "text/plain": [
              "<Figure size 432x288 with 1 Axes>"
            ],
            "image/png": "[encoded data removed]"
          },
          "metadata": {
            "needs_background": "light"
          }
        }
      ]
    },
    {
      "cell_type": "markdown",
      "source": [
        "**선형 회귀 분석 시 훈련/테스트 세트의 R^2 점수**"
      ],
      "metadata": {
        "id": "Rhk5NFW8NY3g"
      }
    },
    {
      "cell_type": "code",
      "source": [
        "print(lr.score(train_input, train_target))\n",
        "print(lr.score(test_input, test_target))"
      ],
      "metadata": {
        "colab": {
          "base_uri": "https://localhost:8080/"
        },
        "id": "gZHe0dqPMaDd",
        "outputId": "2bdc812f-e854-4808-9d67-0c71e2826322"
      },
      "execution_count": 41,
      "outputs": [
        {
          "output_type": "stream",
          "name": "stdout",
          "text": [
            "0.9688025843609072\n",
            "0.9617227262825865\n"
          ]
        }
      ]
    },
    {
      "cell_type": "markdown",
      "source": [
        "**다항 회귀**"
      ],
      "metadata": {
        "id": "7EItTMUKOJBY"
      }
    },
    {
      "cell_type": "code",
      "source": [
        "train_poly = np.column_stack((train_input ** 2, train_input))\n",
        "test_poly = np.column_stack((test_input ** 2, test_input))"
      ],
      "metadata": {
        "id": "X2bMBhXuONRZ"
      },
      "execution_count": 42,
      "outputs": []
    },
    {
      "cell_type": "code",
      "source": [
        "print(train_poly.shape, test_poly.shape)"
      ],
      "metadata": {
        "colab": {
          "base_uri": "https://localhost:8080/"
        },
        "id": "zYD1Gua0OiLV",
        "outputId": "e1ce8214-6b4a-485c-8ac7-30b66ec19367"
      },
      "execution_count": 43,
      "outputs": [
        {
          "output_type": "stream",
          "name": "stdout",
          "text": [
            "(13, 2) (5, 2)\n"
          ]
        }
      ]
    },
    {
      "cell_type": "code",
      "source": [
        "lr = LinearRegression()\n",
        "lr.fit(train_poly, train_target)\n",
        "\n",
        "print(lr.coef_, lr.intercept_)"
      ],
      "metadata": {
        "colab": {
          "base_uri": "https://localhost:8080/"
        },
        "id": "QdVKDSo3PMsI",
        "outputId": "6fd66cba-f046-4b5e-a3a2-bd4c79724f23"
      },
      "execution_count": 44,
      "outputs": [
        {
          "output_type": "stream",
          "name": "stdout",
          "text": [
            "[ 0.00012359 -0.01884006] 23.55411522343983\n"
          ]
        }
      ]
    },
    {
      "cell_type": "markdown",
      "source": [
        "**다항 회귀 분석을 사용했을 고도 60 ~ 150 미터까지에서의 온도 예측값**"
      ],
      "metadata": {
        "id": "XXw43a1MRBME"
      }
    },
    {
      "cell_type": "code",
      "source": [
        "pre_target = []\n",
        "for i in pre_altitude :\n",
        "  pre_target.extend(lr.predict([[i ** 2, i]]))\n",
        "\n",
        "print(pre_target)"
      ],
      "metadata": {
        "colab": {
          "base_uri": "https://localhost:8080/"
        },
        "id": "PU2iU5QVQkql",
        "outputId": "bf5a7465-b732-41b5-a0a3-a4b95218e0b7"
      },
      "execution_count": 45,
      "outputs": [
        {
          "output_type": "stream",
          "name": "stdout",
          "text": [
            "[22.868639978275823, 22.84090794636961, 22.837894155117056, 22.85959860451815, 22.906021294572902, 22.977162225281308, 23.07302139664337, 23.193598808659083, 23.33889446132845, 23.50890835465147]\n"
          ]
        }
      ]
    },
    {
      "cell_type": "code",
      "source": [
        "point = np.arange(0, 160)\n",
        "plt.scatter(train_input, train_target)\n",
        "plt.scatter(pre_altitude, pre_target)\n",
        "plt.plot(point, 0.00012359*point**2 -0.01884006*point + lr.intercept_)\n",
        "plt.xlabel('altitude')\n",
        "plt.ylabel('temperature')\n",
        "plt.show()"
      ],
      "metadata": {
        "colab": {
          "base_uri": "https://localhost:8080/",
          "height": 279
        },
        "id": "Q4BxT6-bQwqn",
        "outputId": "0c2cec12-dbd5-4a01-a3ab-34b6a15e40d1"
      },
      "execution_count": 47,
      "outputs": [
        {
          "output_type": "display_data",
          "data": {
            "text/plain": [
              "<Figure size 432x288 with 1 Axes>"
            ],
            "image/png": "[encoded data removed]"
          },
          "metadata": {
            "needs_background": "light"
          }
        }
      ]
    },
    {
      "cell_type": "markdown",
      "source": [
        "**다항 회귀 분석 시 훈련/테스트 세트의 R^2 점수**"
      ],
      "metadata": {
        "id": "ZQw59FkHTwI-"
      }
    },
    {
      "cell_type": "code",
      "source": [
        "print(lr.score(train_poly, train_target))\n",
        "print(lr.score(test_poly, test_target))"
      ],
      "metadata": {
        "colab": {
          "base_uri": "https://localhost:8080/"
        },
        "id": "4K2NAhDmTGPL",
        "outputId": "20674555-ecfb-4c44-84a1-2808faede971"
      },
      "execution_count": 48,
      "outputs": [
        {
          "output_type": "stream",
          "name": "stdout",
          "text": [
            "0.974029957128589\n",
            "0.9672654927525078\n"
          ]
        }
      ]
    },
    {
      "cell_type": "markdown",
      "source": [
        "# **결론**\n",
        "\n",
        "선형 회귀 분석과 다항 회귀 분석의 R^2 값을 비교했을 때 다항 회귀 분석의 R^2값이 더 높은 것을 확인할 수 있지만 연구 상으로 밝혀진 바에 의해 상공 10km 높이의 대류권 경계면 이전까지는 고도가 높아질 수록 온도가 낮아지기 때문에 **선형 회귀 분석으로 분석한 결과가 더 실제값에 가까운 값이라는 결론을 낼 수 있다.**"
      ],
      "metadata": {
        "id": "PS8YUtQpT6mp"
      }
    }
  ]
}