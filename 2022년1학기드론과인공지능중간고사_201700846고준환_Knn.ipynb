{
  "nbformat": 4,
  "nbformat_minor": 0,
  "metadata": {
    "colab": {
      "name": "2022년1학기드론과인공지능중간고사_201700846고준환_Knn.ipynb",
      "provenance": [],
      "include_colab_link": true
    },
    "kernelspec": {
      "name": "python3",
      "display_name": "Python 3"
    },
    "language_info": {
      "name": "python"
    }
  },
  "cells": [
    {
      "cell_type": "markdown",
      "metadata": {
        "id": "view-in-github",
        "colab_type": "text"
      },
      "source": [
        "<a href=\"https://colab.research.google.com/github/inputJun/MachineLearning-Study/blob/main/2022%EB%85%841%ED%95%99%EA%B8%B0%EB%93%9C%EB%A1%A0%EA%B3%BC%EC%9D%B8%EA%B3%B5%EC%A7%80%EB%8A%A5%EC%A4%91%EA%B0%84%EA%B3%A0%EC%82%AC_201700846%EA%B3%A0%EC%A4%80%ED%99%98_Knn.ipynb\" target=\"_parent\"><img src=\"https://colab.research.google.com/assets/colab-badge.svg\" alt=\"Open In Colab\"/></a>"
      ]
    },
    {
      "cell_type": "markdown",
      "source": [
        "**201700846 고준환**"
      ],
      "metadata": {
        "id": "o9ofGSC_uFAt"
      }
    },
    {
      "cell_type": "markdown",
      "source": [
        "**고정익과 회전익 기체 제원 데이터 받아오기**\n",
        "- FixedWing.csv, MultiCopter.csv"
      ],
      "metadata": {
        "id": "7CUV37vRx7PY"
      }
    },
    {
      "cell_type": "code",
      "execution_count": null,
      "metadata": {
        "id": "8O_1EVGAt6fH"
      },
      "outputs": [],
      "source": [
        "import numpy as np\n",
        "import pandas as pd\n",
        "import matplotlib.pyplot as plt"
      ]
    },
    {
      "cell_type": "code",
      "source": [
        "Drone_fixed = pd.read_csv(\"FixedWing.csv\")\n",
        "Drone_fixed.head()"
      ],
      "metadata": {
        "colab": {
          "base_uri": "https://localhost:8080/",
          "height": 206
        },
        "id": "q1acjxFCuwa-",
        "outputId": "32fec4ff-0725-46e9-83e3-673a5ec66aba"
      },
      "execution_count": null,
      "outputs": [
        {
          "output_type": "execute_result",
          "data": {
            "text/plain": [
              "                Company         Name  Length  Width  Weight\n",
              "0                    XK    A100 SU27     420    340      65\n",
              "1                 Samco     DUODRONE    1400   2200    3200\n",
              "2            Uconsystem    RemoM-002    1440   1800    3500\n",
              "3  Suewon Unmanned Tech      SCANNER    1200   2600    5000\n",
              "4            KEVA Drone  KD-2 MAPPER    1100   1800    2000"
            ],
            "text/html": [
              "\n",
              "  <div id=\"df-039472bb-f5b9-41f8-a670-0b82f18da1aa\">\n",
              "    <div class=\"colab-df-container\">\n",
              "      <div>\n",
              "<style scoped>\n",
              "    .dataframe tbody tr th:only-of-type {\n",
              "        vertical-align: middle;\n",
              "    }\n",
              "\n",
              "    .dataframe tbody tr th {\n",
              "        vertical-align: top;\n",
              "    }\n",
              "\n",
              "    .dataframe thead th {\n",
              "        text-align: right;\n",
              "    }\n",
              "</style>\n",
              "<table border=\"1\" class=\"dataframe\">\n",
              "  <thead>\n",
              "    <tr style=\"text-align: right;\">\n",
              "      <th></th>\n",
              "      <th>Company</th>\n",
              "      <th>Name</th>\n",
              "      <th>Length</th>\n",
              "      <th>Width</th>\n",
              "      <th>Weight</th>\n",
              "    </tr>\n",
              "  </thead>\n",
              "  <tbody>\n",
              "    <tr>\n",
              "      <th>0</th>\n",
              "      <td>XK</td>\n",
              "      <td>A100 SU27</td>\n",
              "      <td>420</td>\n",
              "      <td>340</td>\n",
              "      <td>65</td>\n",
              "    </tr>\n",
              "    <tr>\n",
              "      <th>1</th>\n",
              "      <td>Samco</td>\n",
              "      <td>DUODRONE</td>\n",
              "      <td>1400</td>\n",
              "      <td>2200</td>\n",
              "      <td>3200</td>\n",
              "    </tr>\n",
              "    <tr>\n",
              "      <th>2</th>\n",
              "      <td>Uconsystem</td>\n",
              "      <td>RemoM-002</td>\n",
              "      <td>1440</td>\n",
              "      <td>1800</td>\n",
              "      <td>3500</td>\n",
              "    </tr>\n",
              "    <tr>\n",
              "      <th>3</th>\n",
              "      <td>Suewon Unmanned Tech</td>\n",
              "      <td>SCANNER</td>\n",
              "      <td>1200</td>\n",
              "      <td>2600</td>\n",
              "      <td>5000</td>\n",
              "    </tr>\n",
              "    <tr>\n",
              "      <th>4</th>\n",
              "      <td>KEVA Drone</td>\n",
              "      <td>KD-2 MAPPER</td>\n",
              "      <td>1100</td>\n",
              "      <td>1800</td>\n",
              "      <td>2000</td>\n",
              "    </tr>\n",
              "  </tbody>\n",
              "</table>\n",
              "</div>\n",
              "      <button class=\"colab-df-convert\" onclick=\"convertToInteractive('df-039472bb-f5b9-41f8-a670-0b82f18da1aa')\"\n",
              "              title=\"Convert this dataframe to an interactive table.\"\n",
              "              style=\"display:none;\">\n",
              "        \n",
              "  <svg xmlns=\"http://www.w3.org/2000/svg\" height=\"24px\"viewBox=\"0 0 24 24\"\n",
              "       width=\"24px\">\n",
              "    <path d=\"M0 0h24v24H0V0z\" fill=\"none\"/>\n",
              "    <path d=\"M18.56 5.44l.94 2.06.94-2.06 2.06-.94-2.06-.94-.94-2.06-.94 2.06-2.06.94zm-11 1L8.5 8.5l.94-2.06 2.06-.94-2.06-.94L8.5 2.5l-.94 2.06-2.06.94zm10 10l.94 2.06.94-2.06 2.06-.94-2.06-.94-.94-2.06-.94 2.06-2.06.94z\"/><path d=\"M17.41 7.96l-1.37-1.37c-.4-.4-.92-.59-1.43-.59-.52 0-1.04.2-1.43.59L10.3 9.45l-7.72 7.72c-.78.78-.78 2.05 0 2.83L4 21.41c.39.39.9.59 1.41.59.51 0 1.02-.2 1.41-.59l7.78-7.78 2.81-2.81c.8-.78.8-2.07 0-2.86zM5.41 20L4 18.59l7.72-7.72 1.47 1.35L5.41 20z\"/>\n",
              "  </svg>\n",
              "      </button>\n",
              "      \n",
              "  <style>\n",
              "    .colab-df-container {\n",
              "      display:flex;\n",
              "      flex-wrap:wrap;\n",
              "      gap: 12px;\n",
              "    }\n",
              "\n",
              "    .colab-df-convert {\n",
              "      background-color: #E8F0FE;\n",
              "      border: none;\n",
              "      border-radius: 50%;\n",
              "      cursor: pointer;\n",
              "      display: none;\n",
              "      fill: #1967D2;\n",
              "      height: 32px;\n",
              "      padding: 0 0 0 0;\n",
              "      width: 32px;\n",
              "    }\n",
              "\n",
              "    .colab-df-convert:hover {\n",
              "      background-color: #E2EBFA;\n",
              "      box-shadow: 0px 1px 2px rgba(60, 64, 67, 0.3), 0px 1px 3px 1px rgba(60, 64, 67, 0.15);\n",
              "      fill: #174EA6;\n",
              "    }\n",
              "\n",
              "    [theme=dark] .colab-df-convert {\n",
              "      background-color: #3B4455;\n",
              "      fill: #D2E3FC;\n",
              "    }\n",
              "\n",
              "    [theme=dark] .colab-df-convert:hover {\n",
              "      background-color: #434B5C;\n",
              "      box-shadow: 0px 1px 3px 1px rgba(0, 0, 0, 0.15);\n",
              "      filter: drop-shadow(0px 1px 2px rgba(0, 0, 0, 0.3));\n",
              "      fill: #FFFFFF;\n",
              "    }\n",
              "  </style>\n",
              "\n",
              "      <script>\n",
              "        const buttonEl =\n",
              "          document.querySelector('#df-039472bb-f5b9-41f8-a670-0b82f18da1aa button.colab-df-convert');\n",
              "        buttonEl.style.display =\n",
              "          google.colab.kernel.accessAllowed ? 'block' : 'none';\n",
              "\n",
              "        async function convertToInteractive(key) {\n",
              "          const element = document.querySelector('#df-039472bb-f5b9-41f8-a670-0b82f18da1aa');\n",
              "          const dataTable =\n",
              "            await google.colab.kernel.invokeFunction('convertToInteractive',\n",
              "                                                     [key], {});\n",
              "          if (!dataTable) return;\n",
              "\n",
              "          const docLinkHtml = 'Like what you see? Visit the ' +\n",
              "            '<a target=\"_blank\" href=https://colab.research.google.com/notebooks/data_table.ipynb>data table notebook</a>'\n",
              "            + ' to learn more about interactive tables.';\n",
              "          element.innerHTML = '';\n",
              "          dataTable['output_type'] = 'display_data';\n",
              "          await google.colab.output.renderOutput(dataTable, element);\n",
              "          const docLink = document.createElement('div');\n",
              "          docLink.innerHTML = docLinkHtml;\n",
              "          element.appendChild(docLink);\n",
              "        }\n",
              "      </script>\n",
              "    </div>\n",
              "  </div>\n",
              "  "
            ]
          },
          "metadata": {},
          "execution_count": 89
        }
      ]
    },
    {
      "cell_type": "code",
      "source": [
        "Drone_fixed.columns"
      ],
      "metadata": {
        "colab": {
          "base_uri": "https://localhost:8080/"
        },
        "id": "XIx1EA_axfoH",
        "outputId": "bdb99bd3-82ce-4fb2-ebff-03bb00c41bfe"
      },
      "execution_count": null,
      "outputs": [
        {
          "output_type": "execute_result",
          "data": {
            "text/plain": [
              "Index(['Company', 'Name', 'Length', 'Width', 'Weight'], dtype='object')"
            ]
          },
          "metadata": {},
          "execution_count": 90
        }
      ]
    },
    {
      "cell_type": "code",
      "source": [
        "Drone_multi = pd.read_csv(\"MultiCopter.csv\")\n",
        "Drone_multi.head()"
      ],
      "metadata": {
        "colab": {
          "base_uri": "https://localhost:8080/",
          "height": 206
        },
        "id": "E8nAa8GZxl4f",
        "outputId": "d99e017e-66e4-4800-9b49-86dd319db4bb"
      },
      "execution_count": null,
      "outputs": [
        {
          "output_type": "execute_result",
          "data": {
            "text/plain": [
              "  Company           Name  Length  Width  Height  Weight\n",
              "0     DJI   MAVIC 2 ZOOM   322.0  242.0    84.0     905\n",
              "1     DJI    MAVIC 2 PRO   322.0  242.0    84.0     907\n",
              "2     DJI  PHANTOM 4 PRO   289.5  289.5   196.0    1375\n",
              "3     DJI          SPARK   143.0  143.0    55.0     300\n",
              "4     DJI      INSPIRE 2   427.0  317.0   425.0    3440"
            ],
            "text/html": [
              "\n",
              "  <div id=\"df-799ab6bc-4264-4c3c-ac05-7be062e84c30\">\n",
              "    <div class=\"colab-df-container\">\n",
              "      <div>\n",
              "<style scoped>\n",
              "    .dataframe tbody tr th:only-of-type {\n",
              "        vertical-align: middle;\n",
              "    }\n",
              "\n",
              "    .dataframe tbody tr th {\n",
              "        vertical-align: top;\n",
              "    }\n",
              "\n",
              "    .dataframe thead th {\n",
              "        text-align: right;\n",
              "    }\n",
              "</style>\n",
              "<table border=\"1\" class=\"dataframe\">\n",
              "  <thead>\n",
              "    <tr style=\"text-align: right;\">\n",
              "      <th></th>\n",
              "      <th>Company</th>\n",
              "      <th>Name</th>\n",
              "      <th>Length</th>\n",
              "      <th>Width</th>\n",
              "      <th>Height</th>\n",
              "      <th>Weight</th>\n",
              "    </tr>\n",
              "  </thead>\n",
              "  <tbody>\n",
              "    <tr>\n",
              "      <th>0</th>\n",
              "      <td>DJI</td>\n",
              "      <td>MAVIC 2 ZOOM</td>\n",
              "      <td>322.0</td>\n",
              "      <td>242.0</td>\n",
              "      <td>84.0</td>\n",
              "      <td>905</td>\n",
              "    </tr>\n",
              "    <tr>\n",
              "      <th>1</th>\n",
              "      <td>DJI</td>\n",
              "      <td>MAVIC 2 PRO</td>\n",
              "      <td>322.0</td>\n",
              "      <td>242.0</td>\n",
              "      <td>84.0</td>\n",
              "      <td>907</td>\n",
              "    </tr>\n",
              "    <tr>\n",
              "      <th>2</th>\n",
              "      <td>DJI</td>\n",
              "      <td>PHANTOM 4 PRO</td>\n",
              "      <td>289.5</td>\n",
              "      <td>289.5</td>\n",
              "      <td>196.0</td>\n",
              "      <td>1375</td>\n",
              "    </tr>\n",
              "    <tr>\n",
              "      <th>3</th>\n",
              "      <td>DJI</td>\n",
              "      <td>SPARK</td>\n",
              "      <td>143.0</td>\n",
              "      <td>143.0</td>\n",
              "      <td>55.0</td>\n",
              "      <td>300</td>\n",
              "    </tr>\n",
              "    <tr>\n",
              "      <th>4</th>\n",
              "      <td>DJI</td>\n",
              "      <td>INSPIRE 2</td>\n",
              "      <td>427.0</td>\n",
              "      <td>317.0</td>\n",
              "      <td>425.0</td>\n",
              "      <td>3440</td>\n",
              "    </tr>\n",
              "  </tbody>\n",
              "</table>\n",
              "</div>\n",
              "      <button class=\"colab-df-convert\" onclick=\"convertToInteractive('df-799ab6bc-4264-4c3c-ac05-7be062e84c30')\"\n",
              "              title=\"Convert this dataframe to an interactive table.\"\n",
              "              style=\"display:none;\">\n",
              "        \n",
              "  <svg xmlns=\"http://www.w3.org/2000/svg\" height=\"24px\"viewBox=\"0 0 24 24\"\n",
              "       width=\"24px\">\n",
              "    <path d=\"M0 0h24v24H0V0z\" fill=\"none\"/>\n",
              "    <path d=\"M18.56 5.44l.94 2.06.94-2.06 2.06-.94-2.06-.94-.94-2.06-.94 2.06-2.06.94zm-11 1L8.5 8.5l.94-2.06 2.06-.94-2.06-.94L8.5 2.5l-.94 2.06-2.06.94zm10 10l.94 2.06.94-2.06 2.06-.94-2.06-.94-.94-2.06-.94 2.06-2.06.94z\"/><path d=\"M17.41 7.96l-1.37-1.37c-.4-.4-.92-.59-1.43-.59-.52 0-1.04.2-1.43.59L10.3 9.45l-7.72 7.72c-.78.78-.78 2.05 0 2.83L4 21.41c.39.39.9.59 1.41.59.51 0 1.02-.2 1.41-.59l7.78-7.78 2.81-2.81c.8-.78.8-2.07 0-2.86zM5.41 20L4 18.59l7.72-7.72 1.47 1.35L5.41 20z\"/>\n",
              "  </svg>\n",
              "      </button>\n",
              "      \n",
              "  <style>\n",
              "    .colab-df-container {\n",
              "      display:flex;\n",
              "      flex-wrap:wrap;\n",
              "      gap: 12px;\n",
              "    }\n",
              "\n",
              "    .colab-df-convert {\n",
              "      background-color: #E8F0FE;\n",
              "      border: none;\n",
              "      border-radius: 50%;\n",
              "      cursor: pointer;\n",
              "      display: none;\n",
              "      fill: #1967D2;\n",
              "      height: 32px;\n",
              "      padding: 0 0 0 0;\n",
              "      width: 32px;\n",
              "    }\n",
              "\n",
              "    .colab-df-convert:hover {\n",
              "      background-color: #E2EBFA;\n",
              "      box-shadow: 0px 1px 2px rgba(60, 64, 67, 0.3), 0px 1px 3px 1px rgba(60, 64, 67, 0.15);\n",
              "      fill: #174EA6;\n",
              "    }\n",
              "\n",
              "    [theme=dark] .colab-df-convert {\n",
              "      background-color: #3B4455;\n",
              "      fill: #D2E3FC;\n",
              "    }\n",
              "\n",
              "    [theme=dark] .colab-df-convert:hover {\n",
              "      background-color: #434B5C;\n",
              "      box-shadow: 0px 1px 3px 1px rgba(0, 0, 0, 0.15);\n",
              "      filter: drop-shadow(0px 1px 2px rgba(0, 0, 0, 0.3));\n",
              "      fill: #FFFFFF;\n",
              "    }\n",
              "  </style>\n",
              "\n",
              "      <script>\n",
              "        const buttonEl =\n",
              "          document.querySelector('#df-799ab6bc-4264-4c3c-ac05-7be062e84c30 button.colab-df-convert');\n",
              "        buttonEl.style.display =\n",
              "          google.colab.kernel.accessAllowed ? 'block' : 'none';\n",
              "\n",
              "        async function convertToInteractive(key) {\n",
              "          const element = document.querySelector('#df-799ab6bc-4264-4c3c-ac05-7be062e84c30');\n",
              "          const dataTable =\n",
              "            await google.colab.kernel.invokeFunction('convertToInteractive',\n",
              "                                                     [key], {});\n",
              "          if (!dataTable) return;\n",
              "\n",
              "          const docLinkHtml = 'Like what you see? Visit the ' +\n",
              "            '<a target=\"_blank\" href=https://colab.research.google.com/notebooks/data_table.ipynb>data table notebook</a>'\n",
              "            + ' to learn more about interactive tables.';\n",
              "          element.innerHTML = '';\n",
              "          dataTable['output_type'] = 'display_data';\n",
              "          await google.colab.output.renderOutput(dataTable, element);\n",
              "          const docLink = document.createElement('div');\n",
              "          docLink.innerHTML = docLinkHtml;\n",
              "          element.appendChild(docLink);\n",
              "        }\n",
              "      </script>\n",
              "    </div>\n",
              "  </div>\n",
              "  "
            ]
          },
          "metadata": {},
          "execution_count": 91
        }
      ]
    },
    {
      "cell_type": "code",
      "source": [
        "Drone_multi.columns"
      ],
      "metadata": {
        "colab": {
          "base_uri": "https://localhost:8080/"
        },
        "id": "oQevsHshxxJU",
        "outputId": "945d70d8-b624-49ce-ad52-951ead62d109"
      },
      "execution_count": null,
      "outputs": [
        {
          "output_type": "execute_result",
          "data": {
            "text/plain": [
              "Index(['Company', 'Name', 'Length', 'Width', 'Height', 'Weight'], dtype='object')"
            ]
          },
          "metadata": {},
          "execution_count": 92
        }
      ]
    },
    {
      "cell_type": "markdown",
      "source": [
        "**csv 파일에서 고정익 / 회전익의 전장(Length), 무게(Weight)값을 추출한 후 리스트 생성**"
      ],
      "metadata": {
        "id": "-tnNh06Jyg1Q"
      }
    },
    {
      "cell_type": "markdown",
      "source": [
        "고정익의 전장"
      ],
      "metadata": {
        "id": "Elg9UnxY2ZAh"
      }
    },
    {
      "cell_type": "code",
      "source": [
        "fixed_length_list = []\n",
        "for i in Drone_fixed[\"Length\"] :\n",
        "  fixed_length_list.append(i)\n",
        "print(fixed_length_list)"
      ],
      "metadata": {
        "colab": {
          "base_uri": "https://localhost:8080/"
        },
        "id": "D8FVwOfAx2k_",
        "outputId": "bdc84c7e-2425-4ff2-a31f-a9d6d0058a90"
      },
      "execution_count": null,
      "outputs": [
        {
          "output_type": "stream",
          "name": "stdout",
          "text": [
            "[420, 1400, 1440, 1200, 1100, 1132, 1000, 1500, 580, 2600, 3200, 1200, 1070, 1270, 1460, 1070, 1637, 1100, 855, 1045, 990, 1030, 1045, 980, 1075, 405, 620, 1170]\n"
          ]
        }
      ]
    },
    {
      "cell_type": "markdown",
      "source": [
        "고정익의 무게"
      ],
      "metadata": {
        "id": "9IG6E_PG2bga"
      }
    },
    {
      "cell_type": "code",
      "source": [
        "fixed_weight_list = []\n",
        "for i in Drone_fixed[\"Weight\"] :\n",
        "  fixed_weight_list.append(i)\n",
        "print(fixed_weight_list)"
      ],
      "metadata": {
        "colab": {
          "base_uri": "https://localhost:8080/"
        },
        "id": "foN-atZ_1qql",
        "outputId": "f1e22d2b-19df-42f5-f5d3-ad19ae9e8e12"
      },
      "execution_count": null,
      "outputs": [
        {
          "output_type": "stream",
          "name": "stdout",
          "text": [
            "[65, 3200, 3500, 5000, 2000, 1050, 6000, 15000, 750, 10000, 21500, 9000, 4200, 2750, 17000, 5000, 3780, 2750, 830, 1100, 1700, 760, 1250, 1540, 7100, 300, 650, 1500]\n"
          ]
        }
      ]
    },
    {
      "cell_type": "markdown",
      "source": [
        "회전익의 전장"
      ],
      "metadata": {
        "id": "DC1vQUps2dX7"
      }
    },
    {
      "cell_type": "code",
      "source": [
        "multi_length_list = []\n",
        "for i in Drone_multi[\"Length\"] :\n",
        "  multi_length_list.append(i)\n",
        "print(multi_length_list)"
      ],
      "metadata": {
        "colab": {
          "base_uri": "https://localhost:8080/"
        },
        "id": "CwnkZ8r912FE",
        "outputId": "c3cb690d-c7da-4f2f-df6b-51bfb6985af1"
      },
      "execution_count": null,
      "outputs": [
        {
          "output_type": "stream",
          "name": "stdout",
          "text": [
            "[322.0, 322.0, 289.5, 143.0, 427.0, 1460.0, 400.0, 1940.0, 1860.0, 365.0, 1974.0, 1590.0, 730.0, 1002.0, 204.0, 305.0, 159.0, 1800.0, 860.0, 1140.0, 1225.0, 350.0, 1000.0, 1100.0, 643.0, 535.0, 330.0, 1000.0, 360.0, 2123.0]\n"
          ]
        }
      ]
    },
    {
      "cell_type": "markdown",
      "source": [
        "회전익의 무게"
      ],
      "metadata": {
        "id": "v_MTN-Xn2f4W"
      }
    },
    {
      "cell_type": "code",
      "source": [
        "multi_weight_list = []\n",
        "for i in Drone_multi[\"Weight\"] :\n",
        "  multi_weight_list.append(i)\n",
        "print(multi_weight_list)"
      ],
      "metadata": {
        "colab": {
          "base_uri": "https://localhost:8080/"
        },
        "id": "z9e-28i42Dfz",
        "outputId": "ade0f58e-b720-45d9-c715-529f308a0bce"
      },
      "execution_count": null,
      "outputs": [
        {
          "output_type": "stream",
          "name": "stdout",
          "text": [
            "[905, 907, 1375, 300, 3440, 9700, 147, 14900, 17100, 992, 18320, 18500, 1434, 5500, 790, 945, 249, 13800, 9700, 9400, 15000, 1400, 13100, 13500, 5250, 7600, 1200, 10200, 850, 18800]\n"
          ]
        }
      ]
    },
    {
      "cell_type": "markdown",
      "source": [
        "고정익과 회전익의 전장 리스트 합치기"
      ],
      "metadata": {
        "id": "b-BDwlHF5L6q"
      }
    },
    {
      "cell_type": "code",
      "source": [
        "drone_length = []\n",
        "drone_length.extend(fixed_length_list)\n",
        "drone_length.extend(multi_length_list)\n",
        "print(drone_length)"
      ],
      "metadata": {
        "colab": {
          "base_uri": "https://localhost:8080/"
        },
        "id": "i7XNTs3E5dZz",
        "outputId": "436bdbf6-9020-4149-cbce-513b07363d91"
      },
      "execution_count": null,
      "outputs": [
        {
          "output_type": "stream",
          "name": "stdout",
          "text": [
            "[420, 1400, 1440, 1200, 1100, 1132, 1000, 1500, 580, 2600, 3200, 1200, 1070, 1270, 1460, 1070, 1637, 1100, 855, 1045, 990, 1030, 1045, 980, 1075, 405, 620, 1170, 322.0, 322.0, 289.5, 143.0, 427.0, 1460.0, 400.0, 1940.0, 1860.0, 365.0, 1974.0, 1590.0, 730.0, 1002.0, 204.0, 305.0, 159.0, 1800.0, 860.0, 1140.0, 1225.0, 350.0, 1000.0, 1100.0, 643.0, 535.0, 330.0, 1000.0, 360.0, 2123.0]\n"
          ]
        }
      ]
    },
    {
      "cell_type": "markdown",
      "source": [
        "고정익과 회전익의 무게 리스트 합치기"
      ],
      "metadata": {
        "id": "AzIpIqpd6XGH"
      }
    },
    {
      "cell_type": "code",
      "source": [
        "drone_weight = []\n",
        "drone_weight.extend(fixed_weight_list)\n",
        "drone_weight.extend(multi_weight_list)\n",
        "print(drone_weight)"
      ],
      "metadata": {
        "colab": {
          "base_uri": "https://localhost:8080/"
        },
        "id": "kc4dAS3F6adz",
        "outputId": "4ebb1849-fcf4-4a7f-fd0e-365e5d740cc0"
      },
      "execution_count": null,
      "outputs": [
        {
          "output_type": "stream",
          "name": "stdout",
          "text": [
            "[65, 3200, 3500, 5000, 2000, 1050, 6000, 15000, 750, 10000, 21500, 9000, 4200, 2750, 17000, 5000, 3780, 2750, 830, 1100, 1700, 760, 1250, 1540, 7100, 300, 650, 1500, 905, 907, 1375, 300, 3440, 9700, 147, 14900, 17100, 992, 18320, 18500, 1434, 5500, 790, 945, 249, 13800, 9700, 9400, 15000, 1400, 13100, 13500, 5250, 7600, 1200, 10200, 850, 18800]\n"
          ]
        }
      ]
    },
    {
      "cell_type": "markdown",
      "source": [
        "**넘파이 배열로 전환**"
      ],
      "metadata": {
        "id": "AwEMGPQb2q2J"
      }
    },
    {
      "cell_type": "code",
      "source": [
        "drone_data = np.column_stack((drone_length, drone_weight))\n",
        "print(drone_data)"
      ],
      "metadata": {
        "colab": {
          "base_uri": "https://localhost:8080/"
        },
        "id": "AB4AvmEr2VR3",
        "outputId": "e3d6250b-be9b-46a0-fd41-6892d5c51693"
      },
      "execution_count": null,
      "outputs": [
        {
          "output_type": "stream",
          "name": "stdout",
          "text": [
            "[[  420.     65. ]\n",
            " [ 1400.   3200. ]\n",
            " [ 1440.   3500. ]\n",
            " [ 1200.   5000. ]\n",
            " [ 1100.   2000. ]\n",
            " [ 1132.   1050. ]\n",
            " [ 1000.   6000. ]\n",
            " [ 1500.  15000. ]\n",
            " [  580.    750. ]\n",
            " [ 2600.  10000. ]\n",
            " [ 3200.  21500. ]\n",
            " [ 1200.   9000. ]\n",
            " [ 1070.   4200. ]\n",
            " [ 1270.   2750. ]\n",
            " [ 1460.  17000. ]\n",
            " [ 1070.   5000. ]\n",
            " [ 1637.   3780. ]\n",
            " [ 1100.   2750. ]\n",
            " [  855.    830. ]\n",
            " [ 1045.   1100. ]\n",
            " [  990.   1700. ]\n",
            " [ 1030.    760. ]\n",
            " [ 1045.   1250. ]\n",
            " [  980.   1540. ]\n",
            " [ 1075.   7100. ]\n",
            " [  405.    300. ]\n",
            " [  620.    650. ]\n",
            " [ 1170.   1500. ]\n",
            " [  322.    905. ]\n",
            " [  322.    907. ]\n",
            " [  289.5  1375. ]\n",
            " [  143.    300. ]\n",
            " [  427.   3440. ]\n",
            " [ 1460.   9700. ]\n",
            " [  400.    147. ]\n",
            " [ 1940.  14900. ]\n",
            " [ 1860.  17100. ]\n",
            " [  365.    992. ]\n",
            " [ 1974.  18320. ]\n",
            " [ 1590.  18500. ]\n",
            " [  730.   1434. ]\n",
            " [ 1002.   5500. ]\n",
            " [  204.    790. ]\n",
            " [  305.    945. ]\n",
            " [  159.    249. ]\n",
            " [ 1800.  13800. ]\n",
            " [  860.   9700. ]\n",
            " [ 1140.   9400. ]\n",
            " [ 1225.  15000. ]\n",
            " [  350.   1400. ]\n",
            " [ 1000.  13100. ]\n",
            " [ 1100.  13500. ]\n",
            " [  643.   5250. ]\n",
            " [  535.   7600. ]\n",
            " [  330.   1200. ]\n",
            " [ 1000.  10200. ]\n",
            " [  360.    850. ]\n",
            " [ 2123.  18800. ]]\n"
          ]
        }
      ]
    },
    {
      "cell_type": "markdown",
      "source": [
        "**고정익을 1, 회전익을 0으로 설정하여 target값 설정**"
      ],
      "metadata": {
        "id": "H5adslWC9agh"
      }
    },
    {
      "cell_type": "code",
      "source": [
        "drone_target = np.concatenate((np.ones(len(fixed_length_list)), np.zeros(len(multi_length_list))))\n",
        "print(drone_target)"
      ],
      "metadata": {
        "colab": {
          "base_uri": "https://localhost:8080/"
        },
        "id": "UPzdAp-J3Cr9",
        "outputId": "0cf0d4ca-a191-4369-9efc-cc7350a2ed03"
      },
      "execution_count": null,
      "outputs": [
        {
          "output_type": "stream",
          "name": "stdout",
          "text": [
            "[1. 1. 1. 1. 1. 1. 1. 1. 1. 1. 1. 1. 1. 1. 1. 1. 1. 1. 1. 1. 1. 1. 1. 1.\n",
            " 1. 1. 1. 1. 0. 0. 0. 0. 0. 0. 0. 0. 0. 0. 0. 0. 0. 0. 0. 0. 0. 0. 0. 0.\n",
            " 0. 0. 0. 0. 0. 0. 0. 0. 0. 0.]\n"
          ]
        }
      ]
    },
    {
      "cell_type": "markdown",
      "source": [
        "**사이킷런으로 훈련 세트 / 테스트 세트 나누기**"
      ],
      "metadata": {
        "id": "7X2MOtya9tY-"
      }
    },
    {
      "cell_type": "code",
      "source": [
        "from sklearn.model_selection import train_test_split"
      ],
      "metadata": {
        "id": "96shQ4cJ8yY0"
      },
      "execution_count": null,
      "outputs": []
    },
    {
      "cell_type": "code",
      "source": [
        "train_input, test_input, train_target, test_target = train_test_split(\n",
        "    drone_data, drone_target, stratify=drone_target, random_state=42)"
      ],
      "metadata": {
        "id": "Xi_UxCjpCqrL"
      },
      "execution_count": null,
      "outputs": []
    },
    {
      "cell_type": "code",
      "source": [
        "print(test_target)"
      ],
      "metadata": {
        "colab": {
          "base_uri": "https://localhost:8080/"
        },
        "id": "WdMZtG69C9dj",
        "outputId": "0c044aad-41fb-4bd6-a00e-04bd0e62e588"
      },
      "execution_count": null,
      "outputs": [
        {
          "output_type": "stream",
          "name": "stdout",
          "text": [
            "[0. 1. 1. 0. 1. 1. 0. 0. 0. 1. 1. 1. 0. 0. 0.]\n"
          ]
        }
      ]
    },
    {
      "cell_type": "markdown",
      "source": [
        "**k-최근접 이웃 알고리즘**"
      ],
      "metadata": {
        "id": "RcT20iRYDUMd"
      }
    },
    {
      "cell_type": "code",
      "source": [
        "from sklearn.neighbors import KNeighborsClassifier\n",
        "kn = KNeighborsClassifier()\n",
        "kn.fit(train_input, train_target)\n",
        "kn.score(test_input, test_target)"
      ],
      "metadata": {
        "colab": {
          "base_uri": "https://localhost:8080/"
        },
        "id": "pv6OyVSlDVEk",
        "outputId": "b851c0be-e6e4-41d7-c9d8-7460d315154d"
      },
      "execution_count": null,
      "outputs": [
        {
          "output_type": "execute_result",
          "data": {
            "text/plain": [
              "0.7333333333333333"
            ]
          },
          "metadata": {},
          "execution_count": 104
        }
      ]
    },
    {
      "cell_type": "markdown",
      "source": [
        "knn으로 전장 1500, 무게 15000인 드론 예측"
      ],
      "metadata": {
        "id": "hs479x6lEHZA"
      }
    },
    {
      "cell_type": "code",
      "source": [
        "print(kn.predict([[1500, 15000]]))"
      ],
      "metadata": {
        "colab": {
          "base_uri": "https://localhost:8080/"
        },
        "id": "Jt669GF5Lqnj",
        "outputId": "c292932a-e622-406a-c59a-74af5d54aa1d"
      },
      "execution_count": null,
      "outputs": [
        {
          "output_type": "stream",
          "name": "stdout",
          "text": [
            "[0.]\n"
          ]
        }
      ]
    },
    {
      "cell_type": "code",
      "source": [
        "distances, indexes = kn.kneighbors([[1500, 15000]])"
      ],
      "metadata": {
        "id": "N4LU1C6eGBbf"
      },
      "execution_count": null,
      "outputs": []
    },
    {
      "cell_type": "code",
      "source": [
        "plt.scatter(train_input[:len(fixed_length_list)+1,0], train_input[:len(fixed_length_list)+1,1])\n",
        "plt.scatter(train_input[len(fixed_length_list)+1:,0], train_input[len(fixed_length_list)+1:,1])\n",
        "plt.scatter(train_input[indexes,0], train_input[indexes,1], marker='D')\n",
        "plt.scatter(1500, 15000, marker='^')\n",
        "plt.xlabel('length')\n",
        "plt.ylabel('weight')\n",
        "plt.show()"
      ],
      "metadata": {
        "colab": {
          "base_uri": "https://localhost:8080/",
          "height": 279
        },
        "id": "_aXtfPXKDjw-",
        "outputId": "e63705fe-5253-434a-ad93-1cf52937c8e7"
      },
      "execution_count": null,
      "outputs": [
        {
          "output_type": "display_data",
          "data": {
            "text/plain": [
              "<Figure size 432x288 with 1 Axes>"
            ],
            "image/png": "[encoded data removed]"
          },
          "metadata": {
            "needs_background": "light"
          }
        }
      ]
    },
    {
      "cell_type": "markdown",
      "source": [
        "**데이터 전처리**"
      ],
      "metadata": {
        "id": "zrGpvx9vIFZu"
      }
    },
    {
      "cell_type": "code",
      "source": [
        "mean = np.mean(train_input, axis = 0)\n",
        "std = np.std(train_input, axis = 0)\n",
        "print(mean, std)"
      ],
      "metadata": {
        "colab": {
          "base_uri": "https://localhost:8080/"
        },
        "id": "UR3wfK9WFhNU",
        "outputId": "e7df4af1-39f2-44a8-c46f-6bbcfd053e34"
      },
      "execution_count": null,
      "outputs": [
        {
          "output_type": "stream",
          "name": "stdout",
          "text": [
            "[ 954.68604651 4983.53488372] [ 577.46064019 5566.2009772 ]\n"
          ]
        }
      ]
    },
    {
      "cell_type": "code",
      "source": [
        "train_scaled = (train_input - mean) / std"
      ],
      "metadata": {
        "id": "7S-EvLlvEeay"
      },
      "execution_count": null,
      "outputs": []
    },
    {
      "cell_type": "code",
      "source": [
        "kn.fit(train_scaled, train_target)"
      ],
      "metadata": {
        "colab": {
          "base_uri": "https://localhost:8080/"
        },
        "id": "FJ9roVsnKjoP",
        "outputId": "d129584b-715d-4480-86d5-c51401d52196"
      },
      "execution_count": null,
      "outputs": [
        {
          "output_type": "execute_result",
          "data": {
            "text/plain": [
              "KNeighborsClassifier()"
            ]
          },
          "metadata": {},
          "execution_count": 110
        }
      ]
    },
    {
      "cell_type": "code",
      "source": [
        "test_scaled = (test_input - mean) / std"
      ],
      "metadata": {
        "id": "rRWMqFO_Km_j"
      },
      "execution_count": null,
      "outputs": []
    },
    {
      "cell_type": "code",
      "source": [
        "kn.score(test_scaled, test_target)"
      ],
      "metadata": {
        "colab": {
          "base_uri": "https://localhost:8080/"
        },
        "id": "73atjzi2Krp-",
        "outputId": "c70697bd-0ea6-4c70-f89a-66de96bba2e3"
      },
      "execution_count": null,
      "outputs": [
        {
          "output_type": "execute_result",
          "data": {
            "text/plain": [
              "0.7333333333333333"
            ]
          },
          "metadata": {},
          "execution_count": 112
        }
      ]
    },
    {
      "cell_type": "code",
      "source": [
        "new = ([1500, 15000] - mean) / std"
      ],
      "metadata": {
        "id": "9s03loUbMd-p"
      },
      "execution_count": null,
      "outputs": []
    },
    {
      "cell_type": "markdown",
      "source": [
        "전처리 데이터로 훈련한 모델에서 전장 1500, 무게 15000 인 드론 예측"
      ],
      "metadata": {
        "id": "bTtINBziMo6d"
      }
    },
    {
      "cell_type": "code",
      "source": [
        "print(kn.predict([new]))"
      ],
      "metadata": {
        "colab": {
          "base_uri": "https://localhost:8080/"
        },
        "id": "2Qv2sVrzKuoi",
        "outputId": "dac71bde-ce84-4179-e8d8-c5cdad8e6ca2"
      },
      "execution_count": null,
      "outputs": [
        {
          "output_type": "stream",
          "name": "stdout",
          "text": [
            "[0.]\n"
          ]
        }
      ]
    },
    {
      "cell_type": "code",
      "source": [
        "distances, indexes = kn.kneighbors([new])\n",
        "plt.scatter(train_scaled[:len(fixed_length_list)+1,0], train_scaled[:len(fixed_length_list)+1,1])\n",
        "plt.scatter(train_scaled[len(fixed_length_list)+1:,0], train_scaled[len(fixed_length_list)+1:,1])\n",
        "plt.scatter(train_scaled[indexes,0], train_scaled[indexes,1], marker='D')\n",
        "plt.scatter(new[0], new[1], marker='^')\n",
        "plt.xlabel('length')\n",
        "plt.ylabel('weight')\n",
        "plt.show()"
      ],
      "metadata": {
        "colab": {
          "base_uri": "https://localhost:8080/",
          "height": 279
        },
        "id": "hj9hhyvPK1sF",
        "outputId": "dbefbcc4-ecce-462e-d52f-136de2d16d2f"
      },
      "execution_count": null,
      "outputs": [
        {
          "output_type": "display_data",
          "data": {
            "text/plain": [
              "<Figure size 432x288 with 1 Axes>"
            ],
            "image/png": "[encoded data removed]"
          },
          "metadata": {
            "needs_background": "light"
          }
        }
      ]
    },
    {
      "cell_type": "markdown",
      "source": [
        "# **결론**\n",
        "\n",
        "**전장 1500, 무게 15000인 드론을 전처리 전의 데이터로 훈련한 k-최근접 이웃 객체에서도 회전익, 전처리 후의 데이터로 훈련한 k-최근접 이웃 객체에서도 회전익으로 예상을 한다.**\n",
        "그러나 전처리 전과 후의 이웃한 인덱스 값에서는 변화가 발생한 것을 확인할 수 있다. "
      ],
      "metadata": {
        "id": "GufhNkRwNAiN"
      }
    }
  ]
}