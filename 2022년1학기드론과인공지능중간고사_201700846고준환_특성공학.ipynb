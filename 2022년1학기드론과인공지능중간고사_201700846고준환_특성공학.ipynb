{
  "nbformat": 4,
  "nbformat_minor": 0,
  "metadata": {
    "colab": {
      "name": "2022년1학기드론과인공지능중간고사_201700846고준환_특성공학.ipynb",
      "provenance": [],
      "collapsed_sections": [],
      "include_colab_link": true
    },
    "kernelspec": {
      "name": "python3",
      "display_name": "Python 3"
    },
    "language_info": {
      "name": "python"
    }
  },
  "cells": [
    {
      "cell_type": "markdown",
      "metadata": {
        "id": "view-in-github",
        "colab_type": "text"
      },
      "source": [
        "<a href=\"https://colab.research.google.com/github/inputJun/MachineLearning-Study/blob/main/2022%EB%85%841%ED%95%99%EA%B8%B0%EB%93%9C%EB%A1%A0%EA%B3%BC%EC%9D%B8%EA%B3%B5%EC%A7%80%EB%8A%A5%EC%A4%91%EA%B0%84%EA%B3%A0%EC%82%AC_201700846%EA%B3%A0%EC%A4%80%ED%99%98_%ED%8A%B9%EC%84%B1%EA%B3%B5%ED%95%99.ipynb\" target=\"_parent\"><img src=\"https://colab.research.google.com/assets/colab-badge.svg\" alt=\"Open In Colab\"/></a>"
      ]
    },
    {
      "cell_type": "markdown",
      "source": [
        "**201700846 고준환**"
      ],
      "metadata": {
        "id": "MgPEUqdiEhwd"
      }
    },
    {
      "cell_type": "markdown",
      "source": [
        "**회전익 기체 제원 데이터 받아오기**\n",
        "- MultiCopter.csv"
      ],
      "metadata": {
        "id": "k3NkTuTqEk1S"
      }
    },
    {
      "cell_type": "code",
      "execution_count": null,
      "metadata": {
        "id": "8lTtMH5AEPNl"
      },
      "outputs": [],
      "source": [
        "import numpy as np\n",
        "import pandas as pd\n",
        "import matplotlib.pyplot as plt"
      ]
    },
    {
      "cell_type": "code",
      "source": [
        "Drone_multi = pd.read_csv(\"MultiCopter.csv\")\n",
        "Drone_multi.head()"
      ],
      "metadata": {
        "colab": {
          "base_uri": "https://localhost:8080/",
          "height": 206
        },
        "id": "3igJXh7bErDo",
        "outputId": "12db5b7c-1424-43be-e550-d804b157d980"
      },
      "execution_count": null,
      "outputs": [
        {
          "output_type": "execute_result",
          "data": {
            "text/plain": [
              "  Company           Name  Length  Width  Height  Weight\n",
              "0     DJI   MAVIC 2 ZOOM   322.0  242.0    84.0     905\n",
              "1     DJI    MAVIC 2 PRO   322.0  242.0    84.0     907\n",
              "2     DJI  PHANTOM 4 PRO   289.5  289.5   196.0    1375\n",
              "3     DJI          SPARK   143.0  143.0    55.0     300\n",
              "4     DJI      INSPIRE 2   427.0  317.0   425.0    3440"
            ],
            "text/html": [
              "\n",
              "  <div id=\"df-dcba6565-3a5d-4159-bbe7-a22f4758d506\">\n",
              "    <div class=\"colab-df-container\">\n",
              "      <div>\n",
              "<style scoped>\n",
              "    .dataframe tbody tr th:only-of-type {\n",
              "        vertical-align: middle;\n",
              "    }\n",
              "\n",
              "    .dataframe tbody tr th {\n",
              "        vertical-align: top;\n",
              "    }\n",
              "\n",
              "    .dataframe thead th {\n",
              "        text-align: right;\n",
              "    }\n",
              "</style>\n",
              "<table border=\"1\" class=\"dataframe\">\n",
              "  <thead>\n",
              "    <tr style=\"text-align: right;\">\n",
              "      <th></th>\n",
              "      <th>Company</th>\n",
              "      <th>Name</th>\n",
              "      <th>Length</th>\n",
              "      <th>Width</th>\n",
              "      <th>Height</th>\n",
              "      <th>Weight</th>\n",
              "    </tr>\n",
              "  </thead>\n",
              "  <tbody>\n",
              "    <tr>\n",
              "      <th>0</th>\n",
              "      <td>DJI</td>\n",
              "      <td>MAVIC 2 ZOOM</td>\n",
              "      <td>322.0</td>\n",
              "      <td>242.0</td>\n",
              "      <td>84.0</td>\n",
              "      <td>905</td>\n",
              "    </tr>\n",
              "    <tr>\n",
              "      <th>1</th>\n",
              "      <td>DJI</td>\n",
              "      <td>MAVIC 2 PRO</td>\n",
              "      <td>322.0</td>\n",
              "      <td>242.0</td>\n",
              "      <td>84.0</td>\n",
              "      <td>907</td>\n",
              "    </tr>\n",
              "    <tr>\n",
              "      <th>2</th>\n",
              "      <td>DJI</td>\n",
              "      <td>PHANTOM 4 PRO</td>\n",
              "      <td>289.5</td>\n",
              "      <td>289.5</td>\n",
              "      <td>196.0</td>\n",
              "      <td>1375</td>\n",
              "    </tr>\n",
              "    <tr>\n",
              "      <th>3</th>\n",
              "      <td>DJI</td>\n",
              "      <td>SPARK</td>\n",
              "      <td>143.0</td>\n",
              "      <td>143.0</td>\n",
              "      <td>55.0</td>\n",
              "      <td>300</td>\n",
              "    </tr>\n",
              "    <tr>\n",
              "      <th>4</th>\n",
              "      <td>DJI</td>\n",
              "      <td>INSPIRE 2</td>\n",
              "      <td>427.0</td>\n",
              "      <td>317.0</td>\n",
              "      <td>425.0</td>\n",
              "      <td>3440</td>\n",
              "    </tr>\n",
              "  </tbody>\n",
              "</table>\n",
              "</div>\n",
              "      <button class=\"colab-df-convert\" onclick=\"convertToInteractive('df-dcba6565-3a5d-4159-bbe7-a22f4758d506')\"\n",
              "              title=\"Convert this dataframe to an interactive table.\"\n",
              "              style=\"display:none;\">\n",
              "        \n",
              "  <svg xmlns=\"http://www.w3.org/2000/svg\" height=\"24px\"viewBox=\"0 0 24 24\"\n",
              "       width=\"24px\">\n",
              "    <path d=\"M0 0h24v24H0V0z\" fill=\"none\"/>\n",
              "    <path d=\"M18.56 5.44l.94 2.06.94-2.06 2.06-.94-2.06-.94-.94-2.06-.94 2.06-2.06.94zm-11 1L8.5 8.5l.94-2.06 2.06-.94-2.06-.94L8.5 2.5l-.94 2.06-2.06.94zm10 10l.94 2.06.94-2.06 2.06-.94-2.06-.94-.94-2.06-.94 2.06-2.06.94z\"/><path d=\"M17.41 7.96l-1.37-1.37c-.4-.4-.92-.59-1.43-.59-.52 0-1.04.2-1.43.59L10.3 9.45l-7.72 7.72c-.78.78-.78 2.05 0 2.83L4 21.41c.39.39.9.59 1.41.59.51 0 1.02-.2 1.41-.59l7.78-7.78 2.81-2.81c.8-.78.8-2.07 0-2.86zM5.41 20L4 18.59l7.72-7.72 1.47 1.35L5.41 20z\"/>\n",
              "  </svg>\n",
              "      </button>\n",
              "      \n",
              "  <style>\n",
              "    .colab-df-container {\n",
              "      display:flex;\n",
              "      flex-wrap:wrap;\n",
              "      gap: 12px;\n",
              "    }\n",
              "\n",
              "    .colab-df-convert {\n",
              "      background-color: #E8F0FE;\n",
              "      border: none;\n",
              "      border-radius: 50%;\n",
              "      cursor: pointer;\n",
              "      display: none;\n",
              "      fill: #1967D2;\n",
              "      height: 32px;\n",
              "      padding: 0 0 0 0;\n",
              "      width: 32px;\n",
              "    }\n",
              "\n",
              "    .colab-df-convert:hover {\n",
              "      background-color: #E2EBFA;\n",
              "      box-shadow: 0px 1px 2px rgba(60, 64, 67, 0.3), 0px 1px 3px 1px rgba(60, 64, 67, 0.15);\n",
              "      fill: #174EA6;\n",
              "    }\n",
              "\n",
              "    [theme=dark] .colab-df-convert {\n",
              "      background-color: #3B4455;\n",
              "      fill: #D2E3FC;\n",
              "    }\n",
              "\n",
              "    [theme=dark] .colab-df-convert:hover {\n",
              "      background-color: #434B5C;\n",
              "      box-shadow: 0px 1px 3px 1px rgba(0, 0, 0, 0.15);\n",
              "      filter: drop-shadow(0px 1px 2px rgba(0, 0, 0, 0.3));\n",
              "      fill: #FFFFFF;\n",
              "    }\n",
              "  </style>\n",
              "\n",
              "      <script>\n",
              "        const buttonEl =\n",
              "          document.querySelector('#df-dcba6565-3a5d-4159-bbe7-a22f4758d506 button.colab-df-convert');\n",
              "        buttonEl.style.display =\n",
              "          google.colab.kernel.accessAllowed ? 'block' : 'none';\n",
              "\n",
              "        async function convertToInteractive(key) {\n",
              "          const element = document.querySelector('#df-dcba6565-3a5d-4159-bbe7-a22f4758d506');\n",
              "          const dataTable =\n",
              "            await google.colab.kernel.invokeFunction('convertToInteractive',\n",
              "                                                     [key], {});\n",
              "          if (!dataTable) return;\n",
              "\n",
              "          const docLinkHtml = 'Like what you see? Visit the ' +\n",
              "            '<a target=\"_blank\" href=https://colab.research.google.com/notebooks/data_table.ipynb>data table notebook</a>'\n",
              "            + ' to learn more about interactive tables.';\n",
              "          element.innerHTML = '';\n",
              "          dataTable['output_type'] = 'display_data';\n",
              "          await google.colab.output.renderOutput(dataTable, element);\n",
              "          const docLink = document.createElement('div');\n",
              "          docLink.innerHTML = docLinkHtml;\n",
              "          element.appendChild(docLink);\n",
              "        }\n",
              "      </script>\n",
              "    </div>\n",
              "  </div>\n",
              "  "
            ]
          },
          "metadata": {},
          "execution_count": 86
        }
      ]
    },
    {
      "cell_type": "code",
      "source": [
        "Drone_multi.columns"
      ],
      "metadata": {
        "colab": {
          "base_uri": "https://localhost:8080/"
        },
        "id": "1h1ddoiGEtwj",
        "outputId": "688e5c76-50be-4c8d-c115-89e1e9f03be9"
      },
      "execution_count": null,
      "outputs": [
        {
          "output_type": "execute_result",
          "data": {
            "text/plain": [
              "Index(['Company', 'Name', 'Length', 'Width', 'Height', 'Weight'], dtype='object')"
            ]
          },
          "metadata": {},
          "execution_count": 87
        }
      ]
    },
    {
      "cell_type": "markdown",
      "source": [
        "**csv 파일에서 회전익의 전장(Length), 전폭(Width), 전고(Height), 무게(Weight)값을 추출한 후 리스트 생성**"
      ],
      "metadata": {
        "id": "RthcTrH7INtM"
      }
    },
    {
      "cell_type": "markdown",
      "source": [
        "회전익의 전장"
      ],
      "metadata": {
        "id": "Dr-_sDRgIcGM"
      }
    },
    {
      "cell_type": "code",
      "source": [
        "multi_length_list = []\n",
        "for i in Drone_multi[\"Length\"] :\n",
        "  multi_length_list.append(i)\n",
        "print(multi_length_list)"
      ],
      "metadata": {
        "colab": {
          "base_uri": "https://localhost:8080/"
        },
        "id": "ZAWRYzMGE1A_",
        "outputId": "b46af79e-38b2-4eba-cb60-15afeb4a2267"
      },
      "execution_count": null,
      "outputs": [
        {
          "output_type": "stream",
          "name": "stdout",
          "text": [
            "[322.0, 322.0, 289.5, 143.0, 427.0, 1460.0, 400.0, 1940.0, 1860.0, 365.0, 1974.0, 1590.0, 730.0, 1002.0, 204.0, 305.0, 159.0, 1800.0, 860.0, 1140.0, 1225.0, 350.0, 1000.0, 1100.0, 643.0, 535.0, 330.0, 1000.0, 360.0, 2123.0]\n"
          ]
        }
      ]
    },
    {
      "cell_type": "markdown",
      "source": [
        "회전익의 전폭"
      ],
      "metadata": {
        "id": "ehk5BNyaIxZ9"
      }
    },
    {
      "cell_type": "code",
      "source": [
        "multi_width_list = []\n",
        "for i in Drone_multi[\"Width\"] :\n",
        "  multi_width_list.append(i)\n",
        "print(multi_width_list)"
      ],
      "metadata": {
        "colab": {
          "base_uri": "https://localhost:8080/"
        },
        "id": "FaKKBmezIzZU",
        "outputId": "7b9d3c25-5a7f-482e-8e5a-687ca8f6a1c9"
      },
      "execution_count": null,
      "outputs": [
        {
          "output_type": "stream",
          "name": "stdout",
          "text": [
            "[242.0, 242.0, 289.5, 143.0, 317.0, 1460.0, 300.0, 1680.0, 1860.0, 365.0, 2665.0, 1370.0, 600.0, 1002.0, 106.0, 305.0, 203.0, 1800.0, 760.0, 1000.0, 880.0, 250.0, 482.6, 1100.0, 643.0, 535.0, 300.0, 1000.0, 268.0, 2123.0]\n"
          ]
        }
      ]
    },
    {
      "cell_type": "markdown",
      "source": [
        "회전익의 전고"
      ],
      "metadata": {
        "id": "IKp464JpJAGt"
      }
    },
    {
      "cell_type": "code",
      "source": [
        "multi_height_list = []\n",
        "for i in Drone_multi[\"Height\"] :\n",
        "  multi_height_list.append(i)\n",
        "print(multi_height_list)"
      ],
      "metadata": {
        "colab": {
          "base_uri": "https://localhost:8080/"
        },
        "id": "1kpYNJ0VJCfx",
        "outputId": "3e771dfc-c1c8-4b7c-e2d9-dfdf750b69cc"
      },
      "execution_count": null,
      "outputs": [
        {
          "output_type": "stream",
          "name": "stdout",
          "text": [
            "[84.0, 84.0, 196.0, 55.0, 425.0, 616.0, 60.0, 460.0, 600.0, 110.0, 868.0, 570.0, 330.0, 404.0, 72.6, 210.0, 56.0, 480.0, 650.0, 650.0, 580.0, 150.0, 770.0, 860.0, 255.0, 150.0, 600.0, 600.0, 100.0, 688.0]\n"
          ]
        }
      ]
    },
    {
      "cell_type": "markdown",
      "source": [
        "회전익의 무게"
      ],
      "metadata": {
        "id": "m7W2v84jIiHK"
      }
    },
    {
      "cell_type": "code",
      "source": [
        "multi_weight_list = []\n",
        "for i in Drone_multi[\"Weight\"] :\n",
        "  multi_weight_list.append(i)\n",
        "print(multi_weight_list)"
      ],
      "metadata": {
        "colab": {
          "base_uri": "https://localhost:8080/"
        },
        "id": "EALKFSUNIhaQ",
        "outputId": "4b747402-0aa7-460d-9db9-06d69ca3907c"
      },
      "execution_count": null,
      "outputs": [
        {
          "output_type": "stream",
          "name": "stdout",
          "text": [
            "[905, 907, 1375, 300, 3440, 9700, 147, 14900, 17100, 992, 18320, 18500, 1434, 5500, 790, 945, 249, 13800, 9700, 9400, 15000, 1400, 13100, 13500, 5250, 7600, 1200, 10200, 850, 18800]\n"
          ]
        }
      ]
    },
    {
      "cell_type": "markdown",
      "source": [
        "**넘파이 배열로 전환**"
      ],
      "metadata": {
        "id": "MCuIygdPIwAN"
      }
    },
    {
      "cell_type": "markdown",
      "source": [
        "numpy를 활용하여 회전익의 전장, 전폭, 전고 데이터 통합"
      ],
      "metadata": {
        "id": "VJ0xKe55KQuv"
      }
    },
    {
      "cell_type": "code",
      "source": [
        "drone_full = np.column_stack((multi_length_list, multi_width_list, multi_height_list))\n",
        "print(drone_full)"
      ],
      "metadata": {
        "colab": {
          "base_uri": "https://localhost:8080/"
        },
        "id": "RAK0oI5uIvLG",
        "outputId": "cb96c468-6f29-4c44-e623-ee84c44c501e"
      },
      "execution_count": null,
      "outputs": [
        {
          "output_type": "stream",
          "name": "stdout",
          "text": [
            "[[ 322.   242.    84. ]\n",
            " [ 322.   242.    84. ]\n",
            " [ 289.5  289.5  196. ]\n",
            " [ 143.   143.    55. ]\n",
            " [ 427.   317.   425. ]\n",
            " [1460.  1460.   616. ]\n",
            " [ 400.   300.    60. ]\n",
            " [1940.  1680.   460. ]\n",
            " [1860.  1860.   600. ]\n",
            " [ 365.   365.   110. ]\n",
            " [1974.  2665.   868. ]\n",
            " [1590.  1370.   570. ]\n",
            " [ 730.   600.   330. ]\n",
            " [1002.  1002.   404. ]\n",
            " [ 204.   106.    72.6]\n",
            " [ 305.   305.   210. ]\n",
            " [ 159.   203.    56. ]\n",
            " [1800.  1800.   480. ]\n",
            " [ 860.   760.   650. ]\n",
            " [1140.  1000.   650. ]\n",
            " [1225.   880.   580. ]\n",
            " [ 350.   250.   150. ]\n",
            " [1000.   482.6  770. ]\n",
            " [1100.  1100.   860. ]\n",
            " [ 643.   643.   255. ]\n",
            " [ 535.   535.   150. ]\n",
            " [ 330.   300.   600. ]\n",
            " [1000.  1000.   600. ]\n",
            " [ 360.   268.   100. ]\n",
            " [2123.  2123.   688. ]]\n"
          ]
        }
      ]
    },
    {
      "cell_type": "code",
      "source": [
        "drone_weight = np.array(multi_weight_list)\n",
        "print(drone_weight)"
      ],
      "metadata": {
        "colab": {
          "base_uri": "https://localhost:8080/"
        },
        "id": "hoSSkkasKKro",
        "outputId": "86f4c3f0-189e-4727-e8c7-48f47af93400"
      },
      "execution_count": null,
      "outputs": [
        {
          "output_type": "stream",
          "name": "stdout",
          "text": [
            "[  905   907  1375   300  3440  9700   147 14900 17100   992 18320 18500\n",
            "  1434  5500   790   945   249 13800  9700  9400 15000  1400 13100 13500\n",
            "  5250  7600  1200 10200   850 18800]\n"
          ]
        }
      ]
    },
    {
      "cell_type": "code",
      "source": [
        "from sklearn.model_selection import train_test_split\n",
        "train_input, test_input, train_target, test_target = train_test_split(\n",
        "    drone_full, drone_weight, random_state=42)"
      ],
      "metadata": {
        "id": "Ui0QZZEmKwwW"
      },
      "execution_count": null,
      "outputs": []
    },
    {
      "cell_type": "markdown",
      "source": [
        "**사이킷런의 변환기 - PolynomialFeatures**"
      ],
      "metadata": {
        "id": "ROp3vMaHN153"
      }
    },
    {
      "cell_type": "code",
      "source": [
        "from sklearn.preprocessing import PolynomialFeatures"
      ],
      "metadata": {
        "id": "oHLKn6UTLUHy"
      },
      "execution_count": null,
      "outputs": []
    },
    {
      "cell_type": "code",
      "source": [
        "poly = PolynomialFeatures(include_bias=False)\n",
        "poly.fit(train_input)\n",
        "train_poly = poly.transform(train_input)\n",
        "print(train_poly.shape)"
      ],
      "metadata": {
        "colab": {
          "base_uri": "https://localhost:8080/"
        },
        "id": "O58RMUsbOCr4",
        "outputId": "5cebe190-48c6-4c55-836d-596193b4c0bc"
      },
      "execution_count": null,
      "outputs": [
        {
          "output_type": "stream",
          "name": "stdout",
          "text": [
            "(22, 9)\n"
          ]
        }
      ]
    },
    {
      "cell_type": "code",
      "source": [
        "poly.get_feature_names_out()"
      ],
      "metadata": {
        "colab": {
          "base_uri": "https://localhost:8080/"
        },
        "id": "T8JeqciBOUQm",
        "outputId": "372897eb-faa7-41f8-e951-884c84bc6bd4"
      },
      "execution_count": null,
      "outputs": [
        {
          "output_type": "execute_result",
          "data": {
            "text/plain": [
              "array(['x0', 'x1', 'x2', 'x0^2', 'x0 x1', 'x0 x2', 'x1^2', 'x1 x2',\n",
              "       'x2^2'], dtype=object)"
            ]
          },
          "metadata": {},
          "execution_count": 97
        }
      ]
    },
    {
      "cell_type": "code",
      "source": [
        "test_poly = poly.transform(test_input)"
      ],
      "metadata": {
        "id": "milyUjtlOZZI"
      },
      "execution_count": null,
      "outputs": []
    },
    {
      "cell_type": "markdown",
      "source": [
        "**다중 회귀 모델 훈련**"
      ],
      "metadata": {
        "id": "OKSN3NLpOmqk"
      }
    },
    {
      "cell_type": "code",
      "source": [
        "from sklearn.linear_model import LinearRegression\n",
        "lr = LinearRegression()\n",
        "lr.fit(train_poly, train_target)"
      ],
      "metadata": {
        "colab": {
          "base_uri": "https://localhost:8080/"
        },
        "id": "-5k_ifh_OkRf",
        "outputId": "8d442f9e-7715-44a9-84fe-263ccbd3fb5a"
      },
      "execution_count": null,
      "outputs": [
        {
          "output_type": "execute_result",
          "data": {
            "text/plain": [
              "LinearRegression()"
            ]
          },
          "metadata": {},
          "execution_count": 99
        }
      ]
    },
    {
      "cell_type": "markdown",
      "source": [
        "훈련 세트의 점수"
      ],
      "metadata": {
        "id": "eSXf_Wb4SwBr"
      }
    },
    {
      "cell_type": "code",
      "source": [
        "print(lr.score(train_poly, train_target))"
      ],
      "metadata": {
        "colab": {
          "base_uri": "https://localhost:8080/"
        },
        "id": "7sLbjOXgPIQC",
        "outputId": "8175aa8b-27b9-4809-d81c-c3610ae19d0b"
      },
      "execution_count": null,
      "outputs": [
        {
          "output_type": "stream",
          "name": "stdout",
          "text": [
            "0.9271943135725973\n"
          ]
        }
      ]
    },
    {
      "cell_type": "markdown",
      "source": [
        "테스트 세트의 점수"
      ],
      "metadata": {
        "id": "Xn2DHue8S8nF"
      }
    },
    {
      "cell_type": "code",
      "source": [
        "print(lr.score(test_poly, test_target))"
      ],
      "metadata": {
        "colab": {
          "base_uri": "https://localhost:8080/"
        },
        "id": "jAyfwxpWPNhi",
        "outputId": "e157b756-4b32-476c-e491-072a3c8b8df0"
      },
      "execution_count": null,
      "outputs": [
        {
          "output_type": "stream",
          "name": "stdout",
          "text": [
            "0.9116725327314346\n"
          ]
        }
      ]
    },
    {
      "cell_type": "markdown",
      "source": [
        "**특성을 늘려 5제곱까지 특성을 만들어 출력해보기**"
      ],
      "metadata": {
        "id": "uoe6k_bhTCJg"
      }
    },
    {
      "cell_type": "code",
      "source": [
        "poly = PolynomialFeatures(degree=5, include_bias=False)\n",
        "poly.fit(train_input)\n",
        "train_poly = poly.transform(train_input)\n",
        "test_poly = poly.transform(test_input)\n",
        "print(train_poly.shape)"
      ],
      "metadata": {
        "colab": {
          "base_uri": "https://localhost:8080/"
        },
        "id": "F6sJa5AHPWa6",
        "outputId": "f81bfef2-eb99-486a-c539-84ecd3a14c44"
      },
      "execution_count": null,
      "outputs": [
        {
          "output_type": "stream",
          "name": "stdout",
          "text": [
            "(22, 55)\n"
          ]
        }
      ]
    },
    {
      "cell_type": "code",
      "source": [
        "lr.fit(train_poly, train_target)\n",
        "print(lr.score(train_poly, train_target))"
      ],
      "metadata": {
        "colab": {
          "base_uri": "https://localhost:8080/"
        },
        "id": "AvSakmCuSeFr",
        "outputId": "c624afba-8a43-42bb-94a4-e0edbebbb521"
      },
      "execution_count": null,
      "outputs": [
        {
          "output_type": "stream",
          "name": "stdout",
          "text": [
            "0.9999999979522539\n"
          ]
        }
      ]
    },
    {
      "cell_type": "code",
      "source": [
        "print(lr.score(test_poly, test_target))"
      ],
      "metadata": {
        "colab": {
          "base_uri": "https://localhost:8080/"
        },
        "id": "oHbfpuY4SpmK",
        "outputId": "47215a12-6097-4309-980c-defe358ff045"
      },
      "execution_count": null,
      "outputs": [
        {
          "output_type": "stream",
          "name": "stdout",
          "text": [
            "-13648.737529878907\n"
          ]
        }
      ]
    },
    {
      "cell_type": "markdown",
      "source": [
        "훈련 세트는 완벽한 점수였지만 테스트 세트의 점수는 매우 큰 음수값이 나왔다.\n",
        "이는 훈련 세트에 심하게 과대적합된 것임을 알 수 있다."
      ],
      "metadata": {
        "id": "pta9yCy0TLwt"
      }
    },
    {
      "cell_type": "markdown",
      "source": [
        "**규제**"
      ],
      "metadata": {
        "id": "WZMNQHO-TbV2"
      }
    },
    {
      "cell_type": "markdown",
      "source": [
        "사이킷런의 변환기 - StandardScaler"
      ],
      "metadata": {
        "id": "eJGCzhhDT6d0"
      }
    },
    {
      "cell_type": "code",
      "source": [
        "from sklearn.preprocessing import StandardScaler\n",
        "ss = StandardScaler()\n",
        "ss.fit(train_poly)\n",
        "train_scaled = ss.transform(train_poly)\n",
        "test_scaled = ss.transform(test_poly)"
      ],
      "metadata": {
        "id": "FlfNdianStaZ"
      },
      "execution_count": null,
      "outputs": []
    },
    {
      "cell_type": "markdown",
      "source": [
        "**릿지 회귀**\n",
        "\n",
        "\n",
        "> 계수를 제곱한 값을 기준으로 규제 적용\n",
        "\n"
      ],
      "metadata": {
        "id": "zICc7M0iULrm"
      }
    },
    {
      "cell_type": "markdown",
      "source": [
        "훈련 세트의 점수"
      ],
      "metadata": {
        "id": "i5Sftz77U1lb"
      }
    },
    {
      "cell_type": "code",
      "source": [
        "from sklearn.linear_model import Ridge\n",
        "ridge = Ridge()\n",
        "ridge.fit(train_scaled, train_target)\n",
        "print(ridge.score(train_scaled, train_target))"
      ],
      "metadata": {
        "colab": {
          "base_uri": "https://localhost:8080/"
        },
        "id": "nLWFP_vqUJHd",
        "outputId": "b805f8ed-3da5-4d8f-ee44-f0de3864943d"
      },
      "execution_count": null,
      "outputs": [
        {
          "output_type": "stream",
          "name": "stdout",
          "text": [
            "0.9103319806187008\n"
          ]
        }
      ]
    },
    {
      "cell_type": "markdown",
      "source": [
        "테스트 세트의 점수"
      ],
      "metadata": {
        "id": "jOJBKOKXU5Qm"
      }
    },
    {
      "cell_type": "code",
      "source": [
        "print(ridge.score(test_scaled, test_target))"
      ],
      "metadata": {
        "colab": {
          "base_uri": "https://localhost:8080/"
        },
        "id": "GHFsuu8IUtId",
        "outputId": "d1157c29-314a-47da-e936-0c6e5499a821"
      },
      "execution_count": null,
      "outputs": [
        {
          "output_type": "stream",
          "name": "stdout",
          "text": [
            "0.9501258952039257\n"
          ]
        }
      ]
    },
    {
      "cell_type": "markdown",
      "source": [
        "과소적합이 발생하는 것을 확인할 수 있다.\n",
        "이는 규제가 너무 강했다는 것을 의미하므로 **alpha의 값을 최적의 값으로 수정해야한다.**"
      ],
      "metadata": {
        "id": "6K-TdyrQYI1M"
      }
    },
    {
      "cell_type": "code",
      "source": [
        "train_score = []\n",
        "test_score = []"
      ],
      "metadata": {
        "id": "DvH1vI8uU_ck"
      },
      "execution_count": null,
      "outputs": []
    },
    {
      "cell_type": "code",
      "source": [
        "alpha_list = [0.001, 0.01, 0.1, 1, 10, 100]\n",
        "for alpha in alpha_list :\n",
        "  ridge = Ridge(alpha=alpha)\n",
        "  ridge.fit(train_scaled, train_target)\n",
        "  train_score.append(ridge.score(train_scaled, train_target))\n",
        "  test_score.append(ridge.score(test_scaled, test_target))"
      ],
      "metadata": {
        "id": "RfEHMn3mWo-s"
      },
      "execution_count": null,
      "outputs": []
    },
    {
      "cell_type": "code",
      "source": [
        "plt.plot(np.log10(alpha_list), train_score)\n",
        "plt.plot(np.log10(alpha_list), test_score)\n",
        "plt.xlabel('alpha')\n",
        "plt.ylabel('R^2')\n",
        "plt.show()"
      ],
      "metadata": {
        "colab": {
          "base_uri": "https://localhost:8080/",
          "height": 279
        },
        "id": "GbzGsrzjXHB7",
        "outputId": "ca6f2983-2c71-4bf2-8cff-7fdea01af980"
      },
      "execution_count": null,
      "outputs": [
        {
          "output_type": "display_data",
          "data": {
            "text/plain": [
              "<Figure size 432x288 with 1 Axes>"
            ],
            "image/png": "[encoded data removed]"
          },
          "metadata": {
            "needs_background": "light"
          }
        }
      ]
    },
    {
      "cell_type": "markdown",
      "source": [
        "두 그래프가 가장 가깝고 훈련 세트가 테스트 세트보다 더 높은 경우가 -1, 즉 10^-1=0.1이다.\n",
        "\n",
        "\n",
        "> **alpha = 0.1**\n",
        "\n"
      ],
      "metadata": {
        "id": "iFC4LTQDYqYH"
      }
    },
    {
      "cell_type": "code",
      "source": [
        "ridge = Ridge(alpha=0.1)\n",
        "ridge.fit(train_scaled, train_target)\n",
        "print(ridge.score(train_scaled, train_target))\n",
        "print(ridge.score(test_scaled, test_target))"
      ],
      "metadata": {
        "colab": {
          "base_uri": "https://localhost:8080/"
        },
        "id": "RPAVVM2tXV1n",
        "outputId": "aa2b9f34-cca3-463a-a58b-2b607fed2606"
      },
      "execution_count": null,
      "outputs": [
        {
          "output_type": "stream",
          "name": "stdout",
          "text": [
            "0.935559323122246\n",
            "0.8559820851514911\n"
          ]
        }
      ]
    },
    {
      "cell_type": "markdown",
      "source": [
        "**라쏘 회귀**\n",
        "\n",
        "\n",
        "> 계수를 절댓값을 기준으로 규제 적용\n",
        "\n"
      ],
      "metadata": {
        "id": "A36l4IPwZV2d"
      }
    },
    {
      "cell_type": "markdown",
      "source": [
        "훈련 세트의 점수"
      ],
      "metadata": {
        "id": "ePaCdjamZjVY"
      }
    },
    {
      "cell_type": "code",
      "source": [
        "from sklearn.linear_model import Lasso\n",
        "lasso = Lasso()\n",
        "lasso.fit(train_scaled, train_target)\n",
        "print(lasso.score(train_scaled, train_target))"
      ],
      "metadata": {
        "colab": {
          "base_uri": "https://localhost:8080/"
        },
        "id": "LRlT7yWaZSEo",
        "outputId": "f31ca87d-283f-48e4-ce13-e5ad10008a14"
      },
      "execution_count": null,
      "outputs": [
        {
          "output_type": "stream",
          "name": "stdout",
          "text": [
            "0.9489090669589527\n"
          ]
        },
        {
          "output_type": "stream",
          "name": "stderr",
          "text": [
            "/usr/local/lib/python3.7/dist-packages/sklearn/linear_model/_coordinate_descent.py:648: ConvergenceWarning: Objective did not converge. You might want to increase the number of iterations, check the scale of the features or consider increasing regularisation. Duality gap: 2.124e+07, tolerance: 9.767e+04\n",
            "  coef_, l1_reg, l2_reg, X, y, max_iter, tol, rng, random, positive\n"
          ]
        }
      ]
    },
    {
      "cell_type": "markdown",
      "source": [
        "테스트 세트의 점수"
      ],
      "metadata": {
        "id": "z52FVKC4aBD3"
      }
    },
    {
      "cell_type": "code",
      "source": [
        "print(lasso.score(test_scaled, test_target))"
      ],
      "metadata": {
        "colab": {
          "base_uri": "https://localhost:8080/"
        },
        "id": "vvxpkp68Z081",
        "outputId": "79e7148d-9f3e-4352-cbae-ee2b4db3070c"
      },
      "execution_count": null,
      "outputs": [
        {
          "output_type": "stream",
          "name": "stdout",
          "text": [
            "0.568330405743289\n"
          ]
        }
      ]
    },
    {
      "cell_type": "markdown",
      "source": [
        "과대적합이 발생하는 것을 확인할 수 있다.\n",
        "이는 규제가 너무 약했다는 것을 의미하므로 **alpha의 값을 최적의 값으로 수정해야한다.**"
      ],
      "metadata": {
        "id": "1fgAStPCblh9"
      }
    },
    {
      "cell_type": "code",
      "source": [
        "train_score = []\n",
        "test_score = []\n",
        "alpha_list = [0.001, 0.01, 0.1, 1, 10, 100]\n",
        "for alpha in alpha_list :\n",
        "  lasso = Lasso(alpha=alpha, max_iter=10000)\n",
        "  lasso.fit(train_scaled, train_target)\n",
        "  train_score.append(lasso.score(train_scaled, train_target))\n",
        "  test_score.append(lasso.score(test_scaled, test_target))"
      ],
      "metadata": {
        "colab": {
          "base_uri": "https://localhost:8080/"
        },
        "id": "gnR5slq-aIhW",
        "outputId": "34662365-0821-4d5a-bed4-9440bd765a9d"
      },
      "execution_count": null,
      "outputs": [
        {
          "output_type": "stream",
          "name": "stderr",
          "text": [
            "/usr/local/lib/python3.7/dist-packages/sklearn/linear_model/_coordinate_descent.py:648: ConvergenceWarning: Objective did not converge. You might want to increase the number of iterations, check the scale of the features or consider increasing regularisation. Duality gap: 1.410e+07, tolerance: 9.767e+04\n",
            "  coef_, l1_reg, l2_reg, X, y, max_iter, tol, rng, random, positive\n",
            "/usr/local/lib/python3.7/dist-packages/sklearn/linear_model/_coordinate_descent.py:648: ConvergenceWarning: Objective did not converge. You might want to increase the number of iterations, check the scale of the features or consider increasing regularisation. Duality gap: 1.411e+07, tolerance: 9.767e+04\n",
            "  coef_, l1_reg, l2_reg, X, y, max_iter, tol, rng, random, positive\n",
            "/usr/local/lib/python3.7/dist-packages/sklearn/linear_model/_coordinate_descent.py:648: ConvergenceWarning: Objective did not converge. You might want to increase the number of iterations, check the scale of the features or consider increasing regularisation. Duality gap: 1.411e+07, tolerance: 9.767e+04\n",
            "  coef_, l1_reg, l2_reg, X, y, max_iter, tol, rng, random, positive\n",
            "/usr/local/lib/python3.7/dist-packages/sklearn/linear_model/_coordinate_descent.py:648: ConvergenceWarning: Objective did not converge. You might want to increase the number of iterations, check the scale of the features or consider increasing regularisation. Duality gap: 5.786e+06, tolerance: 9.767e+04\n",
            "  coef_, l1_reg, l2_reg, X, y, max_iter, tol, rng, random, positive\n",
            "/usr/local/lib/python3.7/dist-packages/sklearn/linear_model/_coordinate_descent.py:648: ConvergenceWarning: Objective did not converge. You might want to increase the number of iterations, check the scale of the features or consider increasing regularisation. Duality gap: 1.797e+05, tolerance: 9.767e+04\n",
            "  coef_, l1_reg, l2_reg, X, y, max_iter, tol, rng, random, positive\n"
          ]
        }
      ]
    },
    {
      "cell_type": "code",
      "source": [
        "plt.plot(np.log10(alpha_list), train_score)\n",
        "plt.plot(np.log10(alpha_list), test_score)\n",
        "plt.xlabel('alpha')\n",
        "plt.ylabel('R^2')\n",
        "plt.show()"
      ],
      "metadata": {
        "colab": {
          "base_uri": "https://localhost:8080/",
          "height": 279
        },
        "id": "lBQ6BSluaaUI",
        "outputId": "fcc38d03-1b7a-484b-8a52-e8586b022642"
      },
      "execution_count": null,
      "outputs": [
        {
          "output_type": "display_data",
          "data": {
            "text/plain": [
              "<Figure size 432x288 with 1 Axes>"
            ],
            "image/png": "[encoded data removed]"
          },
          "metadata": {
            "needs_background": "light"
          }
        }
      ]
    },
    {
      "cell_type": "markdown",
      "source": [
        "두 그래프가 가장 가깝고 훈련 세트가 테스트 세트보다 더 높은 경우가 1, 즉 10^1=10이다.\n",
        "\n",
        "\n",
        "> **alpha = 10**\n",
        "\n"
      ],
      "metadata": {
        "id": "RMuZOeVXcIoc"
      }
    },
    {
      "cell_type": "code",
      "source": [
        "lasso = Lasso(alpha=10)\n",
        "lasso.fit(train_scaled, train_target)\n",
        "print(lasso.score(train_scaled, train_target))\n",
        "print(lasso.score(test_scaled, test_target))"
      ],
      "metadata": {
        "colab": {
          "base_uri": "https://localhost:8080/"
        },
        "id": "tJgCGT5CbGOY",
        "outputId": "9852b9b4-7844-40bb-b39f-9ec1fbcf51ed"
      },
      "execution_count": null,
      "outputs": [
        {
          "output_type": "stream",
          "name": "stdout",
          "text": [
            "0.9331662922685177\n",
            "0.8833326067054568\n"
          ]
        },
        {
          "output_type": "stream",
          "name": "stderr",
          "text": [
            "/usr/local/lib/python3.7/dist-packages/sklearn/linear_model/_coordinate_descent.py:648: ConvergenceWarning: Objective did not converge. You might want to increase the number of iterations, check the scale of the features or consider increasing regularisation. Duality gap: 1.122e+06, tolerance: 9.767e+04\n",
            "  coef_, l1_reg, l2_reg, X, y, max_iter, tol, rng, random, positive\n"
          ]
        }
      ]
    }
  ]
}