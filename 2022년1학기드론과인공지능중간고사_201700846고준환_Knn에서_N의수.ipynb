{
  "nbformat": 4,
  "nbformat_minor": 0,
  "metadata": {
    "colab": {
      "name": "2022년1학기드론과인공지능중간고사_201700846고준환_Knn에서_N의수.ipynb",
      "provenance": [],
      "include_colab_link": true
    },
    "kernelspec": {
      "name": "python3",
      "display_name": "Python 3"
    },
    "language_info": {
      "name": "python"
    }
  },
  "cells": [
    {
      "cell_type": "markdown",
      "metadata": {
        "id": "view-in-github",
        "colab_type": "text"
      },
      "source": [
        "<a href=\"https://colab.research.google.com/github/inputJun/MachineLearning-Study/blob/main/2022%EB%85%841%ED%95%99%EA%B8%B0%EB%93%9C%EB%A1%A0%EA%B3%BC%EC%9D%B8%EA%B3%B5%EC%A7%80%EB%8A%A5%EC%A4%91%EA%B0%84%EA%B3%A0%EC%82%AC_201700846%EA%B3%A0%EC%A4%80%ED%99%98_Knn%EC%97%90%EC%84%9C_N%EC%9D%98%EC%88%98.ipynb\" target=\"_parent\"><img src=\"https://colab.research.google.com/assets/colab-badge.svg\" alt=\"Open In Colab\"/></a>"
      ]
    },
    {
      "cell_type": "markdown",
      "source": [
        "**201700846 고준환**"
      ],
      "metadata": {
        "id": "8cWggUc0PDHw"
      }
    },
    {
      "cell_type": "markdown",
      "source": [
        "**회전익 기체 제원 데이터 받아오기**\n",
        "- MultiCopter.csv"
      ],
      "metadata": {
        "id": "6VpAO_EUPH9J"
      }
    },
    {
      "cell_type": "code",
      "execution_count": null,
      "metadata": {
        "id": "0y5DWUeQO3pi"
      },
      "outputs": [],
      "source": [
        "import numpy as np\n",
        "import pandas as pd\n",
        "import matplotlib.pyplot as plt"
      ]
    },
    {
      "cell_type": "code",
      "source": [
        "Drone_multi = pd.read_csv(\"MultiCopter.csv\")\n",
        "Drone_multi.head()"
      ],
      "metadata": {
        "colab": {
          "base_uri": "https://localhost:8080/",
          "height": 206
        },
        "id": "0Y5X9E1qTgn4",
        "outputId": "336320ba-1835-43a9-81c2-530aec67ffd4"
      },
      "execution_count": null,
      "outputs": [
        {
          "output_type": "execute_result",
          "data": {
            "text/plain": [
              "  Company           Name  Length  Width  Height  Weight\n",
              "0     DJI   MAVIC 2 ZOOM   322.0  242.0    84.0     905\n",
              "1     DJI    MAVIC 2 PRO   322.0  242.0    84.0     907\n",
              "2     DJI  PHANTOM 4 PRO   289.5  289.5   196.0    1375\n",
              "3     DJI          SPARK   143.0  143.0    55.0     300\n",
              "4     DJI      INSPIRE 2   427.0  317.0   425.0    3440"
            ],
            "text/html": [
              "\n",
              "  <div id=\"df-8190bbc1-6542-4f0c-a061-49f448758a16\">\n",
              "    <div class=\"colab-df-container\">\n",
              "      <div>\n",
              "<style scoped>\n",
              "    .dataframe tbody tr th:only-of-type {\n",
              "        vertical-align: middle;\n",
              "    }\n",
              "\n",
              "    .dataframe tbody tr th {\n",
              "        vertical-align: top;\n",
              "    }\n",
              "\n",
              "    .dataframe thead th {\n",
              "        text-align: right;\n",
              "    }\n",
              "</style>\n",
              "<table border=\"1\" class=\"dataframe\">\n",
              "  <thead>\n",
              "    <tr style=\"text-align: right;\">\n",
              "      <th></th>\n",
              "      <th>Company</th>\n",
              "      <th>Name</th>\n",
              "      <th>Length</th>\n",
              "      <th>Width</th>\n",
              "      <th>Height</th>\n",
              "      <th>Weight</th>\n",
              "    </tr>\n",
              "  </thead>\n",
              "  <tbody>\n",
              "    <tr>\n",
              "      <th>0</th>\n",
              "      <td>DJI</td>\n",
              "      <td>MAVIC 2 ZOOM</td>\n",
              "      <td>322.0</td>\n",
              "      <td>242.0</td>\n",
              "      <td>84.0</td>\n",
              "      <td>905</td>\n",
              "    </tr>\n",
              "    <tr>\n",
              "      <th>1</th>\n",
              "      <td>DJI</td>\n",
              "      <td>MAVIC 2 PRO</td>\n",
              "      <td>322.0</td>\n",
              "      <td>242.0</td>\n",
              "      <td>84.0</td>\n",
              "      <td>907</td>\n",
              "    </tr>\n",
              "    <tr>\n",
              "      <th>2</th>\n",
              "      <td>DJI</td>\n",
              "      <td>PHANTOM 4 PRO</td>\n",
              "      <td>289.5</td>\n",
              "      <td>289.5</td>\n",
              "      <td>196.0</td>\n",
              "      <td>1375</td>\n",
              "    </tr>\n",
              "    <tr>\n",
              "      <th>3</th>\n",
              "      <td>DJI</td>\n",
              "      <td>SPARK</td>\n",
              "      <td>143.0</td>\n",
              "      <td>143.0</td>\n",
              "      <td>55.0</td>\n",
              "      <td>300</td>\n",
              "    </tr>\n",
              "    <tr>\n",
              "      <th>4</th>\n",
              "      <td>DJI</td>\n",
              "      <td>INSPIRE 2</td>\n",
              "      <td>427.0</td>\n",
              "      <td>317.0</td>\n",
              "      <td>425.0</td>\n",
              "      <td>3440</td>\n",
              "    </tr>\n",
              "  </tbody>\n",
              "</table>\n",
              "</div>\n",
              "      <button class=\"colab-df-convert\" onclick=\"convertToInteractive('df-8190bbc1-6542-4f0c-a061-49f448758a16')\"\n",
              "              title=\"Convert this dataframe to an interactive table.\"\n",
              "              style=\"display:none;\">\n",
              "        \n",
              "  <svg xmlns=\"http://www.w3.org/2000/svg\" height=\"24px\"viewBox=\"0 0 24 24\"\n",
              "       width=\"24px\">\n",
              "    <path d=\"M0 0h24v24H0V0z\" fill=\"none\"/>\n",
              "    <path d=\"M18.56 5.44l.94 2.06.94-2.06 2.06-.94-2.06-.94-.94-2.06-.94 2.06-2.06.94zm-11 1L8.5 8.5l.94-2.06 2.06-.94-2.06-.94L8.5 2.5l-.94 2.06-2.06.94zm10 10l.94 2.06.94-2.06 2.06-.94-2.06-.94-.94-2.06-.94 2.06-2.06.94z\"/><path d=\"M17.41 7.96l-1.37-1.37c-.4-.4-.92-.59-1.43-.59-.52 0-1.04.2-1.43.59L10.3 9.45l-7.72 7.72c-.78.78-.78 2.05 0 2.83L4 21.41c.39.39.9.59 1.41.59.51 0 1.02-.2 1.41-.59l7.78-7.78 2.81-2.81c.8-.78.8-2.07 0-2.86zM5.41 20L4 18.59l7.72-7.72 1.47 1.35L5.41 20z\"/>\n",
              "  </svg>\n",
              "      </button>\n",
              "      \n",
              "  <style>\n",
              "    .colab-df-container {\n",
              "      display:flex;\n",
              "      flex-wrap:wrap;\n",
              "      gap: 12px;\n",
              "    }\n",
              "\n",
              "    .colab-df-convert {\n",
              "      background-color: #E8F0FE;\n",
              "      border: none;\n",
              "      border-radius: 50%;\n",
              "      cursor: pointer;\n",
              "      display: none;\n",
              "      fill: #1967D2;\n",
              "      height: 32px;\n",
              "      padding: 0 0 0 0;\n",
              "      width: 32px;\n",
              "    }\n",
              "\n",
              "    .colab-df-convert:hover {\n",
              "      background-color: #E2EBFA;\n",
              "      box-shadow: 0px 1px 2px rgba(60, 64, 67, 0.3), 0px 1px 3px 1px rgba(60, 64, 67, 0.15);\n",
              "      fill: #174EA6;\n",
              "    }\n",
              "\n",
              "    [theme=dark] .colab-df-convert {\n",
              "      background-color: #3B4455;\n",
              "      fill: #D2E3FC;\n",
              "    }\n",
              "\n",
              "    [theme=dark] .colab-df-convert:hover {\n",
              "      background-color: #434B5C;\n",
              "      box-shadow: 0px 1px 3px 1px rgba(0, 0, 0, 0.15);\n",
              "      filter: drop-shadow(0px 1px 2px rgba(0, 0, 0, 0.3));\n",
              "      fill: #FFFFFF;\n",
              "    }\n",
              "  </style>\n",
              "\n",
              "      <script>\n",
              "        const buttonEl =\n",
              "          document.querySelector('#df-8190bbc1-6542-4f0c-a061-49f448758a16 button.colab-df-convert');\n",
              "        buttonEl.style.display =\n",
              "          google.colab.kernel.accessAllowed ? 'block' : 'none';\n",
              "\n",
              "        async function convertToInteractive(key) {\n",
              "          const element = document.querySelector('#df-8190bbc1-6542-4f0c-a061-49f448758a16');\n",
              "          const dataTable =\n",
              "            await google.colab.kernel.invokeFunction('convertToInteractive',\n",
              "                                                     [key], {});\n",
              "          if (!dataTable) return;\n",
              "\n",
              "          const docLinkHtml = 'Like what you see? Visit the ' +\n",
              "            '<a target=\"_blank\" href=https://colab.research.google.com/notebooks/data_table.ipynb>data table notebook</a>'\n",
              "            + ' to learn more about interactive tables.';\n",
              "          element.innerHTML = '';\n",
              "          dataTable['output_type'] = 'display_data';\n",
              "          await google.colab.output.renderOutput(dataTable, element);\n",
              "          const docLink = document.createElement('div');\n",
              "          docLink.innerHTML = docLinkHtml;\n",
              "          element.appendChild(docLink);\n",
              "        }\n",
              "      </script>\n",
              "    </div>\n",
              "  </div>\n",
              "  "
            ]
          },
          "metadata": {},
          "execution_count": 77
        }
      ]
    },
    {
      "cell_type": "code",
      "source": [
        "Drone_multi.columns"
      ],
      "metadata": {
        "colab": {
          "base_uri": "https://localhost:8080/"
        },
        "id": "3cqj92ydTnnZ",
        "outputId": "bbb1f214-396b-4e67-a296-5cd5cfaa31e0"
      },
      "execution_count": null,
      "outputs": [
        {
          "output_type": "execute_result",
          "data": {
            "text/plain": [
              "Index(['Company', 'Name', 'Length', 'Width', 'Height', 'Weight'], dtype='object')"
            ]
          },
          "metadata": {},
          "execution_count": 78
        }
      ]
    },
    {
      "cell_type": "markdown",
      "source": [
        "**csv 파일에서 회전익의 전장(Length), 무게(Weight)값을 추출한 후 리스트 생성**"
      ],
      "metadata": {
        "id": "CqbTPqKdTwm_"
      }
    },
    {
      "cell_type": "markdown",
      "source": [
        "회전익의 전장"
      ],
      "metadata": {
        "id": "ASzh_eohT5dh"
      }
    },
    {
      "cell_type": "code",
      "source": [
        "multi_length_list = []\n",
        "for i in Drone_multi[\"Length\"] :\n",
        "  multi_length_list.append(i)\n",
        "print(multi_length_list)"
      ],
      "metadata": {
        "colab": {
          "base_uri": "https://localhost:8080/"
        },
        "id": "OMjXKMkTTpO7",
        "outputId": "b0d6b11e-3c44-4068-d475-35858d19bf82"
      },
      "execution_count": null,
      "outputs": [
        {
          "output_type": "stream",
          "name": "stdout",
          "text": [
            "[322.0, 322.0, 289.5, 143.0, 427.0, 1460.0, 400.0, 1940.0, 1860.0, 365.0, 1974.0, 1590.0, 730.0, 1002.0, 204.0, 305.0, 159.0, 1800.0, 860.0, 1140.0, 1225.0, 350.0, 1000.0, 1100.0, 643.0, 535.0, 330.0, 1000.0, 360.0, 2123.0]\n"
          ]
        }
      ]
    },
    {
      "cell_type": "markdown",
      "source": [
        "회전익의 무게"
      ],
      "metadata": {
        "id": "MVW-snXZT_Ww"
      }
    },
    {
      "cell_type": "code",
      "source": [
        "multi_weight_list = []\n",
        "for i in Drone_multi[\"Weight\"] :\n",
        "  multi_weight_list.append(i)\n",
        "print(multi_weight_list)"
      ],
      "metadata": {
        "colab": {
          "base_uri": "https://localhost:8080/"
        },
        "id": "v3-n2tmdT9Jp",
        "outputId": "7f8df1d7-060f-4f70-dcf9-12e5ec880614"
      },
      "execution_count": null,
      "outputs": [
        {
          "output_type": "stream",
          "name": "stdout",
          "text": [
            "[905, 907, 1375, 300, 3440, 9700, 147, 14900, 17100, 992, 18320, 18500, 1434, 5500, 790, 945, 249, 13800, 9700, 9400, 15000, 1400, 13100, 13500, 5250, 7600, 1200, 10200, 850, 18800]\n"
          ]
        }
      ]
    },
    {
      "cell_type": "markdown",
      "source": [
        "**넘파이 배열로 전환**"
      ],
      "metadata": {
        "id": "zJjp6pjlUOc_"
      }
    },
    {
      "cell_type": "code",
      "source": [
        "multi_length = np.array(multi_length_list)\n",
        "multi_weight = np.array(multi_weight_list)"
      ],
      "metadata": {
        "id": "LLZf1-nET-fQ"
      },
      "execution_count": null,
      "outputs": []
    },
    {
      "cell_type": "code",
      "source": [
        "plt.scatter(multi_length, multi_weight)\n",
        "plt.xlabel('Length')\n",
        "plt.ylabel('Weight')\n",
        "plt.show()"
      ],
      "metadata": {
        "colab": {
          "base_uri": "https://localhost:8080/",
          "height": 279
        },
        "id": "zV4Z9SKYUfmw",
        "outputId": "5bf7a0c8-e4ac-47ee-c959-20804de4ce04"
      },
      "execution_count": null,
      "outputs": [
        {
          "output_type": "display_data",
          "data": {
            "text/plain": [
              "<Figure size 432x288 with 1 Axes>"
            ],
            "image/png": "[encoded data removed]"
          },
          "metadata": {
            "needs_background": "light"
          }
        }
      ]
    },
    {
      "cell_type": "code",
      "source": [
        "from sklearn.model_selection import train_test_split\n",
        "train_input, test_input, train_target, test_target = train_test_split(\n",
        "    multi_length, multi_weight, random_state=14)"
      ],
      "metadata": {
        "id": "V9Qxu2kJUpYJ"
      },
      "execution_count": null,
      "outputs": []
    },
    {
      "cell_type": "code",
      "source": [
        "train_input = train_input.reshape(-1, 1)\n",
        "test_input = test_input.reshape(-1, 1)"
      ],
      "metadata": {
        "id": "ZHtjY7MPlHg9"
      },
      "execution_count": null,
      "outputs": []
    },
    {
      "cell_type": "markdown",
      "source": [
        "**k-최근접 이웃 회귀 알고리즘**"
      ],
      "metadata": {
        "id": "vCPJQASNlNcI"
      }
    },
    {
      "cell_type": "markdown",
      "source": [
        "결정계수 R^2"
      ],
      "metadata": {
        "id": "f6I55do4lvZ7"
      }
    },
    {
      "cell_type": "code",
      "source": [
        "from sklearn.neighbors import KNeighborsRegressor\n",
        "knr = KNeighborsRegressor()\n",
        "knr.fit(train_input, train_target)"
      ],
      "metadata": {
        "colab": {
          "base_uri": "https://localhost:8080/"
        },
        "id": "Z_TPzHbLlLhw",
        "outputId": "cbe6b007-6168-44cc-a05a-24eb19396971"
      },
      "execution_count": null,
      "outputs": [
        {
          "output_type": "execute_result",
          "data": {
            "text/plain": [
              "KNeighborsRegressor()"
            ]
          },
          "metadata": {},
          "execution_count": 85
        }
      ]
    },
    {
      "cell_type": "code",
      "source": [
        "print(knr.score(test_input, test_target))"
      ],
      "metadata": {
        "colab": {
          "base_uri": "https://localhost:8080/"
        },
        "id": "Y78GEv3JlY6E",
        "outputId": "c84a1f63-3538-4d13-b047-45554cc0f374"
      },
      "execution_count": null,
      "outputs": [
        {
          "output_type": "stream",
          "name": "stdout",
          "text": [
            "0.7297271813416972\n"
          ]
        }
      ]
    },
    {
      "cell_type": "markdown",
      "source": [
        "테스트 세트에 대한 평균 절댓값 오차"
      ],
      "metadata": {
        "id": "K5l9O8mDl-_I"
      }
    },
    {
      "cell_type": "code",
      "source": [
        "from sklearn.metrics import mean_absolute_error\n",
        "test_prediction = knr.predict(test_input)\n",
        "mae = mean_absolute_error(test_target, test_prediction)\n",
        "print(mae)"
      ],
      "metadata": {
        "colab": {
          "base_uri": "https://localhost:8080/"
        },
        "id": "-_sw4fdjlbcd",
        "outputId": "60d6b43b-ac1f-46ce-88e2-bab3be6b8f3d"
      },
      "execution_count": null,
      "outputs": [
        {
          "output_type": "stream",
          "name": "stdout",
          "text": [
            "1872.7250000000001\n"
          ]
        }
      ]
    },
    {
      "cell_type": "code",
      "source": [
        "print(knr.score(train_input, train_target))"
      ],
      "metadata": {
        "colab": {
          "base_uri": "https://localhost:8080/"
        },
        "id": "rSg5bEzpl30e",
        "outputId": "37881777-ae1f-4bcf-e5a6-27e6998366ce"
      },
      "execution_count": null,
      "outputs": [
        {
          "output_type": "stream",
          "name": "stdout",
          "text": [
            "0.8873093256619673\n"
          ]
        }
      ]
    },
    {
      "cell_type": "markdown",
      "source": [
        "**이웃 n값을 변경했을 때 훈련/테스트 세트의 R^2 점수**"
      ],
      "metadata": {
        "id": "x_Zfn9Zpmlxs"
      }
    },
    {
      "cell_type": "code",
      "source": [
        "for i in range (1,23) :\n",
        "  knr.n_neighbors = i\n",
        "  knr.fit(train_input, train_target)\n",
        "  print('n_neighbors =',i)\n",
        "  print(knr.score(train_input, train_target),knr.score(test_input, test_target),'\\n')"
      ],
      "metadata": {
        "colab": {
          "base_uri": "https://localhost:8080/"
        },
        "id": "MqHglT4lmLEx",
        "outputId": "6587cb8c-5b51-482f-f49c-fb1bece5acd7"
      },
      "execution_count": null,
      "outputs": [
        {
          "output_type": "stream",
          "name": "stdout",
          "text": [
            "n_neighbors = 1\n",
            "1.0 0.4283833176346674 \n",
            "\n",
            "n_neighbors = 2\n",
            "0.9042915370889514 0.8629879194058767 \n",
            "\n",
            "n_neighbors = 3\n",
            "0.8788339866688154 0.7181441518059515 \n",
            "\n",
            "n_neighbors = 4\n",
            "0.891377553867274 0.7285477938993534 \n",
            "\n",
            "n_neighbors = 5\n",
            "0.8873093256619673 0.7297271813416972 \n",
            "\n",
            "n_neighbors = 6\n",
            "0.8778932957197059 0.7696010608540762 \n",
            "\n",
            "n_neighbors = 7\n",
            "0.8762729876365571 0.7023051967160046 \n",
            "\n",
            "n_neighbors = 8\n",
            "0.8690152892750276 0.6815148581397783 \n",
            "\n",
            "n_neighbors = 9\n",
            "0.869684838630752 0.6520167438707906 \n",
            "\n",
            "n_neighbors = 10\n",
            "0.8459958458633505 0.6375245379470718 \n",
            "\n",
            "n_neighbors = 11\n",
            "0.830830079381431 0.6154432991061305 \n",
            "\n",
            "n_neighbors = 12\n",
            "0.7713228742842071 0.6157614052243114 \n",
            "\n",
            "n_neighbors = 13\n",
            "0.7293138364786868 0.5636815437563215 \n",
            "\n",
            "n_neighbors = 14\n",
            "0.6598564147749788 0.5066241244337504 \n",
            "\n",
            "n_neighbors = 15\n",
            "0.599801115366545 0.42648183760286296 \n",
            "\n",
            "n_neighbors = 16\n",
            "0.5283841674877208 0.3421059655813712 \n",
            "\n",
            "n_neighbors = 17\n",
            "0.4310299683065828 0.28300006020454327 \n",
            "\n",
            "n_neighbors = 18\n",
            "0.35271826709209064 0.1966051609433811 \n",
            "\n",
            "n_neighbors = 19\n",
            "0.2750934318397771 0.1737792478624277 \n",
            "\n",
            "n_neighbors = 20\n",
            "0.1918778924710568 0.09638963292316505 \n",
            "\n",
            "n_neighbors = 21\n",
            "0.09165831588818285 -0.013164248280141955 \n",
            "\n",
            "n_neighbors = 22\n",
            "0.0 -0.1371439411025046 \n",
            "\n"
          ]
        }
      ]
    },
    {
      "cell_type": "markdown",
      "source": [
        "위의 결과값으로 보았을 때 **최적의 이웃 n값은 2**임을 알 수 있다.\n",
        "\n",
        "이웃 n값이 2일 때\n",
        "훈련 세트의 R^2 값 : 0.9042915370889514\n",
        "\n",
        "테스트 세트의 R^2 값 : 0.8629879194058767\n",
        "\n",
        "\n",
        "하지만 가장 최적의 n값을 대입해도 과소적합이 발생하는 것을 보아 위의 값은 k-최근접 이웃 회귀 알고리즘을 이용했을 때 오차가 발생할 수 밖에 없는 형태임을 알 수 있다."
      ],
      "metadata": {
        "id": "7nE2RST6oBet"
      }
    },
    {
      "cell_type": "code",
      "source": [
        "knr = KNeighborsRegressor()\n",
        "\n",
        "x = np.arange(250, 2250).reshape(-1, 1)\n",
        "\n",
        "for n in [1,2,5,10,15,20]:\n",
        "  knr.n_neighbors = n\n",
        "  knr.fit(train_input, train_target)\n",
        "  prediction = knr.predict(x)\n",
        "\n",
        "  plt.scatter(train_input, train_target)\n",
        "  plt.plot(x, prediction)\n",
        "  plt.title('n_neighbors = {}'.format(n))\n",
        "  plt.xlabel('length')\n",
        "  plt.ylabel('weight')\n",
        "  plt.show()"
      ],
      "metadata": {
        "colab": {
          "base_uri": "https://localhost:8080/",
          "height": 1000
        },
        "id": "FRq0Mzlwo1kt",
        "outputId": "faf0f411-6881-4c00-dfce-b84b05c0006f"
      },
      "execution_count": null,
      "outputs": [
        {
          "output_type": "display_data",
          "data": {
            "text/plain": [
              "<Figure size 432x288 with 1 Axes>"
            ],
            "image/png": "[encoded data removed]"
          },
          "metadata": {
            "needs_background": "light"
          }
        },
        {
          "output_type": "display_data",
          "data": {
            "text/plain": [
              "<Figure size 432x288 with 1 Axes>"
            ],
            "image/png": "[encoded data removed]"
          },
          "metadata": {
            "needs_background": "light"
          }
        },
        {
          "output_type": "display_data",
          "data": {
            "text/plain": [
              "<Figure size 432x288 with 1 Axes>"
            ],
            "image/png": "[encoded data removed]"
          },
          "metadata": {
            "needs_background": "light"
          }
        },
        {
          "output_type": "display_data",
          "data": {
            "text/plain": [
              "<Figure size 432x288 with 1 Axes>"
            ],
            "image/png": "[encoded data removed]"
          },
          "metadata": {
            "needs_background": "light"
          }
        },
        {
          "output_type": "display_data",
          "data": {
            "text/plain": [
              "<Figure size 432x288 with 1 Axes>"
            ],
            "image/png": "[encoded data removed]"
          },
          "metadata": {
            "needs_background": "light"
          }
        },
        {
          "output_type": "display_data",
          "data": {
            "text/plain": [
              "<Figure size 432x288 with 1 Axes>"
            ],
            "image/png": "[encoded data removed]"
          },
          "metadata": {
            "needs_background": "light"
          }
        }
      ]
    }
  ]
}