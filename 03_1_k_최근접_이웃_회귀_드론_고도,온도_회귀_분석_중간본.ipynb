{
  "nbformat": 4,
  "nbformat_minor": 0,
  "metadata": {
    "colab": {
      "name": "03-1 k-최근접 이웃 회귀-드론 고도,온도 회귀 분석_중간본.ipynb",
      "provenance": [],
      "collapsed_sections": [],
      "authorship_tag": "ABX9TyPWfojPmwFTrMuxdvk/h04O",
      "include_colab_link": true
    },
    "kernelspec": {
      "name": "python3",
      "display_name": "Python 3"
    },
    "language_info": {
      "name": "python"
    }
  },
  "cells": [
    {
      "cell_type": "markdown",
      "metadata": {
        "id": "view-in-github",
        "colab_type": "text"
      },
      "source": [
        "<a href=\"https://colab.research.google.com/github/inputJun/MachineLearning-Study/blob/main/03_1_k_%EC%B5%9C%EA%B7%BC%EC%A0%91_%EC%9D%B4%EC%9B%83_%ED%9A%8C%EA%B7%80_%EB%93%9C%EB%A1%A0_%EA%B3%A0%EB%8F%84%2C%EC%98%A8%EB%8F%84_%ED%9A%8C%EA%B7%80_%EB%B6%84%EC%84%9D_%EC%A4%91%EA%B0%84%EB%B3%B8.ipynb\" target=\"_parent\"><img src=\"https://colab.research.google.com/assets/colab-badge.svg\" alt=\"Open In Colab\"/></a>"
      ]
    },
    {
      "cell_type": "code",
      "execution_count": 1,
      "metadata": {
        "id": "sRkdHxpVhD5q"
      },
      "outputs": [],
      "source": [
        "import numpy as np\n",
        "altitude = np.array(\n",
        "    [-0.433155, 1.079574, 2.638519, 4.623501, 7.126587,\n",
        "    10.685129, 13.399242, 14.621283, 16.544296, 18.743357,\n",
        "    21.829630, 25.542978, 29.714117, 32.813224, 34.205818,\n",
        "    34.623686, 34.706989, 33.525600]\n",
        "     )\n",
        "temperature = np.array(\n",
        "    [23.561301, 23.510735, 23.493920, 23.484786, 23.419431,\n",
        "    23.386666, 23.325946, 23.291131, 23.284900, 23.214066,\n",
        "    23.192182, 23.189660, 23.156077, 23.085148, 23.081649,\n",
        "    23.083885, 23.051354, 22.984942]\n",
        "     )"
      ]
    },
    {
      "cell_type": "code",
      "source": [
        "import matplotlib.pyplot as plt\n",
        "plt.scatter(altitude, temperature)\n",
        "plt.xlabel('altirude')\n",
        "plt.ylabel('temperatur')\n",
        "plt.show()"
      ],
      "metadata": {
        "colab": {
          "base_uri": "https://localhost:8080/",
          "height": 279
        },
        "id": "GJjm7Pe3jB3q",
        "outputId": "16285862-dbf6-46a4-b4d3-34b8b82957d5"
      },
      "execution_count": 2,
      "outputs": [
        {
          "output_type": "display_data",
          "data": {
            "text/plain": [
              "<Figure size 432x288 with 1 Axes>"
            ],
            "image/png": "[encoded data removed]"
          },
          "metadata": {
            "needs_background": "light"
          }
        }
      ]
    }
  ]
}