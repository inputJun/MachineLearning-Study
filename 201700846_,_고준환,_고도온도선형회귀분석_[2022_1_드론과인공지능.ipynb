{
  "nbformat": 4,
  "nbformat_minor": 0,
  "metadata": {
    "colab": {
      "name": "201700846 , 고준환, 고도온도선형회귀분석 @[2022-1-드론과인공지능.ipynb",
      "provenance": [],
      "authorship_tag": "ABX9TyNNdF6nJr+tJ26qUNxX6Fpc",
      "include_colab_link": true
    },
    "kernelspec": {
      "name": "python3",
      "display_name": "Python 3"
    },
    "language_info": {
      "name": "python"
    }
  },
  "cells": [
    {
      "cell_type": "markdown",
      "metadata": {
        "id": "view-in-github",
        "colab_type": "text"
      },
      "source": [
        "<a href=\"https://colab.research.google.com/github/inputJun/MachineLearning-Study/blob/main/201700846_%2C_%EA%B3%A0%EC%A4%80%ED%99%98%2C_%EA%B3%A0%EB%8F%84%EC%98%A8%EB%8F%84%EC%84%A0%ED%98%95%ED%9A%8C%EA%B7%80%EB%B6%84%EC%84%9D_%5B2022_1_%EB%93%9C%EB%A1%A0%EA%B3%BC%EC%9D%B8%EA%B3%B5%EC%A7%80%EB%8A%A5.ipynb\" target=\"_parent\"><img src=\"https://colab.research.google.com/assets/colab-badge.svg\" alt=\"Open In Colab\"/></a>"
      ]
    },
    {
      "cell_type": "code",
      "execution_count": 1,
      "metadata": {
        "id": "g8HCaJeN_bJ9"
      },
      "outputs": [],
      "source": [
        "import numpy as np\n",
        "altitude = np.array(\n",
        "    [-0.433155, 1.079574, 2.638519, 4.623501, 7.126587,\n",
        "    10.685129, 13.399242, 14.621283, 16.544296, 18.743357,\n",
        "    21.829630, 25.542978, 29.714117, 32.813224, 34.205818,\n",
        "    34.623686, 34.706989, 33.525600]\n",
        "     )\n",
        "temperature = np.array(\n",
        "    [23.561301, 23.510735, 23.493920, 23.484786, 23.419431,\n",
        "    23.386666, 23.325946, 23.291131, 23.284900, 23.214066,\n",
        "    23.192182, 23.189660, 23.156077, 23.085148, 23.081649,\n",
        "    23.083885, 23.051354, 22.984942]\n",
        "     )"
      ]
    },
    {
      "cell_type": "code",
      "source": [
        "import matplotlib.pyplot as plt\n",
        "plt.scatter(altitude, temperature)\n",
        "plt.xlabel('altitude')\n",
        "plt.ylabel('temperature')\n",
        "plt.show()"
      ],
      "metadata": {
        "colab": {
          "base_uri": "https://localhost:8080/",
          "height": 279
        },
        "id": "b1aLx1eAB28j",
        "outputId": "b5654873-ede4-47cc-a7ab-0f27707420a7"
      },
      "execution_count": 2,
      "outputs": [
        {
          "output_type": "display_data",
          "data": {
            "text/plain": [
              "<Figure size 432x288 with 1 Axes>"
            ],
            "image/png": "[encoded data removed]"
          },
          "metadata": {
            "needs_background": "light"
          }
        }
      ]
    },
    {
      "cell_type": "code",
      "source": [
        "pre_altitude = [60, 70, 80, 90, 100, 110, 120, 130, 140, 150]"
      ],
      "metadata": {
        "id": "YULdeGWkHWoI"
      },
      "execution_count": 3,
      "outputs": []
    },
    {
      "cell_type": "code",
      "source": [
        "from sklearn.model_selection import train_test_split\n",
        "train_input, test_input, train_target, test_target = train_test_split(altitude, temperature, random_state=13)\n",
        "\n",
        "train_input = train_input.reshape(-1, 1)\n",
        "test_input = test_input.reshape(-1, 1)"
      ],
      "metadata": {
        "id": "vXU6AsLoHw0y"
      },
      "execution_count": 21,
      "outputs": []
    },
    {
      "cell_type": "code",
      "source": [
        "from sklearn.linear_model import LinearRegression\n",
        "lr = LinearRegression()\n",
        "\n",
        "lr.fit(train_input, train_target)\n",
        "print(lr.coef_, lr.intercept_)"
      ],
      "metadata": {
        "colab": {
          "base_uri": "https://localhost:8080/"
        },
        "id": "qdzi-rYpH4U7",
        "outputId": "f86c8817-96f5-4a65-e5ea-3b4acdb326e9"
      },
      "execution_count": 22,
      "outputs": [
        {
          "output_type": "stream",
          "name": "stdout",
          "text": [
            "[-0.01427449] 23.531879123491255\n"
          ]
        }
      ]
    },
    {
      "cell_type": "markdown",
      "source": [
        "**선형 회귀 분석을 사용하여 고도 60 ~ 150 미터까지에서의 온도 예측값**"
      ],
      "metadata": {
        "id": "w71djSd8KsPL"
      }
    },
    {
      "cell_type": "code",
      "source": [
        "pre_target = []\n",
        "for i in pre_altitude :\n",
        "  pre_target.extend(lr.predict([[i]]))\n",
        "\n",
        "print(pre_target)"
      ],
      "metadata": {
        "colab": {
          "base_uri": "https://localhost:8080/"
        },
        "id": "WQdOphV5JuXA",
        "outputId": "44968ab1-d301-4acc-db10-8273f06c2135"
      },
      "execution_count": 23,
      "outputs": [
        {
          "output_type": "stream",
          "name": "stdout",
          "text": [
            "[22.675409498101743, 22.532664560536823, 22.389919622971906, 22.247174685406986, 22.10442974784207, 21.96168481027715, 21.818939872712228, 21.67619493514731, 21.53344999758239, 21.390705060017474]\n"
          ]
        }
      ]
    },
    {
      "cell_type": "code",
      "source": [
        "import matplotlib.pyplot as plt\n",
        "point = np.arange(0, 160)\n",
        "plt.scatter(train_input, train_target)\n",
        "plt.scatter(pre_altitude, pre_target)\n",
        "plt.plot(point, lr.coef_*point + lr.intercept_)\n",
        "plt.xlabel('altitude')\n",
        "plt.ylabel('temperature')\n",
        "plt.show()"
      ],
      "metadata": {
        "colab": {
          "base_uri": "https://localhost:8080/",
          "height": 279
        },
        "id": "M0HWVHsAIwyc",
        "outputId": "f9063953-af69-4dbb-e9e0-eb976b411ef1"
      },
      "execution_count": 24,
      "outputs": [
        {
          "output_type": "display_data",
          "data": {
            "text/plain": [
              "<Figure size 432x288 with 1 Axes>"
            ],
            "image/png": "[encoded data removed]"
          },
          "metadata": {
            "needs_background": "light"
          }
        }
      ]
    },
    {
      "cell_type": "markdown",
      "source": [
        "**선형 회귀 분석 시 훈련/테스트 세트의 R^2 점수**"
      ],
      "metadata": {
        "id": "Rhk5NFW8NY3g"
      }
    },
    {
      "cell_type": "code",
      "source": [
        "print(lr.score(train_input, train_target))\n",
        "print(lr.score(test_input, test_target))"
      ],
      "metadata": {
        "colab": {
          "base_uri": "https://localhost:8080/"
        },
        "id": "gZHe0dqPMaDd",
        "outputId": "146a40dc-6f87-4c61-a68a-f1586c6fb21f"
      },
      "execution_count": 25,
      "outputs": [
        {
          "output_type": "stream",
          "name": "stdout",
          "text": [
            "0.9688025843609072\n",
            "0.9617227262825865\n"
          ]
        }
      ]
    }
  ]
}